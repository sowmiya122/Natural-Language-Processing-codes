{
 "cells": [
  {
   "cell_type": "markdown",
   "metadata": {},
   "source": [
    "## Lab8. Exploring POS of Large Text Files"
   ]
  },
  {
   "cell_type": "markdown",
   "metadata": {},
   "source": [
    "## Exercise 1:"
   ]
  },
  {
   "cell_type": "markdown",
   "metadata": {},
   "source": [
    "### 225229138-Sowmiya B"
   ]
  },
  {
   "cell_type": "code",
   "execution_count": 1,
   "metadata": {},
   "outputs": [
    {
     "name": "stdout",
     "output_type": "stream",
     "text": [
      "[nltk_data] Downloading package stopwords to\n",
      "[nltk_data]     C:\\Users\\1mscdsa38\\AppData\\Roaming\\nltk_data...\n",
      "[nltk_data]   Package stopwords is already up-to-date!\n"
     ]
    },
    {
     "data": {
      "text/plain": [
       "True"
      ]
     },
     "execution_count": 1,
     "metadata": {},
     "output_type": "execute_result"
    }
   ],
   "source": [
    "import nltk\n",
    "nltk.download('stopwords')"
   ]
  },
  {
   "cell_type": "code",
   "execution_count": 2,
   "metadata": {},
   "outputs": [],
   "source": [
    "import glob\n",
    "import nltk\n",
    "import pandas as pd\n",
    "from nltk import *\n",
    "import zipfile\n",
    "from nltk.corpus import stopwords\n",
    "stop_words = set (stopwords.words('english'))"
   ]
  },
  {
   "cell_type": "markdown",
   "metadata": {},
   "source": [
    "## 1.Open a Movie file"
   ]
  },
  {
   "cell_type": "code",
   "execution_count": 3,
   "metadata": {},
   "outputs": [],
   "source": [
    "file=open('12 Years a Slave.txt','r')\n",
    "a=file.read()"
   ]
  },
  {
   "cell_type": "code",
   "execution_count": 4,
   "metadata": {},
   "outputs": [
    {
     "name": "stdout",
     "output_type": "stream",
     "text": [
      "There are movies to which the critical response lags far behind the emotional one. Two days after seeing 12 Years a Slave, British director Steve McQueen’s adaptation of the 1853 memoir of a free black man kidnapped into slavery, I’m still awaiting delivery of the apparatus that would permit me to analyze it. So overpowering is this film’s simple, horrible, and almost entirely true story—and so impressive the feats of acting, cinematography, historical research, and set and costume design that conspire to bring that story to us—that it’s hard to get enough distance on 12 Years a Slave to poke at its inner workings. I want to try, though—if only because it’s that tendency to overwhelm the viewer that strikes me as this generally stunning movie’s chief flaw.\n",
      "\n",
      "One of the first observations to make about 12 Years a Slave is that it’s lushly, paradoxically gorgeous: a beautiful film about the ugliest of subjects. McQueen got his start as an experimental video artist, and his compositions and lighting choices are often exquisitely painterly. He loves to use the contemplative insert shots—often focusing on a detail from nature—known as “pillow shots”: cypress trees reflected in peach-colored bayous at sunset, caterpillars crawling over cotton bolls. The early scenes, in which Solomon Northup (Chiwetel Ejiofor) is still a free and relatively prosperous man living with his wife and two children in Saratoga Springs, N.Y., unfold in an almost gauzy glow of memory (framed by an opening scene of Solomon, now renamed “Platt,” as he works in a field of sugarcane).\n",
      "\n",
      "After Solomon, a part-time violinist, is promised a lucrative gig by two white men who run a kind of traveling circus, he’s drugged and wakes up in a brick cell in shackles. Along with some other captured blacks—some free, some not—Solomon is transported by boat to the South, where he’s sold to a series of increasingly bad masters. First comes William Ford (Benedict Cumberbatch), a pious, well-meaning hypocrite who sees no contradiction between preaching Scripture to his slaves on Sunday and forever separating a mother (Adepero Oduye) from her children. That separation happens in a starkly staged, rigorously unsentimentalized auction scene that’s one of the film’s hardest to watch, and to forget. One of Ford’s petty overseers, the loathsome Tibeats (Paul Dano, taking a little too much pleasure in his own villainy), takes a particular dislike to the initially defiant Solomon, and goads him into a fight that will result not only in Solomon’s near-fatal torture, but his sale to the cotton farmer Edwin Epps (Michael Fassbender).\n",
      "\n",
      "If Solomon is the film’s moral center, Epps is its moral black hole, an alcoholic psycho who sometimes forces his exhausted slaves to dance for him into the wee hours of the morning. (Grand Guignol as it sounds, this horrific detail is true to Northup’s narrative.) And that’s one of the nicer things he does: In darker moods, Epps is prone to chasing the people he calls “my property” around the pigsty with a knife or whipping them till the flesh flies off their backs. His sexual obsession with his beautiful young slave Patsey (the astonishing Lupita Nyong’o) means that she is subject both to near-nightly rape and to random abuse from Epps’ jealous, neglected wife (an excellent Sarah Paulson).\n",
      "\n",
      "The long stretch of the film that takes place at Epps’ plantation contains the best examples both of McQueen’s artistry and his occasional tendency to gild the lily. In this section, he explores, with remarkable attention to behavioral nuance, a rich array of social relationships governed by the institution of slavery—not just master and slave but mistress and slave, shopkeeper and slave, and most of all, slave and slave. The well-kept mistress of a neighboring plantation owner (Alfre Woodard) tries to convince Patsey that life as a sexual prisoner has its comparative advantages, ignoring the fact that Patsey’s owner both rapes her and makes her work harder than any man in the cotton fields. Later, Patsey and Solomon become close allies after she begs him to put an end to her misery by killing her, in a scene that’s as painful as it is sublimely acted. McQueen is particularly adept at exploring the intense yet guarded nature of relationships among the slaves, for whom friendship—not to speak of love—is a dangerous and necessarily transitory proposition.  \n",
      "\n",
      "But in a climactic set piece in which Solomon is forced by a gun-wielding Epps to whip Patsey nearly to death, I sometimes felt smothered by McQueen’s insistence on wallowing in the extremes of human anguish. McQueen has been accused in the past of aestheticizing suffering, a critique which seems fairer to make of his two previous features (Hunger and Shame) than of this one. Hunger, in which Michael Fassbender starves himself before our eyes as the Irish hunger striker Bobby Sands, and Shame, in which Fassbender plays a man sinking into a swamp of sex addiction, both struck me as movies with unpleasantly sadistic relationships to their audience: Let’s see how much human suffering and moral degradation you can take. When the subject matter is a historical horror on the order of slavery, McQueen’s miserablist approach would seem to make a kind of sense—but you could also argue that Solomon’s dehumanizing ordeal is powerful enough in itself to need minimal directorial underlining. And though Fassbender is electrifying as Epps—he gives a broad, kinetic, constantly menacing performance that strikes sparks off Ejiofor’s quieter, steadier one—there’s sometimes a sense that the script (by John Ridley) uses the character as an all-purpose scare machine, the red-bearded equivalent of the shark in Jaws. I was terrified of Epps, but I’m not sure I left the movie with any sense of who he was, other than the most nightmarish master imaginable. Maybe that’s all we needed to know.\n",
      "\n",
      "None of these quibbles matters, though, by the time you get to the soul-rending last scene of 12 Years a Slave, when a stunned Solomon at last comes home to his wife and now-grown children after more than a decade of hard labor and isolation, so damaged by the years he’s lost he seems scarcely able to remember what bodily autonomy feels like. It’s the unhappiest happy ending I’ve ever seen, a moment that makes you weep not just for this one man who found his way back to freedom, but for all those men and women who never knew it in the first place.\n"
     ]
    }
   ],
   "source": [
    "print(a)"
   ]
  },
  {
   "cell_type": "markdown",
   "metadata": {},
   "source": [
    "## 2.Tokenize movie file"
   ]
  },
  {
   "cell_type": "markdown",
   "metadata": {},
   "source": [
    "### a.How many sentences in the file"
   ]
  },
  {
   "cell_type": "code",
   "execution_count": 5,
   "metadata": {},
   "outputs": [
    {
     "name": "stdout",
     "output_type": "stream",
     "text": [
      "Number of sentences in the file: 31\n"
     ]
    }
   ],
   "source": [
    "sentences = nltk.sent_tokenize(a)\n",
    "sentence_count = len(sentences)\n",
    "print(f\"Number of sentences in the file: {sentence_count}\")"
   ]
  },
  {
   "cell_type": "markdown",
   "metadata": {},
   "source": [
    "### b.How many words in the file"
   ]
  },
  {
   "cell_type": "code",
   "execution_count": 6,
   "metadata": {},
   "outputs": [
    {
     "name": "stdout",
     "output_type": "stream",
     "text": [
      "Number of words in the file: 1068\n"
     ]
    }
   ],
   "source": [
    "words = a.split()\n",
    "word_count = len(words)\n",
    "print(f\"Number of words in the file: {word_count}\")"
   ]
  },
  {
   "cell_type": "markdown",
   "metadata": {},
   "source": [
    "### c.what are the top 10 words and their counts"
   ]
  },
  {
   "cell_type": "code",
   "execution_count": 7,
   "metadata": {},
   "outputs": [
    {
     "name": "stdout",
     "output_type": "stream",
     "text": [
      "Top 10 words and their counts:\n",
      "the: 45\n",
      "to: 39\n",
      "a: 38\n",
      "of: 36\n",
      "and: 27\n",
      "in: 21\n",
      "is: 16\n",
      "that: 15\n",
      "as: 12\n",
      "his: 12\n"
     ]
    }
   ],
   "source": [
    "import collections\n",
    "word_counts = collections.Counter(words)\n",
    "top_words = word_counts.most_common(10)\n",
    "print(\"Top 10 words and their counts:\")\n",
    "for word, count in top_words:\n",
    "    print(f\"{word}: {count}\")"
   ]
  },
  {
   "cell_type": "markdown",
   "metadata": {},
   "source": [
    "### d.How many different POS tags are represented in the file"
   ]
  },
  {
   "cell_type": "code",
   "execution_count": 8,
   "metadata": {},
   "outputs": [
    {
     "name": "stdout",
     "output_type": "stream",
     "text": [
      "Number of different POS tags in the file: 35\n"
     ]
    }
   ],
   "source": [
    "tagged_sentences = [nltk.pos_tag(nltk.word_tokenize(sentence)) for sentence in sentences]\n",
    "pos_tags = set([tag for sentence in tagged_sentences for _, tag in sentence])\n",
    "print(f\"Number of different POS tags in the file: {len(pos_tags)}\")"
   ]
  },
  {
   "cell_type": "markdown",
   "metadata": {},
   "source": [
    "### e.what are top 10 POS tags and their counts"
   ]
  },
  {
   "cell_type": "code",
   "execution_count": 9,
   "metadata": {},
   "outputs": [
    {
     "name": "stdout",
     "output_type": "stream",
     "text": [
      "Top 10 POS tags and their counts:\n",
      "RB: 1\n",
      ".: 1\n",
      "FW: 1\n",
      "CD: 1\n",
      "RP: 1\n",
      "VBN: 1\n",
      "CC: 1\n",
      "TO: 1\n",
      ",: 1\n",
      "RBR: 1\n"
     ]
    }
   ],
   "source": [
    "pos_tag_counts=Counter(pos_tags)\n",
    "top_pos_tags=pos_tag_counts.most_common(10)\n",
    "print(\"Top 10 POS tags and their counts:\")\n",
    "for tag,count in top_pos_tags:\n",
    "    print(f\"{tag}: {count}\")"
   ]
  },
  {
   "cell_type": "markdown",
   "metadata": {},
   "source": [
    "### f.how many nouns in the file"
   ]
  },
  {
   "cell_type": "code",
   "execution_count": 10,
   "metadata": {},
   "outputs": [
    {
     "name": "stdout",
     "output_type": "stream",
     "text": [
      "Number of nouns in the file: 235\n"
     ]
    }
   ],
   "source": [
    "nouns = [word for sentence in tagged_sentences for word,\n",
    "         tag in sentence if tag in ['NN', 'NNS']]\n",
    "num_nouns = len(nouns)\n",
    "print(f\"Number of nouns in the file: {num_nouns}\")"
   ]
  },
  {
   "cell_type": "markdown",
   "metadata": {},
   "source": [
    "### g.How many verbs in the file"
   ]
  },
  {
   "cell_type": "code",
   "execution_count": 11,
   "metadata": {},
   "outputs": [
    {
     "name": "stdout",
     "output_type": "stream",
     "text": [
      "Number of verbs in the file: 111\n"
     ]
    }
   ],
   "source": [
    "verbs = [word for sentence in tagged_sentences for word, \n",
    "         tag in sentence if tag in ['VB', 'VBD', 'VBG', 'VBN', 'VBP']]\n",
    "num_verbs = len(verbs)\n",
    "print(f\"Number of verbs in the file: {num_verbs}\")"
   ]
  },
  {
   "cell_type": "markdown",
   "metadata": {},
   "source": [
    "### h.How many adjectives in the file"
   ]
  },
  {
   "cell_type": "code",
   "execution_count": 12,
   "metadata": {},
   "outputs": [
    {
     "name": "stdout",
     "output_type": "stream",
     "text": [
      "Number of adjectives in the file: 124\n"
     ]
    }
   ],
   "source": [
    "adjectives = [word for sentence in tagged_sentences for word, \n",
    "              tag in sentence if tag in ['JJ', 'JJR']]\n",
    "num_adjectives = len(adjectives)\n",
    "print(f\"Number of adjectives in the file: {num_adjectives}\")"
   ]
  },
  {
   "cell_type": "markdown",
   "metadata": {},
   "source": [
    "### i.How many adverbs in the file"
   ]
  },
  {
   "cell_type": "code",
   "execution_count": 13,
   "metadata": {},
   "outputs": [
    {
     "name": "stdout",
     "output_type": "stream",
     "text": [
      "Number of adverbs in the file: 55\n"
     ]
    }
   ],
   "source": [
    "adverbs = [word for sentence in tagged_sentences for word, \n",
    "           tag in sentence if tag in ['RB', 'RBR']]\n",
    "num_adverbs = len(adverbs)\n",
    "print(f\"Number of adverbs in the file: {num_adverbs}\")"
   ]
  },
  {
   "cell_type": "markdown",
   "metadata": {},
   "source": [
    "### j.What is the most frequent adverb"
   ]
  },
  {
   "cell_type": "code",
   "execution_count": 14,
   "metadata": {},
   "outputs": [
    {
     "name": "stdout",
     "output_type": "stream",
     "text": [
      "The most frequent adverb in the file is 'not', which appears 3 times.\n"
     ]
    }
   ],
   "source": [
    "adverb_counts = Counter(adverbs)\n",
    "most_frequent_adverb, count = adverb_counts.most_common(1)[0]\n",
    "print(f\"The most frequent adverb in the file is'{most_frequent_adverb}', \n",
    "      which appears {count} times.\")"
   ]
  },
  {
   "cell_type": "markdown",
   "metadata": {},
   "source": [
    "### k.What is the most frequent adjective"
   ]
  },
  {
   "cell_type": "code",
   "execution_count": 15,
   "metadata": {},
   "outputs": [
    {
     "name": "stdout",
     "output_type": "stream",
     "text": [
      "The most frequent adjective in the file is 's', which appears 5 times.\n"
     ]
    }
   ],
   "source": [
    "adjective_counts = Counter(adjectives)\n",
    "most_frequent_adjective, count = adjective_counts.most_common(1)[0]\n",
    "print(f\"The most frequent adjective in the file is '{most_frequent_adjective}', \n",
    "      which appears {count} times.\")"
   ]
  },
  {
   "cell_type": "code",
   "execution_count": null,
   "metadata": {},
   "outputs": [],
   "source": []
  }
 ],
 "metadata": {
  "kernelspec": {
   "display_name": "Python 3 (ipykernel)",
   "language": "python",
   "name": "python3"
  },
  "language_info": {
   "codemirror_mode": {
    "name": "ipython",
    "version": 3
   },
   "file_extension": ".py",
   "mimetype": "text/x-python",
   "name": "python",
   "nbconvert_exporter": "python",
   "pygments_lexer": "ipython3",
   "version": "3.9.12"
  }
 },
 "nbformat": 4,
 "nbformat_minor": 2
}
