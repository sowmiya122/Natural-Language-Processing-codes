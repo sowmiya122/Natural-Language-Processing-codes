{
 "cells": [
  {
   "cell_type": "markdown",
   "metadata": {},
   "source": [
    "## Lab9.Building Bigram Tagger"
   ]
  },
  {
   "cell_type": "markdown",
   "metadata": {},
   "source": [
    "### 225229138-Sowmiya B"
   ]
  },
  {
   "cell_type": "markdown",
   "metadata": {},
   "source": [
    "## Exercise-1:"
   ]
  },
  {
   "cell_type": "code",
   "execution_count": 1,
   "metadata": {},
   "outputs": [
    {
     "name": "stdout",
     "output_type": "stream",
     "text": [
      "[nltk_data] Downloading package punkt to\n",
      "[nltk_data]     C:\\Users\\1mscdsa38\\AppData\\Roaming\\nltk_data...\n",
      "[nltk_data]   Package punkt is already up-to-date!\n"
     ]
    },
    {
     "data": {
      "text/plain": [
       "True"
      ]
     },
     "execution_count": 1,
     "metadata": {},
     "output_type": "execute_result"
    }
   ],
   "source": [
    "import nltk\n",
    "nltk.download('punkt') "
   ]
  },
  {
   "cell_type": "code",
   "execution_count": 2,
   "metadata": {},
   "outputs": [
    {
     "name": "stdout",
     "output_type": "stream",
     "text": [
      "[('And', 'CC'), ('now', 'RB'), ('for', 'IN'), ('something', 'NN'), ('completely', 'RB'), ('different', 'JJ')]\n"
     ]
    }
   ],
   "source": [
    "text = \"And now for something completely different\"\n",
    "tagged_words = nltk.pos_tag(nltk.word_tokenize(text))\n",
    "print(tagged_words)"
   ]
  },
  {
   "cell_type": "markdown",
   "metadata": {},
   "source": [
    "### Question : Find Expansion"
   ]
  },
  {
   "cell_type": "raw",
   "metadata": {},
   "source": [
    "In the context of Part-of-Speech (POS) tagging, here are the expansions of the POS tags used in the previous example:\n",
    "\n",
    "CC: Coordinating conjunction\n",
    "RB: Adverb\n",
    "IN: Preposition or subordinating conjunction\n",
    "NN: Noun, singular or mass\n",
    "JJ: Adjective"
   ]
  },
  {
   "cell_type": "markdown",
   "metadata": {},
   "source": [
    "## Exercise-2:"
   ]
  },
  {
   "cell_type": "code",
   "execution_count": 3,
   "metadata": {},
   "outputs": [
    {
     "name": "stdout",
     "output_type": "stream",
     "text": [
      "[nltk_data] Downloading package brown to\n",
      "[nltk_data]     C:\\Users\\1mscdsa38\\AppData\\Roaming\\nltk_data...\n",
      "[nltk_data]   Package brown is already up-to-date!\n"
     ]
    },
    {
     "data": {
      "text/plain": [
       "True"
      ]
     },
     "execution_count": 3,
     "metadata": {},
     "output_type": "execute_result"
    }
   ],
   "source": [
    "import nltk\n",
    "nltk.download('brown')"
   ]
  },
  {
   "cell_type": "code",
   "execution_count": 4,
   "metadata": {},
   "outputs": [
    {
     "data": {
      "text/plain": [
       "[[('The', 'AT'), ('Fulton', 'NP-TL'), ('County', 'NN-TL'), ('Grand', 'JJ-TL'), ('Jury', 'NN-TL'), ('said', 'VBD'), ('Friday', 'NR'), ('an', 'AT'), ('investigation', 'NN'), ('of', 'IN'), (\"Atlanta's\", 'NP$'), ('recent', 'JJ'), ('primary', 'NN'), ('election', 'NN'), ('produced', 'VBD'), ('``', '``'), ('no', 'AT'), ('evidence', 'NN'), (\"''\", \"''\"), ('that', 'CS'), ('any', 'DTI'), ('irregularities', 'NNS'), ('took', 'VBD'), ('place', 'NN'), ('.', '.')], [('The', 'AT'), ('jury', 'NN'), ('further', 'RBR'), ('said', 'VBD'), ('in', 'IN'), ('term-end', 'NN'), ('presentments', 'NNS'), ('that', 'CS'), ('the', 'AT'), ('City', 'NN-TL'), ('Executive', 'JJ-TL'), ('Committee', 'NN-TL'), (',', ','), ('which', 'WDT'), ('had', 'HVD'), ('over-all', 'JJ'), ('charge', 'NN'), ('of', 'IN'), ('the', 'AT'), ('election', 'NN'), (',', ','), ('``', '``'), ('deserves', 'VBZ'), ('the', 'AT'), ('praise', 'NN'), ('and', 'CC'), ('thanks', 'NNS'), ('of', 'IN'), ('the', 'AT'), ('City', 'NN-TL'), ('of', 'IN-TL'), ('Atlanta', 'NP-TL'), (\"''\", \"''\"), ('for', 'IN'), ('the', 'AT'), ('manner', 'NN'), ('in', 'IN'), ('which', 'WDT'), ('the', 'AT'), ('election', 'NN'), ('was', 'BEDZ'), ('conducted', 'VBN'), ('.', '.')], ...]"
      ]
     },
     "execution_count": 4,
     "metadata": {},
     "output_type": "execute_result"
    }
   ],
   "source": [
    "from nltk.corpus import brown\n",
    "tagsen=brown.tagged_sents()\n",
    "tagsen"
   ]
  },
  {
   "cell_type": "markdown",
   "metadata": {},
   "source": [
    "### Step 1: Prepare data sets"
   ]
  },
  {
   "cell_type": "code",
   "execution_count": 5,
   "metadata": {},
   "outputs": [
    {
     "data": {
      "text/plain": [
       "57340"
      ]
     },
     "execution_count": 5,
     "metadata": {},
     "output_type": "execute_result"
    }
   ],
   "source": [
    "len(tagsen)"
   ]
  },
  {
   "cell_type": "code",
   "execution_count": 6,
   "metadata": {},
   "outputs": [],
   "source": [
    "br_train=tagsen[:50000]\n",
    "br_test=tagsen[50000:]"
   ]
  },
  {
   "cell_type": "code",
   "execution_count": 7,
   "metadata": {},
   "outputs": [
    {
     "data": {
      "text/plain": [
       "[('I', 'PPSS'),\n",
       " ('was', 'BEDZ'),\n",
       " ('loaded', 'VBN'),\n",
       " ('with', 'IN'),\n",
       " ('suds', 'NNS'),\n",
       " ('when', 'WRB'),\n",
       " ('I', 'PPSS'),\n",
       " ('ran', 'VBD'),\n",
       " ('away', 'RB'),\n",
       " (',', ','),\n",
       " ('and', 'CC'),\n",
       " ('I', 'PPSS'),\n",
       " (\"haven't\", 'HV*'),\n",
       " ('had', 'HVN'),\n",
       " ('a', 'AT'),\n",
       " ('chance', 'NN'),\n",
       " ('to', 'TO'),\n",
       " ('wash', 'VB'),\n",
       " ('it', 'PPO'),\n",
       " ('off', 'RP'),\n",
       " ('.', '.')]"
      ]
     },
     "execution_count": 7,
     "metadata": {},
     "output_type": "execute_result"
    }
   ],
   "source": [
    "br_test[0]"
   ]
  },
  {
   "cell_type": "markdown",
   "metadata": {},
   "source": [
    "### Step 2: Build a bigram tagger"
   ]
  },
  {
   "cell_type": "code",
   "execution_count": 8,
   "metadata": {},
   "outputs": [],
   "source": [
    "default_tagger = nltk.DefaultTagger('NN')\n",
    "unigram_tagger = nltk.UnigramTagger(br_train, backoff=default_tagger)\n",
    "bigram_tagger = nltk.BigramTagger(br_train, backoff=unigram_tagger)"
   ]
  },
  {
   "cell_type": "markdown",
   "metadata": {},
   "source": [
    "### Step 3: Evaluate"
   ]
  },
  {
   "cell_type": "code",
   "execution_count": 9,
   "metadata": {},
   "outputs": [
    {
     "name": "stdout",
     "output_type": "stream",
     "text": [
      "Bigram tagger accuracy: 0.9111006662708622\n"
     ]
    }
   ],
   "source": [
    "accuracy = bigram_tagger.evaluate(br_test)\n",
    "print(\"Bigram tagger accuracy:\", accuracy)"
   ]
  },
  {
   "cell_type": "markdown",
   "metadata": {},
   "source": [
    "### Step 4: Explore"
   ]
  },
  {
   "cell_type": "markdown",
   "metadata": {},
   "source": [
    "#### ques 1:"
   ]
  },
  {
   "cell_type": "code",
   "execution_count": 10,
   "metadata": {},
   "outputs": [
    {
     "data": {
      "text/plain": [
       "1039920"
      ]
     },
     "execution_count": 10,
     "metadata": {},
     "output_type": "execute_result"
    }
   ],
   "source": [
    "total_train = [len(l) for l in br_train]\n",
    "sum(total_train)"
   ]
  },
  {
   "cell_type": "code",
   "execution_count": 11,
   "metadata": {},
   "outputs": [
    {
     "data": {
      "text/plain": [
       "121272"
      ]
     },
     "execution_count": 11,
     "metadata": {},
     "output_type": "execute_result"
    }
   ],
   "source": [
    "total_test = [len(l) for l in br_test]\n",
    "sum(total_test)"
   ]
  },
  {
   "cell_type": "markdown",
   "metadata": {},
   "source": [
    "#### ques 2:"
   ]
  },
  {
   "cell_type": "code",
   "execution_count": 12,
   "metadata": {},
   "outputs": [
    {
     "data": {
      "text/plain": [
       "0.8897849462365591"
      ]
     },
     "execution_count": 12,
     "metadata": {},
     "output_type": "execute_result"
    }
   ],
   "source": [
    "unigram_tagger.evaluate(br_test)"
   ]
  },
  {
   "cell_type": "code",
   "execution_count": 13,
   "metadata": {},
   "outputs": [
    {
     "data": {
      "text/plain": [
       "0.9111006662708622"
      ]
     },
     "execution_count": 13,
     "metadata": {},
     "output_type": "execute_result"
    }
   ],
   "source": [
    "bigram_tagger.evaluate(br_test)"
   ]
  },
  {
   "cell_type": "markdown",
   "metadata": {},
   "source": [
    "#### ques 3:"
   ]
  },
  {
   "cell_type": "code",
   "execution_count": 14,
   "metadata": {},
   "outputs": [
    {
     "data": {
      "text/plain": [
       "[('The', 'AT'),\n",
       " ('Fulton', 'NP-TL'),\n",
       " ('County', 'NN-TL'),\n",
       " ('Grand', 'JJ-TL'),\n",
       " ('Jury', 'NN-TL'),\n",
       " ('said', 'VBD'),\n",
       " ('Friday', 'NR'),\n",
       " ('an', 'AT'),\n",
       " ('investigation', 'NN'),\n",
       " ('of', 'IN'),\n",
       " (\"Atlanta's\", 'NP$'),\n",
       " ('recent', 'JJ'),\n",
       " ('primary', 'NN'),\n",
       " ('election', 'NN'),\n",
       " ('produced', 'VBD'),\n",
       " ('``', '``'),\n",
       " ('no', 'AT'),\n",
       " ('evidence', 'NN'),\n",
       " (\"''\", \"''\"),\n",
       " ('that', 'CS'),\n",
       " ('any', 'DTI'),\n",
       " ('irregularities', 'NNS'),\n",
       " ('took', 'VBD'),\n",
       " ('place', 'NN'),\n",
       " ('.', '.')]"
      ]
     },
     "execution_count": 14,
     "metadata": {},
     "output_type": "execute_result"
    }
   ],
   "source": [
    "br_train[0]"
   ]
  },
  {
   "cell_type": "code",
   "execution_count": 15,
   "metadata": {},
   "outputs": [
    {
     "data": {
      "text/plain": [
       "[('``', '``'),\n",
       " ('I', 'PPSS'),\n",
       " ('told', 'VBD'),\n",
       " ('him', 'PPO'),\n",
       " ('who', 'WPS'),\n",
       " ('I', 'PPSS'),\n",
       " ('was', 'BEDZ'),\n",
       " ('and', 'CC'),\n",
       " ('he', 'PPS'),\n",
       " ('was', 'BEDZ'),\n",
       " ('quite', 'QL'),\n",
       " ('cold', 'JJ'),\n",
       " ('.', '.')]"
      ]
     },
     "execution_count": 15,
     "metadata": {},
     "output_type": "execute_result"
    }
   ],
   "source": [
    "br_train[1277]"
   ]
  },
  {
   "cell_type": "code",
   "execution_count": 16,
   "metadata": {},
   "outputs": [
    {
     "data": {
      "text/plain": [
       "('cold', 'JJ')"
      ]
     },
     "execution_count": 16,
     "metadata": {},
     "output_type": "execute_result"
    }
   ],
   "source": [
    "br_train[1277][11]"
   ]
  },
  {
   "cell_type": "markdown",
   "metadata": {},
   "source": [
    "#### ques 4:"
   ]
  },
  {
   "cell_type": "code",
   "execution_count": 17,
   "metadata": {},
   "outputs": [],
   "source": [
    "br_train_flat = [(word, tag) for sent in br_train for (word, tag) in sent]"
   ]
  },
  {
   "cell_type": "code",
   "execution_count": 18,
   "metadata": {},
   "outputs": [
    {
     "data": {
      "text/plain": [
       "[('The', 'AT'),\n",
       " ('Fulton', 'NP-TL'),\n",
       " ('County', 'NN-TL'),\n",
       " ('Grand', 'JJ-TL'),\n",
       " ('Jury', 'NN-TL'),\n",
       " ('said', 'VBD'),\n",
       " ('Friday', 'NR'),\n",
       " ('an', 'AT'),\n",
       " ('investigation', 'NN'),\n",
       " ('of', 'IN'),\n",
       " (\"Atlanta's\", 'NP$'),\n",
       " ('recent', 'JJ'),\n",
       " ('primary', 'NN'),\n",
       " ('election', 'NN'),\n",
       " ('produced', 'VBD'),\n",
       " ('``', '``'),\n",
       " ('no', 'AT'),\n",
       " ('evidence', 'NN'),\n",
       " (\"''\", \"''\"),\n",
       " ('that', 'CS'),\n",
       " ('any', 'DTI'),\n",
       " ('irregularities', 'NNS'),\n",
       " ('took', 'VBD'),\n",
       " ('place', 'NN'),\n",
       " ('.', '.'),\n",
       " ('The', 'AT'),\n",
       " ('jury', 'NN'),\n",
       " ('further', 'RBR'),\n",
       " ('said', 'VBD'),\n",
       " ('in', 'IN'),\n",
       " ('term-end', 'NN'),\n",
       " ('presentments', 'NNS'),\n",
       " ('that', 'CS'),\n",
       " ('the', 'AT'),\n",
       " ('City', 'NN-TL'),\n",
       " ('Executive', 'JJ-TL'),\n",
       " ('Committee', 'NN-TL'),\n",
       " (',', ','),\n",
       " ('which', 'WDT'),\n",
       " ('had', 'HVD')]"
      ]
     },
     "execution_count": 18,
     "metadata": {},
     "output_type": "execute_result"
    }
   ],
   "source": [
    "br_train_flat[:40]"
   ]
  },
  {
   "cell_type": "code",
   "execution_count": 19,
   "metadata": {},
   "outputs": [
    {
     "data": {
      "text/plain": [
       "('election', 'NN')"
      ]
     },
     "execution_count": 19,
     "metadata": {},
     "output_type": "execute_result"
    }
   ],
   "source": [
    "br_train_flat[13]"
   ]
  },
  {
   "cell_type": "markdown",
   "metadata": {},
   "source": [
    "#### ques 5:"
   ]
  },
  {
   "cell_type": "markdown",
   "metadata": {},
   "source": [
    "#### a)"
   ]
  },
  {
   "cell_type": "code",
   "execution_count": 20,
   "metadata": {},
   "outputs": [],
   "source": [
    "fd = nltk.FreqDist(br_train_flat)\n",
    "cfd = nltk.ConditionalFreqDist(br_train_flat)"
   ]
  },
  {
   "cell_type": "code",
   "execution_count": 21,
   "metadata": {},
   "outputs": [
    {
     "data": {
      "text/plain": [
       "[('JJ', 110), ('NN', 8), ('RB', 2)]"
      ]
     },
     "execution_count": 21,
     "metadata": {},
     "output_type": "execute_result"
    }
   ],
   "source": [
    "cfd['cold'].most_common()"
   ]
  },
  {
   "cell_type": "markdown",
   "metadata": {},
   "source": [
    "#### b)"
   ]
  },
  {
   "cell_type": "code",
   "execution_count": 22,
   "metadata": {},
   "outputs": [
    {
     "data": {
      "text/plain": [
       "['AT',\n",
       " 'IN',\n",
       " 'CC',\n",
       " 'QL',\n",
       " 'BEDZ',\n",
       " 'JJ',\n",
       " ',',\n",
       " 'DT',\n",
       " 'PP$',\n",
       " 'RP',\n",
       " '``',\n",
       " 'NN',\n",
       " 'VBN',\n",
       " 'VBD',\n",
       " 'CS',\n",
       " 'BEZ',\n",
       " 'DOZ',\n",
       " 'RB',\n",
       " 'PPSS',\n",
       " 'BE',\n",
       " 'VB',\n",
       " 'VBZ',\n",
       " 'NP$',\n",
       " 'BEDZ*',\n",
       " '--',\n",
       " 'DTI',\n",
       " 'WRB',\n",
       " 'BED']"
      ]
     },
     "execution_count": 22,
     "metadata": {},
     "output_type": "execute_result"
    }
   ],
   "source": [
    "br_train_2grams = list(nltk.ngrams(br_train_flat, 2))\n",
    "br_train_cold = [a[1] for (a,b) in br_train_2grams if b[0] == 'cold']\n",
    "fdist = nltk.FreqDist(br_train_cold)\n",
    "[tag for (tag, _) in fdist.most_common()]"
   ]
  },
  {
   "cell_type": "markdown",
   "metadata": {},
   "source": [
    "#### c)"
   ]
  },
  {
   "cell_type": "code",
   "execution_count": 23,
   "metadata": {},
   "outputs": [
    {
     "data": {
      "text/plain": [
       "[('Fulton/NP-TL', 'AT'),\n",
       " ('County/NN-TL', 'NP-TL'),\n",
       " ('Grand/JJ-TL', 'NN-TL'),\n",
       " ('Jury/NN-TL', 'JJ-TL'),\n",
       " ('said/VBD', 'NN-TL'),\n",
       " ('Friday/NR', 'VBD'),\n",
       " ('an/AT', 'NR'),\n",
       " ('investigation/NN', 'AT'),\n",
       " ('of/IN', 'NN'),\n",
       " (\"Atlanta's/NP$\", 'IN'),\n",
       " ('recent/JJ', 'NP$'),\n",
       " ('primary/NN', 'JJ'),\n",
       " ('election/NN', 'NN'),\n",
       " ('produced/VBD', 'NN'),\n",
       " ('``/``', 'VBD'),\n",
       " ('no/AT', '``'),\n",
       " ('evidence/NN', 'AT'),\n",
       " (\"''/''\", 'NN'),\n",
       " ('that/CS', \"''\"),\n",
       " ('any/DTI', 'CS'),\n",
       " ('irregularities/NNS', 'DTI'),\n",
       " ('took/VBD', 'NNS'),\n",
       " ('place/NN', 'VBD'),\n",
       " ('./.', 'NN'),\n",
       " ('The/AT', '.'),\n",
       " ('jury/NN', 'AT'),\n",
       " ('further/RBR', 'NN'),\n",
       " ('said/VBD', 'RBR'),\n",
       " ('in/IN', 'VBD'),\n",
       " ('term-end/NN', 'IN'),\n",
       " ('presentments/NNS', 'NN'),\n",
       " ('that/CS', 'NNS'),\n",
       " ('the/AT', 'CS'),\n",
       " ('City/NN-TL', 'AT'),\n",
       " ('Executive/JJ-TL', 'NN-TL'),\n",
       " ('Committee/NN-TL', 'JJ-TL'),\n",
       " (',/,', 'NN-TL'),\n",
       " ('which/WDT', ','),\n",
       " ('had/HVD', 'WDT'),\n",
       " ('over-all/JJ', 'HVD'),\n",
       " ('charge/NN', 'JJ'),\n",
       " ('of/IN', 'NN'),\n",
       " ('the/AT', 'IN'),\n",
       " ('election/NN', 'AT'),\n",
       " (',/,', 'NN'),\n",
       " ('``/``', ','),\n",
       " ('deserves/VBZ', '``'),\n",
       " ('the/AT', 'VBZ'),\n",
       " ('praise/NN', 'AT'),\n",
       " ('and/CC', 'NN'),\n",
       " ('thanks/NNS', 'CC'),\n",
       " ('of/IN', 'NNS'),\n",
       " ('the/AT', 'IN'),\n",
       " ('City/NN-TL', 'AT'),\n",
       " ('of/IN-TL', 'NN-TL'),\n",
       " ('Atlanta/NP-TL', 'IN-TL'),\n",
       " (\"''/''\", 'NP-TL'),\n",
       " ('for/IN', \"''\"),\n",
       " ('the/AT', 'IN'),\n",
       " ('manner/NN', 'AT'),\n",
       " ('in/IN', 'NN'),\n",
       " ('which/WDT', 'IN'),\n",
       " ('the/AT', 'WDT'),\n",
       " ('election/NN', 'AT'),\n",
       " ('was/BEDZ', 'NN'),\n",
       " ('conducted/VBN', 'BEDZ'),\n",
       " ('./.', 'VBN'),\n",
       " ('The/AT', '.'),\n",
       " ('September-October/NP', 'AT'),\n",
       " ('term/NN', 'NP'),\n",
       " ('jury/NN', 'NN'),\n",
       " ('had/HVD', 'NN'),\n",
       " ('been/BEN', 'HVD'),\n",
       " ('charged/VBN', 'BEN'),\n",
       " ('by/IN', 'VBN'),\n",
       " ('Fulton/NP-TL', 'IN'),\n",
       " ('Superior/JJ-TL', 'NP-TL'),\n",
       " ('Court/NN-TL', 'JJ-TL'),\n",
       " ('Judge/NN-TL', 'NN-TL'),\n",
       " ('Durwood/NP', 'NN-TL'),\n",
       " ('Pye/NP', 'NP'),\n",
       " ('to/TO', 'NP'),\n",
       " ('investigate/VB', 'TO'),\n",
       " ('reports/NNS', 'VB'),\n",
       " ('of/IN', 'NNS'),\n",
       " ('possible/JJ', 'IN'),\n",
       " ('``/``', 'JJ'),\n",
       " ('irregularities/NNS', '``'),\n",
       " (\"''/''\", 'NNS'),\n",
       " ('in/IN', \"''\"),\n",
       " ('the/AT', 'IN'),\n",
       " ('hard-fought/JJ', 'AT'),\n",
       " ('primary/NN', 'JJ'),\n",
       " ('which/WDT', 'NN'),\n",
       " ('was/BEDZ', 'WDT'),\n",
       " ('won/VBN', 'BEDZ'),\n",
       " ('by/IN', 'VBN'),\n",
       " ('Mayor-nominate/NN-TL', 'IN'),\n",
       " ('Ivan/NP', 'NN-TL'),\n",
       " ('Allen/NP', 'NP'),\n",
       " ('Jr./NP', 'NP'),\n",
       " ('./.', 'NP'),\n",
       " ('``/``', '.'),\n",
       " ('Only/RB', '``'),\n",
       " ('a/AT', 'RB'),\n",
       " ('relative/JJ', 'AT'),\n",
       " ('handful/NN', 'JJ'),\n",
       " ('of/IN', 'NN'),\n",
       " ('such/JJ', 'IN'),\n",
       " ('reports/NNS', 'JJ'),\n",
       " ('was/BEDZ', 'NNS'),\n",
       " ('received/VBN', 'BEDZ'),\n",
       " (\"''/''\", 'VBN'),\n",
       " (',/,', \"''\"),\n",
       " ('the/AT', ','),\n",
       " ('jury/NN', 'AT'),\n",
       " ('said/VBD', 'NN'),\n",
       " (',/,', 'VBD'),\n",
       " ('``/``', ','),\n",
       " ('considering/IN', '``'),\n",
       " ('the/AT', 'IN'),\n",
       " ('widespread/JJ', 'AT'),\n",
       " ('interest/NN', 'JJ'),\n",
       " ('in/IN', 'NN'),\n",
       " ('the/AT', 'IN'),\n",
       " ('election/NN', 'AT'),\n",
       " (',/,', 'NN'),\n",
       " ('the/AT', ','),\n",
       " ('number/NN', 'AT'),\n",
       " ('of/IN', 'NN'),\n",
       " ('voters/NNS', 'IN'),\n",
       " ('and/CC', 'NNS'),\n",
       " ('the/AT', 'CC'),\n",
       " ('size/NN', 'AT'),\n",
       " ('of/IN', 'NN'),\n",
       " ('this/DT', 'IN'),\n",
       " ('city/NN', 'DT'),\n",
       " (\"''/''\", 'NN'),\n",
       " ('./.', \"''\"),\n",
       " ('The/AT', '.'),\n",
       " ('jury/NN', 'AT'),\n",
       " ('said/VBD', 'NN'),\n",
       " ('it/PPS', 'VBD'),\n",
       " ('did/DOD', 'PPS'),\n",
       " ('find/VB', 'DOD'),\n",
       " ('that/CS', 'VB'),\n",
       " ('many/AP', 'CS'),\n",
       " ('of/IN', 'AP'),\n",
       " (\"Georgia's/NP$\", 'IN'),\n",
       " ('registration/NN', 'NP$'),\n",
       " ('and/CC', 'NN'),\n",
       " ('election/NN', 'CC'),\n",
       " ('laws/NNS', 'NN'),\n",
       " ('``/``', 'NNS'),\n",
       " ('are/BER', '``'),\n",
       " ('outmoded/JJ', 'BER'),\n",
       " ('or/CC', 'JJ'),\n",
       " ('inadequate/JJ', 'CC'),\n",
       " ('and/CC', 'JJ'),\n",
       " ('often/RB', 'CC'),\n",
       " ('ambiguous/JJ', 'RB'),\n",
       " (\"''/''\", 'JJ'),\n",
       " ('./.', \"''\"),\n",
       " ('It/PPS', '.'),\n",
       " ('recommended/VBD', 'PPS'),\n",
       " ('that/CS', 'VBD'),\n",
       " ('Fulton/NP', 'CS'),\n",
       " ('legislators/NNS', 'NP'),\n",
       " ('act/VB', 'NNS'),\n",
       " ('``/``', 'VB'),\n",
       " ('to/TO', '``'),\n",
       " ('have/HV', 'TO'),\n",
       " ('these/DTS', 'HV'),\n",
       " ('laws/NNS', 'DTS'),\n",
       " ('studied/VBN', 'NNS'),\n",
       " ('and/CC', 'VBN'),\n",
       " ('revised/VBN', 'CC'),\n",
       " ('to/IN', 'VBN'),\n",
       " ('the/AT', 'IN'),\n",
       " ('end/NN', 'AT'),\n",
       " ('of/IN', 'NN'),\n",
       " ('modernizing/VBG', 'IN'),\n",
       " ('and/CC', 'VBG'),\n",
       " ('improving/VBG', 'CC'),\n",
       " ('them/PPO', 'VBG'),\n",
       " (\"''/''\", 'PPO'),\n",
       " ('./.', \"''\"),\n",
       " ('The/AT', '.'),\n",
       " ('grand/JJ', 'AT'),\n",
       " ('jury/NN', 'JJ'),\n",
       " ('commented/VBD', 'NN'),\n",
       " ('on/IN', 'VBD'),\n",
       " ('a/AT', 'IN'),\n",
       " ('number/NN', 'AT'),\n",
       " ('of/IN', 'NN'),\n",
       " ('other/AP', 'IN'),\n",
       " ('topics/NNS', 'AP'),\n",
       " (',/,', 'NNS'),\n",
       " ('among/IN', ','),\n",
       " ('them/PPO', 'IN'),\n",
       " ('the/AT', 'PPO'),\n",
       " ('Atlanta/NP', 'AT'),\n",
       " ('and/CC', 'NP'),\n",
       " ('Fulton/NP-TL', 'CC'),\n",
       " ('County/NN-TL', 'NP-TL'),\n",
       " ('purchasing/VBG', 'NN-TL'),\n",
       " ('departments/NNS', 'VBG'),\n",
       " ('which/WDT', 'NNS'),\n",
       " ('it/PPS', 'WDT'),\n",
       " ('said/VBD', 'PPS'),\n",
       " ('``/``', 'VBD'),\n",
       " ('are/BER', '``'),\n",
       " ('well/QL', 'BER'),\n",
       " ('operated/VBN', 'QL'),\n",
       " ('and/CC', 'VBN'),\n",
       " ('follow/VB', 'CC'),\n",
       " ('generally/RB', 'VB'),\n",
       " ('accepted/VBN', 'RB'),\n",
       " ('practices/NNS', 'VBN'),\n",
       " ('which/WDT', 'NNS'),\n",
       " ('inure/VB', 'WDT'),\n",
       " ('to/IN', 'VB'),\n",
       " ('the/AT', 'IN'),\n",
       " ('best/JJT', 'AT'),\n",
       " ('interest/NN', 'JJT'),\n",
       " ('of/IN', 'NN'),\n",
       " ('both/ABX', 'IN'),\n",
       " ('governments/NNS', 'ABX'),\n",
       " (\"''/''\", 'NNS'),\n",
       " ('./.', \"''\"),\n",
       " ('Merger/NN-HL', '.'),\n",
       " ('proposed/VBN-HL', 'NN-HL'),\n",
       " ('However/WRB', 'VBN-HL'),\n",
       " (',/,', 'WRB'),\n",
       " ('the/AT', ','),\n",
       " ('jury/NN', 'AT'),\n",
       " ('said/VBD', 'NN'),\n",
       " ('it/PPS', 'VBD'),\n",
       " ('believes/VBZ', 'PPS'),\n",
       " ('``/``', 'VBZ'),\n",
       " ('these/DTS', '``'),\n",
       " ('two/CD', 'DTS'),\n",
       " ('offices/NNS', 'CD'),\n",
       " ('should/MD', 'NNS'),\n",
       " ('be/BE', 'MD'),\n",
       " ('combined/VBN', 'BE'),\n",
       " ('to/TO', 'VBN'),\n",
       " ('achieve/VB', 'TO'),\n",
       " ('greater/JJR', 'VB'),\n",
       " ('efficiency/NN', 'JJR'),\n",
       " ('and/CC', 'NN'),\n",
       " ('reduce/VB', 'CC'),\n",
       " ('the/AT', 'VB'),\n",
       " ('cost/NN', 'AT'),\n",
       " ('of/IN', 'NN'),\n",
       " ('administration/NN', 'IN'),\n",
       " (\"''/''\", 'NN'),\n",
       " ('./.', \"''\"),\n",
       " ('The/AT', '.'),\n",
       " ('City/NN-TL', 'AT'),\n",
       " ('Purchasing/VBG-TL', 'NN-TL'),\n",
       " ('Department/NN-TL', 'VBG-TL'),\n",
       " (',/,', 'NN-TL'),\n",
       " ('the/AT', ','),\n",
       " ('jury/NN', 'AT'),\n",
       " ('said/VBD', 'NN'),\n",
       " (',/,', 'VBD'),\n",
       " ('``/``', ','),\n",
       " ('is/BEZ', '``'),\n",
       " ('lacking/VBG', 'BEZ'),\n",
       " ('in/IN', 'VBG'),\n",
       " ('experienced/VBN', 'IN'),\n",
       " ('clerical/JJ', 'VBN'),\n",
       " ('personnel/NNS', 'JJ'),\n",
       " ('as/CS', 'NNS'),\n",
       " ('a/AT', 'CS'),\n",
       " ('result/NN', 'AT'),\n",
       " ('of/IN', 'NN'),\n",
       " ('city/NN', 'IN'),\n",
       " ('personnel/NNS', 'NN'),\n",
       " ('policies/NNS', 'NNS'),\n",
       " (\"''/''\", 'NNS'),\n",
       " ('./.', \"''\"),\n",
       " ('It/PPS', '.'),\n",
       " ('urged/VBD', 'PPS'),\n",
       " ('that/CS', 'VBD'),\n",
       " ('the/AT', 'CS'),\n",
       " ('city/NN', 'AT'),\n",
       " ('``/``', 'NN'),\n",
       " ('take/VB', '``'),\n",
       " ('steps/NNS', 'VB'),\n",
       " ('to/TO', 'NNS'),\n",
       " ('remedy/VB', 'TO'),\n",
       " (\"''/''\", 'VB'),\n",
       " ('this/DT', \"''\"),\n",
       " ('problem/NN', 'DT'),\n",
       " ('./.', 'NN'),\n",
       " ('Implementation/NN', '.'),\n",
       " ('of/IN', 'NN'),\n",
       " (\"Georgia's/NP$\", 'IN'),\n",
       " ('automobile/NN', 'NP$'),\n",
       " ('title/NN', 'NN'),\n",
       " ('law/NN', 'NN'),\n",
       " ('was/BEDZ', 'NN'),\n",
       " ('also/RB', 'BEDZ'),\n",
       " ('recommended/VBN', 'RB'),\n",
       " ('by/IN', 'VBN'),\n",
       " ('the/AT', 'IN'),\n",
       " ('outgoing/JJ', 'AT'),\n",
       " ('jury/NN', 'JJ'),\n",
       " ('./.', 'NN'),\n",
       " ('It/PPS', '.'),\n",
       " ('urged/VBD', 'PPS'),\n",
       " ('that/CS', 'VBD'),\n",
       " ('the/AT', 'CS'),\n",
       " ('next/AP', 'AT'),\n",
       " ('Legislature/NN-TL', 'AP'),\n",
       " ('``/``', 'NN-TL'),\n",
       " ('provide/VB', '``'),\n",
       " ('enabling/VBG', 'VB'),\n",
       " ('funds/NNS', 'VBG'),\n",
       " ('and/CC', 'NNS'),\n",
       " ('re-set/VB', 'CC'),\n",
       " ('the/AT', 'VB'),\n",
       " ('effective/JJ', 'AT'),\n",
       " ('date/NN', 'JJ'),\n",
       " ('so/CS', 'NN'),\n",
       " ('that/CS', 'CS'),\n",
       " ('an/AT', 'CS'),\n",
       " ('orderly/JJ', 'AT'),\n",
       " ('implementation/NN', 'JJ'),\n",
       " ('of/IN', 'NN'),\n",
       " ('the/AT', 'IN'),\n",
       " ('law/NN', 'AT'),\n",
       " ('may/MD', 'NN'),\n",
       " ('be/BE', 'MD'),\n",
       " ('effected/VBN', 'BE'),\n",
       " (\"''/''\", 'VBN'),\n",
       " ('./.', \"''\"),\n",
       " ('The/AT', '.'),\n",
       " ('grand/JJ', 'AT'),\n",
       " ('jury/NN', 'JJ'),\n",
       " ('took/VBD', 'NN'),\n",
       " ('a/AT', 'VBD'),\n",
       " ('swipe/NN', 'AT'),\n",
       " ('at/IN', 'NN'),\n",
       " ('the/AT', 'IN'),\n",
       " ('State/NN-TL', 'AT'),\n",
       " ('Welfare/NN-TL', 'NN-TL'),\n",
       " (\"Department's/NN$-TL\", 'NN-TL'),\n",
       " ('handling/NN', 'NN$-TL'),\n",
       " ('of/IN', 'NN'),\n",
       " ('federal/JJ', 'IN'),\n",
       " ('funds/NNS', 'JJ'),\n",
       " ('granted/VBN', 'NNS'),\n",
       " ('for/IN', 'VBN'),\n",
       " ('child/NN', 'IN'),\n",
       " ('welfare/NN', 'NN'),\n",
       " ('services/NNS', 'NN'),\n",
       " ('in/IN', 'NNS'),\n",
       " ('foster/JJ', 'IN'),\n",
       " ('homes/NNS', 'JJ'),\n",
       " ('./.', 'NNS'),\n",
       " ('``/``', '.'),\n",
       " ('This/DT', '``'),\n",
       " ('is/BEZ', 'DT'),\n",
       " ('one/CD', 'BEZ'),\n",
       " ('of/IN', 'CD'),\n",
       " ('the/AT', 'IN'),\n",
       " ('major/JJ', 'AT'),\n",
       " ('items/NNS', 'JJ'),\n",
       " ('in/IN', 'NNS'),\n",
       " ('the/AT', 'IN'),\n",
       " ('Fulton/NP-TL', 'AT'),\n",
       " ('County/NN-TL', 'NP-TL'),\n",
       " ('general/JJ', 'NN-TL'),\n",
       " ('assistance/NN', 'JJ'),\n",
       " ('program/NN', 'NN'),\n",
       " (\"''/''\", 'NN'),\n",
       " (',/,', \"''\"),\n",
       " ('the/AT', ','),\n",
       " ('jury/NN', 'AT'),\n",
       " ('said/VBD', 'NN'),\n",
       " (',/,', 'VBD'),\n",
       " ('but/CC', ','),\n",
       " ('the/AT', 'CC'),\n",
       " ('State/NN-TL', 'AT'),\n",
       " ('Welfare/NN-TL', 'NN-TL'),\n",
       " ('Department/NN-TL', 'NN-TL'),\n",
       " ('``/``', 'NN-TL'),\n",
       " ('has/HVZ', '``'),\n",
       " ('seen/VBN', 'HVZ'),\n",
       " ('fit/JJ', 'VBN'),\n",
       " ('to/TO', 'JJ'),\n",
       " ('distribute/VB', 'TO'),\n",
       " ('these/DTS', 'VB'),\n",
       " ('funds/NNS', 'DTS'),\n",
       " ('through/IN', 'NNS'),\n",
       " ('the/AT', 'IN'),\n",
       " ('welfare/NN', 'AT'),\n",
       " ('departments/NNS', 'NN'),\n",
       " ('of/IN', 'NNS'),\n",
       " ('all/ABN', 'IN'),\n",
       " ('the/AT', 'ABN'),\n",
       " ('counties/NNS', 'AT'),\n",
       " ('in/IN', 'NNS'),\n",
       " ('the/AT', 'IN'),\n",
       " ('state/NN', 'AT'),\n",
       " ('with/IN', 'NN'),\n",
       " ('the/AT', 'IN'),\n",
       " ('exception/NN', 'AT'),\n",
       " ('of/IN', 'NN'),\n",
       " ('Fulton/NP-TL', 'IN'),\n",
       " ('County/NN-TL', 'NP-TL'),\n",
       " (',/,', 'NN-TL'),\n",
       " ('which/WDT', ','),\n",
       " ('receives/VBZ', 'WDT'),\n",
       " ('none/PN', 'VBZ'),\n",
       " ('of/IN', 'PN'),\n",
       " ('this/DT', 'IN'),\n",
       " ('money/NN', 'DT'),\n",
       " ('./.', 'NN'),\n",
       " ('The/AT', '.'),\n",
       " ('jurors/NNS', 'AT'),\n",
       " ('said/VBD', 'NNS'),\n",
       " ('they/PPSS', 'VBD'),\n",
       " ('realize/VB', 'PPSS'),\n",
       " ('``/``', 'VB'),\n",
       " ('a/AT', '``'),\n",
       " ('proportionate/JJ', 'AT'),\n",
       " ('distribution/NN', 'JJ'),\n",
       " ('of/IN', 'NN'),\n",
       " ('these/DTS', 'IN'),\n",
       " ('funds/NNS', 'DTS'),\n",
       " ('might/MD', 'NNS'),\n",
       " ('disable/VB', 'MD'),\n",
       " ('this/DT', 'VB'),\n",
       " ('program/NN', 'DT'),\n",
       " ('in/IN', 'NN'),\n",
       " ('our/PP$', 'IN'),\n",
       " ('less/QL', 'PP$'),\n",
       " ('populous/JJ', 'QL'),\n",
       " ('counties/NNS', 'JJ'),\n",
       " (\"''/''\", 'NNS'),\n",
       " ('./.', \"''\"),\n",
       " ('Nevertheless/RB', '.'),\n",
       " (',/,', 'RB'),\n",
       " ('``/``', ','),\n",
       " ('we/PPSS', '``'),\n",
       " ('feel/VB', 'PPSS'),\n",
       " ('that/CS', 'VB'),\n",
       " ('in/IN', 'CS'),\n",
       " ('the/AT', 'IN'),\n",
       " ('future/NN', 'AT'),\n",
       " ('Fulton/NP-TL', 'NN'),\n",
       " ('County/NN-TL', 'NP-TL'),\n",
       " ('should/MD', 'NN-TL'),\n",
       " ('receive/VB', 'MD'),\n",
       " ('some/DTI', 'VB'),\n",
       " ('portion/NN', 'DTI'),\n",
       " ('of/IN', 'NN'),\n",
       " ('these/DTS', 'IN'),\n",
       " ('available/JJ', 'DTS'),\n",
       " ('funds/NNS', 'JJ'),\n",
       " (\"''/''\", 'NNS'),\n",
       " (',/,', \"''\"),\n",
       " ('the/AT', ','),\n",
       " ('jurors/NNS', 'AT'),\n",
       " ('said/VBD', 'NNS'),\n",
       " ('./.', 'VBD'),\n",
       " ('``/``', '.'),\n",
       " ('Failure/NN', '``'),\n",
       " ('to/TO', 'NN'),\n",
       " ('do/DO', 'TO'),\n",
       " ('this/DT', 'DO'),\n",
       " ('will/MD', 'DT'),\n",
       " ('continue/VB', 'MD'),\n",
       " ('to/TO', 'VB'),\n",
       " ('place/VB', 'TO'),\n",
       " ('a/AT', 'VB'),\n",
       " ('disproportionate/JJ', 'AT'),\n",
       " ('burden/NN', 'JJ'),\n",
       " (\"''/''\", 'NN'),\n",
       " ('on/IN', \"''\"),\n",
       " ('Fulton/NP', 'IN'),\n",
       " ('taxpayers/NNS', 'NP'),\n",
       " ('./.', 'NNS'),\n",
       " ('The/AT', '.'),\n",
       " ('jury/NN', 'AT'),\n",
       " ('also/RB', 'NN'),\n",
       " ('commented/VBD', 'RB'),\n",
       " ('on/IN', 'VBD'),\n",
       " ('the/AT', 'IN'),\n",
       " ('Fulton/NP', 'AT'),\n",
       " (\"ordinary's/NN$\", 'NP'),\n",
       " ('court/NN', 'NN$'),\n",
       " ('which/WDT', 'NN'),\n",
       " ('has/HVZ', 'WDT'),\n",
       " ('been/BEN', 'HVZ'),\n",
       " ('under/IN', 'BEN'),\n",
       " ('fire/NN', 'IN'),\n",
       " ('for/IN', 'NN'),\n",
       " ('its/PP$', 'IN'),\n",
       " ('practices/NNS', 'PP$'),\n",
       " ('in/IN', 'NNS'),\n",
       " ('the/AT', 'IN'),\n",
       " ('appointment/NN', 'AT'),\n",
       " ('of/IN', 'NN'),\n",
       " ('appraisers/NNS', 'IN'),\n",
       " (',/,', 'NNS'),\n",
       " ('guardians/NNS', ','),\n",
       " ('and/CC', 'NNS'),\n",
       " ('administrators/NNS', 'CC'),\n",
       " ('and/CC', 'NNS'),\n",
       " ('the/AT', 'CC'),\n",
       " ('awarding/NN', 'AT'),\n",
       " ('of/IN', 'NN'),\n",
       " ('fees/NNS', 'IN'),\n",
       " ('and/CC', 'NNS'),\n",
       " ('compensation/NN', 'CC'),\n",
       " ('./.', 'NN'),\n",
       " ('Wards/NNS-HL', '.'),\n",
       " ('protected/VBN-HL', 'NNS-HL'),\n",
       " ('The/AT', 'VBN-HL'),\n",
       " ('jury/NN', 'AT'),\n",
       " ('said/VBD', 'NN'),\n",
       " ('it/PPS', 'VBD'),\n",
       " ('found/VBD', 'PPS'),\n",
       " ('the/AT', 'VBD'),\n",
       " ('court/NN', 'AT'),\n",
       " ('``/``', 'NN'),\n",
       " ('has/HVZ', '``'),\n",
       " ('incorporated/VBN', 'HVZ'),\n",
       " ('into/IN', 'VBN'),\n",
       " ('its/PP$', 'IN'),\n",
       " ('operating/VBG', 'PP$'),\n",
       " ('procedures/NNS', 'VBG'),\n",
       " ('the/AT', 'NNS'),\n",
       " ('recommendations/NNS', 'AT'),\n",
       " (\"''/''\", 'NNS'),\n",
       " ('of/IN', \"''\"),\n",
       " ('two/CD', 'IN'),\n",
       " ('previous/JJ', 'CD'),\n",
       " ('grand/JJ', 'JJ'),\n",
       " ('juries/NNS', 'JJ'),\n",
       " (',/,', 'NNS'),\n",
       " ('the/AT', ','),\n",
       " ('Atlanta/NP-TL', 'AT'),\n",
       " ('Bar/NN-TL', 'NP-TL'),\n",
       " ('Association/NN-TL', 'NN-TL'),\n",
       " ('and/CC', 'NN-TL'),\n",
       " ('an/AT', 'CC'),\n",
       " ('interim/NN', 'AT'),\n",
       " ('citizens/NNS', 'NN'),\n",
       " ('committee/NN', 'NNS'),\n",
       " ('./.', 'NN'),\n",
       " ('``/``', '.'),\n",
       " ('These/DTS', '``'),\n",
       " ('actions/NNS', 'DTS'),\n",
       " ('should/MD', 'NNS'),\n",
       " ('serve/VB', 'MD'),\n",
       " ('to/TO', 'VB'),\n",
       " ('protect/VB', 'TO'),\n",
       " ('in/IN', 'VB'),\n",
       " ('fact/NN', 'IN'),\n",
       " ('and/CC', 'NN'),\n",
       " ('in/IN', 'CC'),\n",
       " ('effect/NN', 'IN'),\n",
       " ('the/AT', 'NN'),\n",
       " (\"court's/NN$\", 'AT'),\n",
       " ('wards/NNS', 'NN$'),\n",
       " ('from/IN', 'NNS'),\n",
       " ('undue/JJ', 'IN'),\n",
       " ('costs/NNS', 'JJ'),\n",
       " ('and/CC', 'NNS'),\n",
       " ('its/PP$', 'CC'),\n",
       " ('appointed/VBN', 'PP$'),\n",
       " ('and/CC', 'VBN'),\n",
       " ('elected/VBN', 'CC'),\n",
       " ('servants/NNS', 'VBN'),\n",
       " ('from/IN', 'NNS'),\n",
       " ('unmeritorious/JJ', 'IN'),\n",
       " ('criticisms/NNS', 'JJ'),\n",
       " (\"''/''\", 'NNS'),\n",
       " (',/,', \"''\"),\n",
       " ('the/AT', ','),\n",
       " ('jury/NN', 'AT'),\n",
       " ('said/VBD', 'NN'),\n",
       " ('./.', 'VBD'),\n",
       " ('Regarding/IN', '.'),\n",
       " (\"Atlanta's/NP$\", 'IN'),\n",
       " ('new/JJ', 'NP$'),\n",
       " ('multi-million-dollar/JJ', 'JJ'),\n",
       " ('airport/NN', 'JJ'),\n",
       " (',/,', 'NN'),\n",
       " ('the/AT', ','),\n",
       " ('jury/NN', 'AT'),\n",
       " ('recommended/VBD', 'NN'),\n",
       " ('``/``', 'VBD'),\n",
       " ('that/CS', '``'),\n",
       " ('when/WRB', 'CS'),\n",
       " ('the/AT', 'WRB'),\n",
       " ('new/JJ', 'AT'),\n",
       " ('management/NN', 'JJ'),\n",
       " ('takes/VBZ', 'NN'),\n",
       " ('charge/NN', 'VBZ'),\n",
       " ('Jan./NP', 'NN'),\n",
       " ('1/CD', 'NP'),\n",
       " ('the/AT', 'CD'),\n",
       " ('airport/NN', 'AT'),\n",
       " ('be/BE', 'NN'),\n",
       " ('operated/VBN', 'BE'),\n",
       " ('in/IN', 'VBN'),\n",
       " ('a/AT', 'IN'),\n",
       " ('manner/NN', 'AT'),\n",
       " ('that/WPS', 'NN'),\n",
       " ('will/MD', 'WPS'),\n",
       " ('eliminate/VB', 'MD'),\n",
       " ('political/JJ', 'VB'),\n",
       " ('influences/NNS', 'JJ'),\n",
       " (\"''/''\", 'NNS'),\n",
       " ('./.', \"''\"),\n",
       " ('The/AT', '.'),\n",
       " ('jury/NN', 'AT'),\n",
       " ('did/DOD', 'NN'),\n",
       " ('not/*', 'DOD'),\n",
       " ('elaborate/VB', '*'),\n",
       " (',/,', 'VB'),\n",
       " ('but/CC', ','),\n",
       " ('it/PPS', 'CC'),\n",
       " ('added/VBD', 'PPS'),\n",
       " ('that/CS', 'VBD'),\n",
       " ('``/``', 'CS'),\n",
       " ('there/EX', '``'),\n",
       " ('should/MD', 'EX'),\n",
       " ('be/BE', 'MD'),\n",
       " ('periodic/JJ', 'BE'),\n",
       " ('surveillance/NN', 'JJ'),\n",
       " ('of/IN', 'NN'),\n",
       " ('the/AT', 'IN'),\n",
       " ('pricing/VBG', 'AT'),\n",
       " ('practices/NNS', 'VBG'),\n",
       " ('of/IN', 'NNS'),\n",
       " ('the/AT', 'IN'),\n",
       " ('concessionaires/NNS', 'AT'),\n",
       " ('for/IN', 'NNS'),\n",
       " ('the/AT', 'IN'),\n",
       " ('purpose/NN', 'AT'),\n",
       " ('of/IN', 'NN'),\n",
       " ('keeping/VBG', 'IN'),\n",
       " ('the/AT', 'VBG'),\n",
       " ('prices/NNS', 'AT'),\n",
       " ('reasonable/JJ', 'NNS'),\n",
       " (\"''/''\", 'JJ'),\n",
       " ('./.', \"''\"),\n",
       " ('Ask/VB-HL', '.'),\n",
       " ('jail/NN-HL', 'VB-HL'),\n",
       " ('deputies/NNS-HL', 'NN-HL'),\n",
       " ('On/IN', 'NNS-HL'),\n",
       " ('other/AP', 'IN'),\n",
       " ('matters/NNS', 'AP'),\n",
       " (',/,', 'NNS'),\n",
       " ('the/AT', ','),\n",
       " ('jury/NN', 'AT'),\n",
       " ('recommended/VBD', 'NN'),\n",
       " ('that/CS', 'VBD'),\n",
       " (':/:', 'CS'),\n",
       " ('(/(', ':'),\n",
       " ('1/CD', '('),\n",
       " (')/)', 'CD'),\n",
       " ('Four/CD', ')'),\n",
       " ('additional/JJ', 'CD'),\n",
       " ('deputies/NNS', 'JJ'),\n",
       " ('be/BE', 'NNS'),\n",
       " ('employed/VBN', 'BE'),\n",
       " ('at/IN', 'VBN'),\n",
       " ('the/AT', 'IN'),\n",
       " ('Fulton/NP-TL', 'AT'),\n",
       " ('County/NN-TL', 'NP-TL'),\n",
       " ('Jail/NN-TL', 'NN-TL'),\n",
       " ('and/CC', 'NN-TL'),\n",
       " ('``/``', 'CC'),\n",
       " ('a/AT', '``'),\n",
       " ('doctor/NN', 'AT'),\n",
       " (',/,', 'NN'),\n",
       " ('medical/JJ', ','),\n",
       " ('intern/NN', 'JJ'),\n",
       " ('or/CC', 'NN'),\n",
       " ('extern/NN', 'CC'),\n",
       " ('be/BE', 'NN'),\n",
       " ('employed/VBN', 'BE'),\n",
       " ('for/IN', 'VBN'),\n",
       " ('night/NN', 'IN'),\n",
       " ('and/CC', 'NN'),\n",
       " ('weekend/NN', 'CC'),\n",
       " ('duty/NN', 'NN'),\n",
       " ('at/IN', 'NN'),\n",
       " ('the/AT', 'IN'),\n",
       " ('jail/NN', 'AT'),\n",
       " (\"''/''\", 'NN'),\n",
       " ('./.', \"''\"),\n",
       " ('(/(', '.'),\n",
       " ('2/CD', '('),\n",
       " (')/)', 'CD'),\n",
       " ('Fulton/NP', ')'),\n",
       " ('legislators/NNS', 'NP'),\n",
       " ('``/``', 'NNS'),\n",
       " ('work/VB', '``'),\n",
       " ('with/IN', 'VB'),\n",
       " ('city/NN', 'IN'),\n",
       " ('officials/NNS', 'NN'),\n",
       " ('to/TO', 'NNS'),\n",
       " ('pass/VB', 'TO'),\n",
       " ('enabling/VBG', 'VB'),\n",
       " ('legislation/NN', 'VBG'),\n",
       " ('that/WPS', 'NN'),\n",
       " ('will/MD', 'WPS'),\n",
       " ('permit/VB', 'MD'),\n",
       " ('the/AT', 'VB'),\n",
       " ('establishment/NN', 'AT'),\n",
       " ('of/IN', 'NN'),\n",
       " ('a/AT', 'IN'),\n",
       " ('fair/JJ', 'AT'),\n",
       " ('and/CC', 'JJ'),\n",
       " ('equitable/JJ', 'CC'),\n",
       " (\"''/''\", 'JJ'),\n",
       " ('pension/NN', \"''\"),\n",
       " ('plan/NN', 'NN'),\n",
       " ('for/IN', 'NN'),\n",
       " ('city/NN', 'IN'),\n",
       " ('employes/NNS', 'NN'),\n",
       " ('./.', 'NNS'),\n",
       " ('The/AT', '.'),\n",
       " ('jury/NN', 'AT'),\n",
       " ('praised/VBD', 'NN'),\n",
       " ('the/AT', 'VBD'),\n",
       " ('administration/NN', 'AT'),\n",
       " ('and/CC', 'NN'),\n",
       " ('operation/NN', 'CC'),\n",
       " ('of/IN', 'NN'),\n",
       " ('the/AT', 'IN'),\n",
       " ('Atlanta/NP-TL', 'AT'),\n",
       " ('Police/NNS-TL', 'NP-TL'),\n",
       " ('Department/NN-TL', 'NNS-TL'),\n",
       " (',/,', 'NN-TL'),\n",
       " ('the/AT', ','),\n",
       " ('Fulton/NP-TL', 'AT'),\n",
       " ('Tax/NN-TL', 'NP-TL'),\n",
       " (\"Commissioner's/NN$-TL\", 'NN-TL'),\n",
       " ('Office/NN-TL', 'NN$-TL'),\n",
       " (',/,', 'NN-TL'),\n",
       " ('the/AT', ','),\n",
       " ('Bellwood/NP', 'AT'),\n",
       " ('and/CC', 'NP'),\n",
       " ('Alpharetta/NP', 'CC'),\n",
       " ('prison/NN', 'NP'),\n",
       " ('farms/NNS', 'NN'),\n",
       " (',/,', 'NNS'),\n",
       " ('Grady/NP-TL', ','),\n",
       " ('Hospital/NN-TL', 'NP-TL'),\n",
       " ('and/CC', 'NN-TL'),\n",
       " ('the/AT', 'CC'),\n",
       " ('Fulton/NP-TL', 'AT'),\n",
       " ('Health/NN-TL', 'NP-TL'),\n",
       " ('Department/NN-TL', 'NN-TL'),\n",
       " ('./.', 'NN-TL'),\n",
       " ('Mayor/NN-TL', '.'),\n",
       " ('William/NP', 'NN-TL'),\n",
       " ('B./NP', 'NP'),\n",
       " ('Hartsfield/NP', 'NP'),\n",
       " ('filed/VBD', 'NP'),\n",
       " ('suit/NN', 'VBD'),\n",
       " ('for/IN', 'NN'),\n",
       " ('divorce/NN', 'IN'),\n",
       " ('from/IN', 'NN'),\n",
       " ('his/PP$', 'IN'),\n",
       " ('wife/NN', 'PP$'),\n",
       " (',/,', 'NN'),\n",
       " ('Pearl/NP', ','),\n",
       " ('Williams/NP', 'NP'),\n",
       " ('Hartsfield/NP', 'NP'),\n",
       " (',/,', 'NP'),\n",
       " ('in/IN', ','),\n",
       " ('Fulton/NP-TL', 'IN'),\n",
       " ('Superior/JJ-TL', 'NP-TL'),\n",
       " ('Court/NN-TL', 'JJ-TL'),\n",
       " ('Friday/NR', 'NN-TL'),\n",
       " ('./.', 'NR'),\n",
       " ('His/PP$', '.'),\n",
       " ('petition/NN', 'PP$'),\n",
       " ('charged/VBD', 'NN'),\n",
       " ('mental/JJ', 'VBD'),\n",
       " ('cruelty/NN', 'JJ'),\n",
       " ('./.', 'NN'),\n",
       " ('The/AT', '.'),\n",
       " ('couple/NN', 'AT'),\n",
       " ('was/BEDZ', 'NN'),\n",
       " ('married/VBN', 'BEDZ'),\n",
       " ('Aug./NP', 'VBN'),\n",
       " ('2/CD', 'NP'),\n",
       " (',/,', 'CD'),\n",
       " ('1913/CD', ','),\n",
       " ('./.', 'CD'),\n",
       " ('They/PPSS', '.'),\n",
       " ('have/HV', 'PPSS'),\n",
       " ('a/AT', 'HV'),\n",
       " ('son/NN', 'AT'),\n",
       " (',/,', 'NN'),\n",
       " ('William/NP', ','),\n",
       " ('Berry/NP', 'NP'),\n",
       " ('Jr./NP', 'NP'),\n",
       " (',/,', 'NP'),\n",
       " ('and/CC', ','),\n",
       " ('a/AT', 'CC'),\n",
       " ('daughter/NN', 'AT'),\n",
       " (',/,', 'NN'),\n",
       " ('Mrs./NP', ','),\n",
       " ('J./NP', 'NP'),\n",
       " ('M./NP', 'NP'),\n",
       " ('Cheshire/NP', 'NP'),\n",
       " ('of/IN', 'NP'),\n",
       " ('Griffin/NP', 'IN'),\n",
       " ('./.', 'NP'),\n",
       " ('Attorneys/NNS', '.'),\n",
       " ('for/IN', 'NNS'),\n",
       " ('the/AT', 'IN'),\n",
       " ('mayor/NN', 'AT'),\n",
       " ('said/VBD', 'NN'),\n",
       " ('that/CS', 'VBD'),\n",
       " ('an/AT', 'CS'),\n",
       " ('amicable/JJ', 'AT'),\n",
       " ('property/NN', 'JJ'),\n",
       " ('settlement/NN', 'NN'),\n",
       " ('has/HVZ', 'NN'),\n",
       " ('been/BEN', 'HVZ'),\n",
       " ('agreed/VBN', 'BEN'),\n",
       " ('upon/RB', 'VBN'),\n",
       " ('./.', 'RB'),\n",
       " ('The/AT', '.'),\n",
       " ('petition/NN', 'AT'),\n",
       " ('listed/VBD', 'NN'),\n",
       " ('the/AT', 'VBD'),\n",
       " (\"mayor's/NN$\", 'AT'),\n",
       " ('occupation/NN', 'NN$'),\n",
       " ('as/CS', 'NN'),\n",
       " ('``/``', 'CS'),\n",
       " ('attorney/NN', '``'),\n",
       " (\"''/''\", 'NN'),\n",
       " ('and/CC', \"''\"),\n",
       " ('his/PP$', 'CC'),\n",
       " ('age/NN', 'PP$'),\n",
       " ('as/CS', 'NN'),\n",
       " ('71/CD', 'CS'),\n",
       " ('./.', 'CD'),\n",
       " ('It/PPS', '.'),\n",
       " ('listed/VBD', 'PPS'),\n",
       " ('his/PP$', 'VBD'),\n",
       " (\"wife's/NN$\", 'PP$'),\n",
       " ('age/NN', 'NN$'),\n",
       " ('as/CS', 'NN'),\n",
       " ('74/CD', 'CS'),\n",
       " ('and/CC', 'CD'),\n",
       " ('place/NN', 'CC'),\n",
       " ('of/IN', 'NN'),\n",
       " ('birth/NN', 'IN'),\n",
       " ('as/CS', 'NN'),\n",
       " ('Opelika/NP', 'CS'),\n",
       " (',/,', 'NP'),\n",
       " ('Ala./NP', ','),\n",
       " ('./.', 'NP'),\n",
       " ('The/AT', '.'),\n",
       " ('petition/NN', 'AT'),\n",
       " ('said/VBD', 'NN'),\n",
       " ('that/CS', 'VBD'),\n",
       " ('the/AT', 'CS'),\n",
       " ('couple/NN', 'AT'),\n",
       " ('has/HVZ', 'NN'),\n",
       " ('not/*', 'HVZ'),\n",
       " ('lived/VBN', '*'),\n",
       " ('together/RB', 'VBN'),\n",
       " ('as/CS', 'RB'),\n",
       " ('man/NN', 'CS'),\n",
       " ('and/CC', 'NN'),\n",
       " ('wife/NN', 'CC'),\n",
       " ('for/IN', 'NN'),\n",
       " ('more/AP', 'IN'),\n",
       " ('than/IN', 'AP'),\n",
       " ('a/AT', 'IN'),\n",
       " ('year/NN', 'AT'),\n",
       " ('./.', 'NN'),\n",
       " ('The/AT', '.'),\n",
       " ('Hartsfield/NP', 'AT'),\n",
       " ('home/NR', 'NP'),\n",
       " ('is/BEZ', 'NR'),\n",
       " ('at/IN', 'BEZ'),\n",
       " ('637/CD', 'IN'),\n",
       " ('E./NP', 'CD'),\n",
       " ('Pelham/NP', 'NP'),\n",
       " ('Rd./NN-TL', 'NP'),\n",
       " ('Aj/NN', 'NN-TL'),\n",
       " ('./.', 'NN'),\n",
       " ('Henry/NP', '.'),\n",
       " ('L./NP', 'NP'),\n",
       " ('Bowden/NP', 'NP'),\n",
       " ('was/BEDZ', 'NP'),\n",
       " ('listed/VBN', 'BEDZ'),\n",
       " ('on/IN', 'VBN'),\n",
       " ('the/AT', 'IN'),\n",
       " ('petition/NN', 'AT'),\n",
       " ('as/CS', 'NN'),\n",
       " ('the/AT', 'CS'),\n",
       " (\"mayor's/NN$\", 'AT'),\n",
       " ('attorney/NN', 'NN$'),\n",
       " ('./.', 'NN'),\n",
       " ('Hartsfield/NP', '.'),\n",
       " ('has/HVZ', 'NP'),\n",
       " ('been/BEN', 'HVZ'),\n",
       " ('mayor/NN', 'BEN'),\n",
       " ('of/IN', 'NN'),\n",
       " ('Atlanta/NP', 'IN'),\n",
       " (',/,', 'NP'),\n",
       " ('with/IN', ','),\n",
       " ('exception/NN', 'IN'),\n",
       " ('of/IN', 'NN'),\n",
       " ('one/CD', 'IN'),\n",
       " ('brief/JJ', 'CD'),\n",
       " ('interlude/NN', 'JJ'),\n",
       " (',/,', 'NN'),\n",
       " ('since/IN', ','),\n",
       " ('1937/CD', 'IN'),\n",
       " ('./.', 'CD'),\n",
       " ('His/PP$', '.'),\n",
       " ('political/JJ', 'PP$'),\n",
       " ('career/NN', 'JJ'),\n",
       " ('goes/VBZ', 'NN'),\n",
       " ('back/RB', 'VBZ'),\n",
       " ('to/IN', 'RB'),\n",
       " ('his/PP$', 'IN'),\n",
       " ('election/NN', 'PP$'),\n",
       " ('to/IN', 'NN'),\n",
       " ('city/NN', 'IN'),\n",
       " ('council/NN', 'NN'),\n",
       " ('in/IN', 'NN'),\n",
       " ('1923/CD', 'IN'),\n",
       " ('./.', 'CD'),\n",
       " ('The/AT', '.'),\n",
       " (\"mayor's/NN$\", 'AT'),\n",
       " ('present/JJ', 'NN$'),\n",
       " ('term/NN', 'JJ'),\n",
       " ('of/IN', 'NN'),\n",
       " ('office/NN', 'IN'),\n",
       " ('expires/VBZ', 'NN'),\n",
       " ('Jan./NP', 'VBZ'),\n",
       " ('1/CD', 'NP'),\n",
       " ('./.', 'CD'),\n",
       " ('He/PPS', '.'),\n",
       " ('will/MD', 'PPS'),\n",
       " ('be/BE', 'MD'),\n",
       " ('succeeded/VBN', 'BE'),\n",
       " ('by/IN', 'VBN'),\n",
       " ('Ivan/NP', 'IN'),\n",
       " ('Allen/NP', 'NP'),\n",
       " ('Jr./NP', 'NP'),\n",
       " (',/,', 'NP'),\n",
       " ('who/WPS', ','),\n",
       " ('became/VBD', 'WPS'),\n",
       " ('a/AT', 'VBD'),\n",
       " ('candidate/NN', 'AT'),\n",
       " ('in/IN', 'NN'),\n",
       " ('the/AT', 'IN'),\n",
       " ('Sept./NP', 'AT'),\n",
       " ('13/CD', 'NP'),\n",
       " ('primary/NN', 'CD'),\n",
       " ('after/CS', 'NN'),\n",
       " ('Mayor/NN-TL', 'CS'),\n",
       " ('Hartsfield/NP', 'NN-TL'),\n",
       " ('announced/VBD', 'NP'),\n",
       " ('that/CS', 'VBD'),\n",
       " ('he/PPS', 'CS'),\n",
       " ('would/MD', 'PPS'),\n",
       " ('not/*', 'MD'),\n",
       " ('run/VB', '*'),\n",
       " ('for/IN', 'VB'),\n",
       " ('reelection/NN', 'IN'),\n",
       " ('./.', 'NN'),\n",
       " ('Georgia/NP', '.'),\n",
       " ('Republicans/NPS', 'NP'),\n",
       " ('are/BER', 'NPS'),\n",
       " ('getting/VBG', 'BER'),\n",
       " ('strong/JJ', 'VBG'),\n",
       " ('encouragement/NN', 'JJ'),\n",
       " ('to/TO', 'NN'),\n",
       " ('enter/VB', 'TO'),\n",
       " ('a/AT', 'VB'),\n",
       " ('candidate/NN', 'AT'),\n",
       " ('in/IN', 'NN'),\n",
       " ('the/AT', 'IN'),\n",
       " ('1962/CD', 'AT'),\n",
       " (\"governor's/NN$\", 'CD'),\n",
       " ('race/NN', 'NN$'),\n",
       " ...]"
      ]
     },
     "execution_count": 23,
     "metadata": {},
     "output_type": "execute_result"
    }
   ],
   "source": [
    "br_pre = [(w2+\"/\"+t2, t1) for ((w1,t1),(w2,t2)) in br_train_2grams]\n",
    "br_pre_cfd = nltk.ConditionalFreqDist(br_pre)\n",
    "br_pre"
   ]
  },
  {
   "cell_type": "markdown",
   "metadata": {},
   "source": [
    "#### d)"
   ]
  },
  {
   "cell_type": "code",
   "execution_count": 24,
   "metadata": {},
   "outputs": [
    {
     "data": {
      "text/plain": [
       "[('AT', 4), ('JJ', 2), (',', 1), ('DT', 1)]"
      ]
     },
     "execution_count": 24,
     "metadata": {},
     "output_type": "execute_result"
    }
   ],
   "source": [
    "br_pre_cfd['cold/NN'].most_common()"
   ]
  },
  {
   "cell_type": "code",
   "execution_count": 25,
   "metadata": {},
   "outputs": [
    {
     "data": {
      "text/plain": [
       "[('AT', 38),\n",
       " ('IN', 14),\n",
       " ('CC', 8),\n",
       " ('QL', 7),\n",
       " ('BEDZ', 7),\n",
       " ('JJ', 4),\n",
       " ('DT', 3),\n",
       " (',', 3),\n",
       " ('PP$', 3),\n",
       " ('``', 2),\n",
       " ('NN', 2),\n",
       " ('VBN', 2),\n",
       " ('VBD', 2),\n",
       " ('CS', 1),\n",
       " ('BEZ', 1),\n",
       " ('DOZ', 1),\n",
       " ('RB', 1),\n",
       " ('PPSS', 1),\n",
       " ('BE', 1),\n",
       " ('VB', 1),\n",
       " ('VBZ', 1),\n",
       " ('NP$', 1),\n",
       " ('BEDZ*', 1),\n",
       " ('--', 1),\n",
       " ('RP', 1),\n",
       " ('DTI', 1),\n",
       " ('WRB', 1),\n",
       " ('BED', 1)]"
      ]
     },
     "execution_count": 25,
     "metadata": {},
     "output_type": "execute_result"
    }
   ],
   "source": [
    "br_pre_cfd['cold/JJ'].most_common()"
   ]
  },
  {
   "cell_type": "markdown",
   "metadata": {},
   "source": [
    "#### ques 6:"
   ]
  },
  {
   "cell_type": "markdown",
   "metadata": {},
   "source": [
    "#### a)"
   ]
  },
  {
   "cell_type": "code",
   "execution_count": 26,
   "metadata": {},
   "outputs": [
    {
     "data": {
      "text/plain": [
       "[('I', 'PPSS'), ('was', 'BEDZ'), ('very', 'QL'), ('cold', 'JJ'), ('.', '.')]"
      ]
     },
     "execution_count": 26,
     "metadata": {},
     "output_type": "execute_result"
    }
   ],
   "source": [
    "text1 = nltk.word_tokenize('I was very cold.')\n",
    "bigram_tagger.tag(text1)"
   ]
  },
  {
   "cell_type": "markdown",
   "metadata": {},
   "source": [
    "#### b)"
   ]
  },
  {
   "cell_type": "code",
   "execution_count": 27,
   "metadata": {},
   "outputs": [
    {
     "data": {
      "text/plain": [
       "[('I', 'PPSS'), ('had', 'HVD'), ('a', 'AT'), ('cold', 'JJ'), ('.', '.')]"
      ]
     },
     "execution_count": 27,
     "metadata": {},
     "output_type": "execute_result"
    }
   ],
   "source": [
    "text2 = nltk.word_tokenize('I had a cold.')\n",
    "bigram_tagger.tag(text2)"
   ]
  },
  {
   "cell_type": "markdown",
   "metadata": {},
   "source": [
    "#### c)"
   ]
  },
  {
   "cell_type": "code",
   "execution_count": 28,
   "metadata": {},
   "outputs": [
    {
     "data": {
      "text/plain": [
       "[('I', 'PPSS'),\n",
       " ('had', 'HVD'),\n",
       " ('a', 'AT'),\n",
       " ('severe', 'JJ'),\n",
       " ('cold', 'JJ'),\n",
       " ('.', '.')]"
      ]
     },
     "execution_count": 28,
     "metadata": {},
     "output_type": "execute_result"
    }
   ],
   "source": [
    "text3 = nltk.word_tokenize('I had a severe cold.')\n",
    "bigram_tagger.tag(text3)"
   ]
  },
  {
   "cell_type": "markdown",
   "metadata": {},
   "source": [
    "#### d)"
   ]
  },
  {
   "cell_type": "code",
   "execution_count": 29,
   "metadata": {},
   "outputs": [
    {
     "data": {
      "text/plain": [
       "[('January', 'NP'),\n",
       " ('was', 'BEDZ'),\n",
       " ('a', 'AT'),\n",
       " ('cold', 'JJ'),\n",
       " ('month', 'NN'),\n",
       " ('.', '.')]"
      ]
     },
     "execution_count": 29,
     "metadata": {},
     "output_type": "execute_result"
    }
   ],
   "source": [
    "text4 = nltk.word_tokenize('January was a cold month.')\n",
    "bigram_tagger.tag(text4)"
   ]
  },
  {
   "cell_type": "markdown",
   "metadata": {},
   "source": [
    "#### ques 7:"
   ]
  },
  {
   "cell_type": "code",
   "execution_count": 30,
   "metadata": {},
   "outputs": [
    {
     "name": "stdout",
     "output_type": "stream",
     "text": [
      "[('I', 'PRP'), ('was', 'VBD'), ('very', 'RB'), ('cold', 'JJ')]\n",
      "[('I', 'PRP'), ('had', 'VBD'), ('a', 'DT'), ('cold', 'JJ')]\n",
      "[('I', 'PRP'), ('had', 'VBD'), ('a', 'DT'), ('severe', 'JJ'), ('cold', 'NN')]\n",
      "[('January', 'NNP'), ('was', 'VBD'), ('a', 'DT'), ('cold', 'JJ'), ('month', 'NN')]\n"
     ]
    }
   ],
   "source": [
    "sentences = [\n",
    "    \"I was very cold\",\n",
    "    \"I had a cold\",\n",
    "    \"I had a severe cold\",\n",
    "    \"January was a cold month\"\n",
    "]\n",
    "\n",
    "for sentence in sentences:\n",
    "    words = nltk.word_tokenize(sentence)\n",
    "    pos_tags = nltk.pos_tag(words)\n",
    "    print(pos_tags)"
   ]
  },
  {
   "cell_type": "markdown",
   "metadata": {},
   "source": [
    "#### ques 8:"
   ]
  },
  {
   "cell_type": "markdown",
   "metadata": {},
   "source": [
    "#### a)"
   ]
  },
  {
   "cell_type": "code",
   "execution_count": 31,
   "metadata": {},
   "outputs": [
    {
     "data": {
      "text/plain": [
       "[('I', 'PPSS'),\n",
       " ('failed', 'VBD'),\n",
       " ('to', 'TO'),\n",
       " ('do', 'DO'),\n",
       " ('so', 'RB'),\n",
       " ('.', '.')]"
      ]
     },
     "execution_count": 31,
     "metadata": {},
     "output_type": "execute_result"
    }
   ],
   "source": [
    "text5 = nltk.word_tokenize('I failed to do so.')\n",
    "bigram_tagger.tag(text5)"
   ]
  },
  {
   "cell_type": "markdown",
   "metadata": {},
   "source": [
    "#### b)"
   ]
  },
  {
   "cell_type": "code",
   "execution_count": 32,
   "metadata": {},
   "outputs": [
    {
     "data": {
      "text/plain": [
       "[('I', 'PPSS'),\n",
       " ('was', 'BEDZ'),\n",
       " ('happy', 'JJ'),\n",
       " (',', ','),\n",
       " ('but', 'CC'),\n",
       " ('so', 'RB'),\n",
       " ('was', 'BEDZ'),\n",
       " ('my', 'PP$'),\n",
       " ('enemy', 'NN'),\n",
       " ('.', '.')]"
      ]
     },
     "execution_count": 32,
     "metadata": {},
     "output_type": "execute_result"
    }
   ],
   "source": [
    "text6 = nltk.word_tokenize('I was happy,but so was my enemy.')\n",
    "bigram_tagger.tag(text6)"
   ]
  },
  {
   "cell_type": "markdown",
   "metadata": {},
   "source": [
    "##### c)"
   ]
  },
  {
   "cell_type": "code",
   "execution_count": 33,
   "metadata": {},
   "outputs": [
    {
     "data": {
      "text/plain": [
       "[('So', 'RB'),\n",
       " (',', ','),\n",
       " ('how', 'WRB'),\n",
       " ('was', 'BEDZ'),\n",
       " ('the', 'AT'),\n",
       " ('exam', 'NN'),\n",
       " ('?', '.')]"
      ]
     },
     "execution_count": 33,
     "metadata": {},
     "output_type": "execute_result"
    }
   ],
   "source": [
    "text7 = nltk.word_tokenize('So, how was the exam?')\n",
    "bigram_tagger.tag(text7)"
   ]
  },
  {
   "cell_type": "markdown",
   "metadata": {},
   "source": [
    "#### d)"
   ]
  },
  {
   "cell_type": "code",
   "execution_count": 34,
   "metadata": {},
   "outputs": [
    {
     "data": {
      "text/plain": [
       "[('The', 'AT'),\n",
       " ('students', 'NNS'),\n",
       " ('came', 'VBD'),\n",
       " ('in', 'IN'),\n",
       " ('early', 'JJ'),\n",
       " ('so', 'CS'),\n",
       " ('they', 'PPSS'),\n",
       " ('can', 'MD'),\n",
       " ('get', 'VB'),\n",
       " ('good', 'JJ'),\n",
       " ('seats', 'NNS'),\n",
       " ('.', '.')]"
      ]
     },
     "execution_count": 34,
     "metadata": {},
     "output_type": "execute_result"
    }
   ],
   "source": [
    "text8 = nltk.word_tokenize('The students came in early so they can get good seats.')\n",
    "bigram_tagger.tag(text8)"
   ]
  },
  {
   "cell_type": "markdown",
   "metadata": {},
   "source": [
    "#### e)"
   ]
  },
  {
   "cell_type": "code",
   "execution_count": 35,
   "metadata": {},
   "outputs": [
    {
     "data": {
      "text/plain": [
       "[('She', 'PPS'),\n",
       " ('failed', 'VBD'),\n",
       " ('the', 'AT'),\n",
       " ('exam', 'NN'),\n",
       " (',', ','),\n",
       " ('so', 'CS'),\n",
       " ('she', 'PPS'),\n",
       " ('must', 'MD'),\n",
       " ('take', 'VB'),\n",
       " ('it', 'PPO'),\n",
       " ('again', 'RB'),\n",
       " ('.', '.')]"
      ]
     },
     "execution_count": 35,
     "metadata": {},
     "output_type": "execute_result"
    }
   ],
   "source": [
    "text9 = nltk.word_tokenize('She failed the exam, so she must take it again.')\n",
    "bigram_tagger.tag(text9)"
   ]
  },
  {
   "cell_type": "markdown",
   "metadata": {},
   "source": [
    "#### f)"
   ]
  },
  {
   "cell_type": "code",
   "execution_count": 36,
   "metadata": {},
   "outputs": [
    {
     "data": {
      "text/plain": [
       "[('That', 'DT'),\n",
       " ('was', 'BEDZ'),\n",
       " ('so', 'QL'),\n",
       " ('incredible', 'JJ'),\n",
       " ('.', '.')]"
      ]
     },
     "execution_count": 36,
     "metadata": {},
     "output_type": "execute_result"
    }
   ],
   "source": [
    "text10 = nltk.word_tokenize('That was so incredible.')\n",
    "bigram_tagger.tag(text10)"
   ]
  },
  {
   "cell_type": "markdown",
   "metadata": {},
   "source": [
    "#### g)"
   ]
  },
  {
   "cell_type": "code",
   "execution_count": 37,
   "metadata": {},
   "outputs": [
    {
     "data": {
      "text/plain": [
       "[('Wow', 'NN'), (',', ','), ('so', 'CS'), ('incredible', 'JJ'), ('.', '.')]"
      ]
     },
     "execution_count": 37,
     "metadata": {},
     "output_type": "execute_result"
    }
   ],
   "source": [
    "text11 = nltk.word_tokenize('Wow, so incredible.')\n",
    "bigram_tagger.tag(text11)"
   ]
  },
  {
   "cell_type": "markdown",
   "metadata": {},
   "source": [
    "#### Ques 9:"
   ]
  },
  {
   "cell_type": "code",
   "execution_count": 38,
   "metadata": {},
   "outputs": [
    {
     "data": {
      "text/plain": [
       "[('so', 'RB')]"
      ]
     },
     "execution_count": 38,
     "metadata": {},
     "output_type": "execute_result"
    }
   ],
   "source": [
    "txt = nltk.word_tokenize('so')\n",
    "bigram_tagger.tag(txt)"
   ]
  },
  {
   "cell_type": "markdown",
   "metadata": {},
   "source": [
    "#### Ques 10:"
   ]
  },
  {
   "cell_type": "raw",
   "metadata": {},
   "source": [
    "The bigram tagger is a part-of-speech (POS) tagger that assigns a POS tag to each word in a text based on the preceding word. It is a simple and efficient algorithm that uses a bigram language model to predict the most likely POS tag for each word based on the probability of observing that tag given the previous tag.\n",
    "\n",
    "Strengths:\n",
    "\n",
    "The bigram tagger is fast and computationally efficient compared to other more complex POS taggers. It can process large amounts of text quickly and accurately.\n",
    "It can handle unknown words by assigning them the most common POS tag in the training corpus.\n",
    "The bigram model can capture some context and syntactic dependencies between adjacent words, leading to improved accuracy in some cases.\n",
    "\n",
    "Limitations:\n",
    "\n",
    "The bigram tagger relies heavily on the previous word to assign POS tags, so it may miss more complex dependencies or contextual cues that are further away.\n",
    "It can't capture long-range dependencies or structural information that spans more than two adjacent words.\n",
    "It can't handle words that have multiple POS tags or ambiguous meanings, leading to incorrect tagging.\n",
    "The accuracy of the bigram tagger heavily depends on the quality and size of the training corpus. A small or biased corpus can lead to poor tagging performance.\n",
    "\n",
    "\n",
    "In conclusion, the bigram tagger is a useful and efficient POS tagging tool for certain applications, especially in cases where a large training corpus is available and where simple contextual cues are sufficient for accurate tagging. However, it has clear limitations in handling more complex language structures, ambiguous words, and long-range dependencies.\n",
    "\n"
   ]
  },
  {
   "cell_type": "code",
   "execution_count": null,
   "metadata": {},
   "outputs": [],
   "source": []
  }
 ],
 "metadata": {
  "kernelspec": {
   "display_name": "Python 3 (ipykernel)",
   "language": "python",
   "name": "python3"
  },
  "language_info": {
   "codemirror_mode": {
    "name": "ipython",
    "version": 3
   },
   "file_extension": ".py",
   "mimetype": "text/x-python",
   "name": "python",
   "nbconvert_exporter": "python",
   "pygments_lexer": "ipython3",
   "version": "3.9.12"
  }
 },
 "nbformat": 4,
 "nbformat_minor": 2
}
