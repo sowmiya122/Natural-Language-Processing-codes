{
 "cells": [
  {
   "cell_type": "markdown",
   "metadata": {},
   "source": [
    "# NLP LAB-12 Building and Parsing Context Free Grammars"
   ]
  },
  {
   "cell_type": "code",
   "execution_count": 46,
   "metadata": {
    "colab": {
     "base_uri": "https://localhost:8080/"
    },
    "id": "OF1SdMz5hujo",
    "outputId": "7d8074b2-d3c7-4ec8-c380-03b14ab5cb64"
   },
   "outputs": [
    {
     "name": "stdout",
     "output_type": "stream",
     "text": [
      "[nltk_data] Downloading package punkt to /root/nltk_data...\n",
      "[nltk_data]   Package punkt is already up-to-date!\n",
      "Reading package lists... Done\n",
      "Building dependency tree       \n",
      "Reading state information... Done\n",
      "xvfb is already the newest version (2:1.19.6-1ubuntu4.10).\n",
      "The following packages were automatically installed and are no longer required:\n",
      "  libnvidia-common-460 nsight-compute-2020.2.0\n",
      "Use 'apt autoremove' to remove them.\n",
      "0 upgraded, 0 newly installed, 0 to remove and 42 not upgraded.\n",
      "Reading package lists... Done\n",
      "Building dependency tree       \n",
      "Reading state information... Done\n",
      "ghostscript is already the newest version (9.26~dfsg+0-0ubuntu0.18.04.16).\n",
      "python3-tk is already the newest version (3.6.9-1~18.04).\n",
      "The following packages were automatically installed and are no longer required:\n",
      "  libnvidia-common-460 nsight-compute-2020.2.0\n",
      "Use 'apt autoremove' to remove them.\n",
      "0 upgraded, 0 newly installed, 0 to remove and 42 not upgraded.\n"
     ]
    }
   ],
   "source": [
    "import nltk\n",
    "nltk.download(\"punkt\")\n",
    "from nltk.tree import Tree\n",
    "from nltk.tokenize import word_tokenize\n",
    "from IPython.display import display\n",
    "import nltk,re,pprint\n",
    "from nltk.tag import pos_tag\n",
    "from nltk.chunk import ne_chunk\n",
    "import numpy as npt\n",
    "!apt-get install -y xvfb # Install X Virtual Frame Buffer\n",
    "import os\n",
    "os.system('Xvfb :1 -screen 0 1600x1200x16 &')# create virtual display with size 1600x1200 and 16 bit color. Co\n",
    "os.environ['DISPLAY']=':1.0'# tell X clients to use our virtual DISPLAY :1.0.\n",
    "%matplotlib inline\n",
    "### INSTALL GHOSTSCRIPT (Required to display NLTK trees)\n",
    "!apt install ghostscript python3-tk"
   ]
  },
  {
   "cell_type": "markdown",
   "metadata": {
    "id": "mOOsnNk9iQvQ"
   },
   "source": [
    "EXERCISE-1: Build Grammar and Parser"
   ]
  },
  {
   "cell_type": "code",
   "execution_count": null,
   "metadata": {
    "id": "lcb3tgPdhwMt"
   },
   "outputs": [],
   "source": [
    "rammar_1 = nltk.CFG.fromstring(\"\"\"\n",
    "S -> NP VP | NP VP\n",
    "NP -> N | Det N | PRO | N N\n",
    "VP -> V NP CP | VP ADVP | V NP\n",
    "ADVP -> ADV ADV\n",
    "CP -> COMP S\n",
    "N -> 'Lisa' | 'brother' | 'peanut' | 'butter'\n",
    "V -> 'told' | 'liked'\n",
    "COMP -> 'that'\n",
    "Det -> 'her'\n",
    "PRO -> 'she'\n",
    "ADV -> 'very' | 'much'\n",
    "S -> NP VP\n",
    "NP -> NP CONJ NP | N | NP PP | Det N | N | Det N\n",
    "VP -> VP PP | VP CONJ VP | V | V\n",
    "PP -> P NP | P NP\n",
    "N -> 'Homer' | 'friends' | 'work' | 'bar'\n",
    "V -> 'drank' | 'sang'\n",
    "CONJ -> 'and' | 'and'\n",
    "Det -> 'his' | 'the'\n",
    "P -> 'from' | 'in'\n",
    "S -> NP VP\n",
    "NP -> NP CONJ NP | N | N\n",
    "VP -> V ADJP\n",
    "ADJP -> ADJP CONJ ADJP | ADJ | ADV ADJ\n",
    "N -> 'Homer' | 'Marge'\n",
    "V -> 'are'\n",
    "CONJ -> 'and' | 'but'\n",
    "ADJ -> 'poor' | 'happy'\n",
    "ADV -> 'very'\n",
    "S -> NP VP | NP AUX VP\n",
    "NP -> PRO | NP CP | Det N | PRO | PRO | PRO | N |Det N\n",
    "VP -> V NP PP | V NP NP\n",
    "CP -> COMP S\n",
    "PP -> P NP\n",
    "Det -> 'the' | 'his'\n",
    "PRO -> 'he' | 'I' | 'him'\n",
    "N -> 'book' | 't' | 'sister'\n",
    "V -> 'gave' | 'given'\n",
    "COMP -> 'that'\n",
    "AUX -> 'had'\n",
    "P -> 'to'\n",
    "S -> NP VP\n",
    "NP -> PRO | Det N | Det N\n",
    "VP -> V NP PP\n",
    "PP -> P NP\n",
    "Det -> 'the' | 'his'\n",
    "PRO -> 'he'\n",
    "N -> 'book' | 'sister'\n",
    "V -> 'gave'\n",
    "P -> 'to'\n",
    "S -> NP VP\n",
    "NP -> Det ADJ N | Det ADJ ADJ N | N\n",
    "VP -> V NP|VP PP\n",
    "PP -> P NP\n",
    "Det -> 'the' | 'the'\n",
    "ADJ -> 'big' | 'tiny' | 'nerdy'\n",
    "N -> 'bully' | 'kid' | 'school'\n",
    "V -> 'punched'\n",
    "P -> 'after'\n",
    "\"\"\")\n"
   ]
  },
  {
   "cell_type": "markdown",
   "metadata": {
    "id": "h4h8eD8onV9y"
   },
   "source": [
    "1.Using NLTK's nltk.CFG.fromstring() method, build a CFG named grammar1. The grammar should cover all of the\n",
    "sentences below and their tree structure as presented on this page. The grammar's start symbol should be 'S':\n",
    "make sure that an S rule (ex. S -> NP VP) is the very top rule in your list of rules.\n",
    "(s6)the big bully punched the tiny nerdy kid after school"
   ]
  },
  {
   "cell_type": "code",
   "execution_count": null,
   "metadata": {
    "id": "NNJyf31UigdW"
   },
   "outputs": [],
   "source": [
    "s6_grammar1 = nltk.CFG.fromstring(\"\"\"\n",
    "S -> NP VP\n",
    "NP -> Det ADJ N | Det ADJ ADJ N | N\n",
    "VP -> V NP|VP PP\n",
    "PP -> P NP\n",
    "Det -> 'the' | 'the'\n",
    "ADJ -> 'big' | 'tiny' | 'nerdy'\n",
    "N -> 'bully' | 'kid' | 'school'\n",
    "V -> 'punched'\n",
    "P -> 'after'\n",
    "\"\"\")\n"
   ]
  },
  {
   "cell_type": "code",
   "execution_count": null,
   "metadata": {
    "colab": {
     "base_uri": "https://localhost:8080/"
    },
    "id": "Akc90r45noWa",
    "outputId": "725c0592-8ff7-4a64-d08a-cd6989c7c254"
   },
   "outputs": [
    {
     "name": "stdout",
     "output_type": "stream",
     "text": [
      "(S\n",
      "  (NP (Det the) (ADJ big) (N bully))\n",
      "  (VP\n",
      "    (VP (V punched) (NP (Det the) (ADJ tiny) (ADJ nerdy) (N kid)))\n",
      "    (PP (P after) (NP (N school)))))\n"
     ]
    }
   ],
   "source": [
    "sent1 = word_tokenize(\"the big bully punched the tiny nerdy kid after school\")\n",
    "parser = nltk.ChartParser(s6_grammar1)\n",
    "for tree in parser.parse(sent1):\n",
    " print(tree)"
   ]
  },
  {
   "cell_type": "code",
   "execution_count": null,
   "metadata": {
    "colab": {
     "base_uri": "https://localhost:8080/",
     "height": 250
    },
    "id": "uZiv2elAnu4l",
    "outputId": "222f1277-b2eb-41ef-aea2-749a21e901df"
   },
   "outputs": [
    {
     "data": {
      "image/png": "[encoded data removed]",
      "text/plain": [
       "Tree('S', [Tree('NP', [Tree('Det', ['the']), Tree('ADJ', ['big']), Tree('N', ['bully'])]), Tree('VP', [Tree('VP', [Tree('V', ['punched']), Tree('NP', [Tree('Det', ['the']), Tree('ADJ', ['tiny']), Tree('ADJ', ['nerdy']), Tree('N', ['kid'])])]), Tree('PP', [Tree('P', ['after']), Tree('NP', [Tree('N', ['school'])])])])])"
      ]
     },
     "metadata": {},
     "output_type": "display_data"
    }
   ],
   "source": [
    "np1 =nltk.Tree.fromstring('(S(NP (Det the) (ADJ big) (N bully))(VP(VP (V punched) (NP (Det the) (ADJ tiny) (ADJ nerdy) (N kid)))(PP (P after) (NP (N school)))))')\n",
    "display(np1)"
   ]
  },
  {
   "cell_type": "markdown",
   "metadata": {
    "id": "bALA_c8024Kx"
   },
   "source": [
    "(s7)he gave the book to his sister"
   ]
  },
  {
   "cell_type": "code",
   "execution_count": null,
   "metadata": {
    "id": "bwE5HI5Fn4d3"
   },
   "outputs": [],
   "source": [
    "s7_grammar1 = nltk.CFG.fromstring(\"\"\"\n",
    "S -> NP VP\n",
    "NP -> PRO | Det N | Det N\n",
    "VP -> V NP PP\n",
    "PP -> P NP\n",
    "Det -> 'the' | 'his'\n",
    "PRO -> 'he'\n",
    "N -> 'book' | 'sister'\n",
    "V -> 'gave'\n",
    "P -> 'to'\n",
    "\"\"\")"
   ]
  },
  {
   "cell_type": "code",
   "execution_count": null,
   "metadata": {
    "colab": {
     "base_uri": "https://localhost:8080/"
    },
    "id": "J_P6jACv3I5-",
    "outputId": "7b74dfb5-28e8-48de-a0db-a604f281be12"
   },
   "outputs": [
    {
     "name": "stdout",
     "output_type": "stream",
     "text": [
      "(S\n",
      "  (NP (PRO he))\n",
      "  (VP\n",
      "    (V gave)\n",
      "    (NP (Det the) (N book))\n",
      "    (PP (P to) (NP (Det his) (N sister)))))\n"
     ]
    }
   ],
   "source": [
    "sent2 = word_tokenize(\"he gave the book to his sister\")\n",
    "parser = nltk.ChartParser(s7_grammar1)\n",
    "for i in parser.parse(sent2):\n",
    "  print(i)"
   ]
  },
  {
   "cell_type": "code",
   "execution_count": null,
   "metadata": {
    "colab": {
     "base_uri": "https://localhost:8080/",
     "height": 250
    },
    "id": "1_Zvpps93Xe9",
    "outputId": "64a3c7fb-5973-4b81-d793-36ee229a7447"
   },
   "outputs": [
    {
     "data": {
      "image/png": "[encoded data removed]",
      "text/plain": [
       "Tree('S', [Tree('NP', [Tree('PRO', ['he'])]), Tree('VP', [Tree('V', ['gave']), Tree('NP', [Tree('Det', ['the']), Tree('N', ['book'])]), Tree('PP', [Tree('P', ['to']), Tree('NP', [Tree('Det', ['his']), Tree('N', ['sister'])])])])])"
      ]
     },
     "metadata": {},
     "output_type": "display_data"
    }
   ],
   "source": [
    "np2 =nltk.Tree.fromstring('(S(NP (PRO he))(VP(V gave)(NP (Det the) (N book))(PP (P to) (NP (Det his) (N sister)))))')\n",
    "display(np2)"
   ]
  },
  {
   "cell_type": "markdown",
   "metadata": {
    "id": "CgUSs0wT35Qm"
   },
   "source": [
    "(s8)he gave the book that I had given him t to his sister"
   ]
  },
  {
   "cell_type": "code",
   "execution_count": null,
   "metadata": {
    "id": "4wGLhdTR3y37"
   },
   "outputs": [],
   "source": [
    "s8_grammar1 = nltk.CFG.fromstring(\"\"\"\n",
    "S -> NP VP | NP AUX VP\n",
    "NP -> PRO | NP CP | Det N | PRO | PRO | PRO | N |Det N\n",
    "VP -> V NP PP | V NP NP\n",
    "CP -> COMP S\n",
    "PP -> P NP\n",
    "Det -> 'the' | 'his'\n",
    "PRO -> 'he' | 'I' | 'him'\n",
    "N -> 'book' | 't' | 'sister'\n",
    "V -> 'gave' | 'given'\n",
    "COMP -> 'that'\n",
    "AUX -> 'had'\n",
    "P -> 'to'\n",
    "\"\"\")"
   ]
  },
  {
   "cell_type": "code",
   "execution_count": null,
   "metadata": {
    "colab": {
     "base_uri": "https://localhost:8080/"
    },
    "id": "82MmOyts4Bw1",
    "outputId": "d88ba58a-59cd-4abb-9ee7-e3b9754c9ace"
   },
   "outputs": [
    {
     "name": "stdout",
     "output_type": "stream",
     "text": [
      "(S\n",
      "  (NP (PRO he))\n",
      "  (VP\n",
      "    (V gave)\n",
      "    (NP\n",
      "      (NP (Det the) (N book))\n",
      "      (CP\n",
      "        (COMP that)\n",
      "        (S\n",
      "          (NP (PRO I))\n",
      "          (AUX had)\n",
      "          (VP (V given) (NP (PRO him)) (NP (N t))))))\n",
      "    (PP (P to) (NP (Det his) (N sister)))))\n"
     ]
    }
   ],
   "source": [
    "sent3 = word_tokenize(\"he gave the book that I had given him t to his sister\")\n",
    "parser = nltk.ChartParser(s8_grammar1)\n",
    "for i in parser.parse(sent3):\n",
    "  print(i)"
   ]
  },
  {
   "cell_type": "code",
   "execution_count": null,
   "metadata": {
    "colab": {
     "base_uri": "https://localhost:8080/",
     "height": 373
    },
    "id": "-sJFPUrk4J16",
    "outputId": "7337f653-14c7-4781-f3e7-17a4220bb3e7"
   },
   "outputs": [
    {
     "data": {
      "image/png": "[encoded data removed]",
      "text/plain": [
       "Tree('S', [Tree('NP', [Tree('PRO', ['he'])]), Tree('VP', [Tree('V', ['gave']), Tree('NP', [Tree('NP', [Tree('Det', ['the']), Tree('N', ['book'])]), Tree('CP', [Tree('COMP', ['that']), Tree('S', [Tree('NP', [Tree('PRO', ['I'])]), Tree('AUX', ['had']), Tree('VP', [Tree('V', ['given']), Tree('NP', [Tree('PRO', ['him'])]), Tree('NP', [Tree('N', ['t'])])])])])]), Tree('PP', [Tree('P', ['to']), Tree('NP', [Tree('Det', ['his']), Tree('N', ['sister'])])])])])"
      ]
     },
     "metadata": {},
     "output_type": "display_data"
    }
   ],
   "source": [
    "np3 =nltk.Tree.fromstring('(S(NP (PRO he))(VP(V gave)(NP(NP (Det the) (N book))(CP(COMP that)(S(NP (PRO I))(AUX had)(VP (V given) (NP (PRO him)) (NP (N t))))))(PP (P to) (NP (Det his) (N sister)))))')\n",
    "display(np3)"
   ]
  },
  {
   "cell_type": "markdown",
   "metadata": {
    "id": "chyXKtXh4tA1"
   },
   "source": [
    "(s9)Homer and Marge are poor but very happy"
   ]
  },
  {
   "cell_type": "code",
   "execution_count": null,
   "metadata": {
    "id": "nvTyMTqR4nlm"
   },
   "outputs": [],
   "source": [
    "s9_grammar1 = nltk.CFG.fromstring(\"\"\"\n",
    "S -> NP VP\n",
    "NP -> NP CONJ NP | N | N\n",
    "VP -> V ADJP\n",
    "ADJP -> ADJP CONJ ADJP | ADJ | ADV ADJ\n",
    "N -> 'Homer' | 'Marge'\n",
    "V -> 'are'\n",
    "CONJ -> 'and' | 'but'\n",
    "ADJ -> 'poor' | 'happy'\n",
    "ADV -> 'very'\n",
    "\"\"\")"
   ]
  },
  {
   "cell_type": "code",
   "execution_count": null,
   "metadata": {
    "colab": {
     "base_uri": "https://localhost:8080/"
    },
    "id": "ylkDvKGj4yIS",
    "outputId": "feadf4cb-cf28-4581-f359-f6e192dee387"
   },
   "outputs": [
    {
     "name": "stdout",
     "output_type": "stream",
     "text": [
      "(S\n",
      "  (NP (NP (N Homer)) (CONJ and) (NP (N Marge)))\n",
      "  (VP\n",
      "    (V are)\n",
      "    (ADJP (ADJP (ADJ poor)) (CONJ but) (ADJP (ADV very) (ADJ happy)))))\n"
     ]
    }
   ],
   "source": [
    "sent4 = word_tokenize(\"Homer and Marge are poor but very happy\")\n",
    "parser = nltk.ChartParser(s9_grammar1)\n",
    "for i in parser.parse(sent4):\n",
    "  print(i)"
   ]
  },
  {
   "cell_type": "code",
   "execution_count": null,
   "metadata": {
    "colab": {
     "base_uri": "https://localhost:8080/",
     "height": 250
    },
    "id": "h3SRpY2y42jp",
    "outputId": "e4ce2827-c3ee-4803-d2c3-7d22ac901173"
   },
   "outputs": [
    {
     "data": {
      "image/png": "[encoded data removed]",
      "text/plain": [
       "Tree('S', [Tree('NP', [Tree('NP', [Tree('N', ['Homer'])]), Tree('CONJ', ['and']), Tree('NP', [Tree('N', ['Marge'])])]), Tree('VP', [Tree('V', ['are']), Tree('ADJP', [Tree('ADJP', [Tree('ADJ', ['poor'])]), Tree('CONJ', ['but']), Tree('ADJP', [Tree('ADV', ['very']), Tree('ADJ', ['happy'])])])])])"
      ]
     },
     "metadata": {},
     "output_type": "display_data"
    }
   ],
   "source": [
    "np4 =nltk.Tree.fromstring('(S(NP (NP (N Homer)) (CONJ and) (NP (N Marge)))(VP(V are)(ADJP (ADJP (ADJ poor)) (CONJ but) (ADJP (ADV very) (ADJ happy)))))')\n",
    "display(np4)"
   ]
  },
  {
   "cell_type": "markdown",
   "metadata": {
    "id": "Z3cidrLN5Vt9"
   },
   "source": [
    "(s10)Homer and his friends from work drank and sang in the bar"
   ]
  },
  {
   "cell_type": "code",
   "execution_count": null,
   "metadata": {
    "id": "pi1MDiWV5XJz"
   },
   "outputs": [],
   "source": [
    "s10_grammar1 = nltk.CFG.fromstring(\"\"\"\n",
    "S -> NP VP\n",
    "NP -> NP CONJ NP | N | NP PP | Det N | N | Det N\n",
    "VP -> VP PP | VP CONJ VP | V | V\n",
    "PP -> P NP | P NP\n",
    "N -> 'Homer' | 'friends' | 'work' | 'bar'\n",
    "V -> 'drank' | 'sang'\n",
    "CONJ -> 'and' | 'and'\n",
    "Det -> 'his' | 'the'\n",
    "P -> 'from' | 'in'\n",
    "\"\"\")"
   ]
  },
  {
   "cell_type": "code",
   "execution_count": null,
   "metadata": {
    "colab": {
     "base_uri": "https://localhost:8080/"
    },
    "id": "y0sH-RvP5eeB",
    "outputId": "9302aef0-022b-48bc-89fa-75a99b385c26"
   },
   "outputs": [
    {
     "name": "stdout",
     "output_type": "stream",
     "text": [
      "(S\n",
      "  (NP\n",
      "    (NP (NP (N Homer)) (CONJ and) (NP (Det his) (N friends)))\n",
      "    (PP (P from) (NP (N work))))\n",
      "  (VP\n",
      "    (VP (VP (V drank)) (CONJ and) (VP (V sang)))\n",
      "    (PP (P in) (NP (Det the) (N bar)))))\n",
      "(S\n",
      "  (NP\n",
      "    (NP (N Homer))\n",
      "    (CONJ and)\n",
      "    (NP (NP (Det his) (N friends)) (PP (P from) (NP (N work)))))\n",
      "  (VP\n",
      "    (VP (VP (V drank)) (CONJ and) (VP (V sang)))\n",
      "    (PP (P in) (NP (Det the) (N bar)))))\n",
      "(S\n",
      "  (NP\n",
      "    (NP (NP (N Homer)) (CONJ and) (NP (Det his) (N friends)))\n",
      "    (PP (P from) (NP (N work))))\n",
      "  (VP\n",
      "    (VP (V drank))\n",
      "    (CONJ and)\n",
      "    (VP (VP (V sang)) (PP (P in) (NP (Det the) (N bar))))))\n",
      "(S\n",
      "  (NP\n",
      "    (NP (N Homer))\n",
      "    (CONJ and)\n",
      "    (NP (NP (Det his) (N friends)) (PP (P from) (NP (N work)))))\n",
      "  (VP\n",
      "    (VP (V drank))\n",
      "    (CONJ and)\n",
      "    (VP (VP (V sang)) (PP (P in) (NP (Det the) (N bar))))))\n"
     ]
    }
   ],
   "source": [
    "sent5 = word_tokenize(\"Homer and his friends from work drank and sang in the bar\")\n",
    "parser = nltk.ChartParser(s10_grammar1)\n",
    "for i in parser.parse(sent5):\n",
    "  print(i)"
   ]
  },
  {
   "cell_type": "code",
   "execution_count": null,
   "metadata": {
    "colab": {
     "base_uri": "https://localhost:8080/",
     "height": 250
    },
    "id": "YoUt9KeN6Na4",
    "outputId": "c359e0aa-7a45-4d85-c794-517d5c39ce6b"
   },
   "outputs": [
    {
     "data": {
      "image/png": "[encoded data removed]",
      "text/plain": [
       "Tree('S', [Tree('NP', [Tree('NP', [Tree('NP', [Tree('N', ['Homer'])]), Tree('CONJ', ['and']), Tree('NP', [Tree('Det', ['his']), Tree('N', ['friends'])])]), Tree('PP', [Tree('P', ['from']), Tree('NP', [Tree('N', ['work'])])])]), Tree('VP', [Tree('VP', [Tree('VP', [Tree('V', ['drank'])]), Tree('CONJ', ['and']), Tree('VP', [Tree('V', ['sang'])])]), Tree('PP', [Tree('P', ['in']), Tree('NP', [Tree('Det', ['the']), Tree('N', ['bar'])])])])])"
      ]
     },
     "metadata": {},
     "output_type": "display_data"
    }
   ],
   "source": [
    "np5 =nltk.Tree.fromstring('(S(NP(NP (NP (N Homer)) (CONJ and) (NP (Det his) (N friends)))(PP (P from) (NP (N work))))(VP(VP (VP (V drank)) (CONJ and) (VP (V sang)))(PP (P in) (NP (Det the) (N bar)))))')\n",
    "display(np5)"
   ]
  },
  {
   "cell_type": "markdown",
   "metadata": {
    "id": "ix-c-hxh9YVh"
   },
   "source": [
    "(s11)Lisa told her brother that she liked peanut butter very much"
   ]
  },
  {
   "cell_type": "code",
   "execution_count": null,
   "metadata": {
    "id": "Adyv8QVc7dSP"
   },
   "outputs": [],
   "source": [
    "s11_grammar1 = nltk.CFG.fromstring(\"\"\"\n",
    "S -> NP VP | NP VP\n",
    "NP -> N | Det N | PRO | N N\n",
    "VP -> V NP CP | VP ADVP | V NP\n",
    "ADVP -> ADV ADV\n",
    "CP -> COMP S\n",
    "N -> 'Lisa' | 'brother' | 'peanut' | 'butter'\n",
    "V -> 'told' | 'liked'\n",
    "COMP -> 'that'\n",
    "Det -> 'her'\n",
    "PRO -> 'she'\n",
    "ADV -> 'very' | 'much'\n",
    "\"\"\")"
   ]
  },
  {
   "cell_type": "code",
   "execution_count": null,
   "metadata": {
    "colab": {
     "base_uri": "https://localhost:8080/"
    },
    "id": "JjmBFp0w9djH",
    "outputId": "0094d500-0ca9-471b-c56f-3f69cc885d39"
   },
   "outputs": [
    {
     "name": "stdout",
     "output_type": "stream",
     "text": [
      "(S\n",
      "  (NP (N Lisa))\n",
      "  (VP\n",
      "    (VP\n",
      "      (V told)\n",
      "      (NP (Det her) (N brother))\n",
      "      (CP\n",
      "        (COMP that)\n",
      "        (S (NP (PRO she)) (VP (V liked) (NP (N peanut) (N butter))))))\n",
      "    (ADVP (ADV very) (ADV much))))\n",
      "(S\n",
      "  (NP (N Lisa))\n",
      "  (VP\n",
      "    (V told)\n",
      "    (NP (Det her) (N brother))\n",
      "    (CP\n",
      "      (COMP that)\n",
      "      (S\n",
      "        (NP (PRO she))\n",
      "        (VP\n",
      "          (VP (V liked) (NP (N peanut) (N butter)))\n",
      "          (ADVP (ADV very) (ADV much)))))))\n"
     ]
    }
   ],
   "source": [
    "sent6 = word_tokenize(\"Lisa told her brother that she liked peanut butter very much\")\n",
    "parser = nltk.ChartParser(s11_grammar1)\n",
    "for i in parser.parse(sent6):\n",
    "  print(i)"
   ]
  },
  {
   "cell_type": "code",
   "execution_count": null,
   "metadata": {
    "colab": {
     "base_uri": "https://localhost:8080/",
     "height": 373
    },
    "id": "h-mBZNVW9jUg",
    "outputId": "b2f4343b-9bf2-43ed-ed96-2d83af093047"
   },
   "outputs": [
    {
     "data": {
      "image/png": "[encoded data removed]",
      "text/plain": [
       "Tree('S', [Tree('NP', [Tree('N', ['Lisa'])]), Tree('VP', [Tree('V', ['told']), Tree('NP', [Tree('Det', ['her']), Tree('N', ['brother'])]), Tree('CP', [Tree('COMP', ['that']), Tree('S', [Tree('NP', [Tree('PRO', ['she'])]), Tree('VP', [Tree('VP', [Tree('V', ['liked']), Tree('NP', [Tree('N', ['peanut']), Tree('N', ['butter'])])]), Tree('ADVP', [Tree('ADV', ['very']), Tree('ADV', ['much'])])])])])])])"
      ]
     },
     "metadata": {},
     "output_type": "display_data"
    }
   ],
   "source": [
    "np6 =nltk.Tree.fromstring('(S(NP (N Lisa))(VP(V told)(NP (Det her) (N brother))(CP(COMP that)(S(NP (PRO she))(VP(VP (V liked) (NP (N peanut) (N butter)))(ADVP (ADV very) (ADV much)))))))')\n",
    "display(np6)"
   ]
  },
  {
   "cell_type": "markdown",
   "metadata": {
    "id": "qF7HYxt7_o09"
   },
   "source": [
    "2.Once a grammar is built, you can print it. Also, you can extract a set of production rules with the .productions()\n",
    "method. Unlike the .productions() method called on a Tree object, the resulting list should be duplicate-free. As\n",
    "before, each rule in the list is a production rule type. A rule has a left-hand side node (the parent node), which\n",
    "you can getto using the .lhs() method; the actual string label for the node can be accessed by calling .symbol()\n",
    "on the node object."
   ]
  },
  {
   "cell_type": "code",
   "execution_count": null,
   "metadata": {
    "id": "wPpe1QDk-zed"
   },
   "outputs": [],
   "source": [
    "grammer3 = nltk.CFG.fromstring(\"\"\"\n",
    "S -> NP VP\n",
    "NP -> N\n",
    "VP -> V\n",
    "N -> 'Homer'\n",
    "V -> 'sleeps'\n",
    "\"\"\")"
   ]
  },
  {
   "cell_type": "code",
   "execution_count": null,
   "metadata": {
    "colab": {
     "base_uri": "https://localhost:8080/"
    },
    "id": "lVvEXV2H_tn0",
    "outputId": "0b9895b3-3b14-429e-f5b3-af1ef42ec224"
   },
   "outputs": [
    {
     "name": "stdout",
     "output_type": "stream",
     "text": [
      "Grammar with 5 productions (start state = S)\n",
      "    S -> NP VP\n",
      "    NP -> N\n",
      "    VP -> V\n",
      "    N -> 'Homer'\n",
      "    V -> 'sleeps'\n"
     ]
    }
   ],
   "source": [
    "print(grammer3)"
   ]
  },
  {
   "cell_type": "code",
   "execution_count": null,
   "metadata": {
    "colab": {
     "base_uri": "https://localhost:8080/"
    },
    "id": "s-yZpOTC_xn9",
    "outputId": "cda694b9-4a87-42b6-ea54-f363825b6db9"
   },
   "outputs": [
    {
     "data": {
      "text/plain": [
       "[S -> NP VP, NP -> N, VP -> V, N -> 'Homer', V -> 'sleeps']"
      ]
     },
     "execution_count": 27,
     "metadata": {},
     "output_type": "execute_result"
    }
   ],
   "source": [
    "grammer3.productions()"
   ]
  },
  {
   "cell_type": "code",
   "execution_count": null,
   "metadata": {
    "colab": {
     "base_uri": "https://localhost:8080/"
    },
    "id": "k3N0de7N_1Kd",
    "outputId": "f3f701bf-e761-4d99-ea81-ec505d5aac8d"
   },
   "outputs": [
    {
     "data": {
      "text/plain": [
       "V -> 'sleeps'"
      ]
     },
     "execution_count": 29,
     "metadata": {},
     "output_type": "execute_result"
    }
   ],
   "source": [
    "last_rule = grammer3.productions()[-1]\n",
    "last_rule"
   ]
  },
  {
   "cell_type": "code",
   "execution_count": null,
   "metadata": {
    "colab": {
     "base_uri": "https://localhost:8080/"
    },
    "id": "10Y5TZAV_5A2",
    "outputId": "1a837823-1e2e-48bf-ff20-ad8e7f7eeeab"
   },
   "outputs": [
    {
     "data": {
      "text/plain": [
       "True"
      ]
     },
     "execution_count": 30,
     "metadata": {},
     "output_type": "execute_result"
    }
   ],
   "source": [
    "last_rule.is_lexical()"
   ]
  },
  {
   "cell_type": "code",
   "execution_count": null,
   "metadata": {
    "colab": {
     "base_uri": "https://localhost:8080/"
    },
    "id": "pi42161rAB02",
    "outputId": "90831acf-15a4-4109-e5af-15dfe31b1d73"
   },
   "outputs": [
    {
     "data": {
      "text/plain": [
       "V"
      ]
     },
     "execution_count": 31,
     "metadata": {},
     "output_type": "execute_result"
    }
   ],
   "source": [
    "last_rule.lhs()"
   ]
  },
  {
   "cell_type": "code",
   "execution_count": null,
   "metadata": {
    "colab": {
     "base_uri": "https://localhost:8080/",
     "height": 35
    },
    "id": "Sk85kxOWAF-8",
    "outputId": "f4b67a87-1a72-407e-d631-388c916eb1d6"
   },
   "outputs": [
    {
     "data": {
      "application/vnd.google.colaboratory.intrinsic+json": {
       "type": "string"
      },
      "text/plain": [
       "'V'"
      ]
     },
     "execution_count": 32,
     "metadata": {},
     "output_type": "execute_result"
    }
   ],
   "source": [
    "last_rule.lhs().symbol()"
   ]
  },
  {
   "cell_type": "markdown",
   "metadata": {
    "id": "iK-lx7EmAOBX"
   },
   "source": [
    "3.Explore the rules and answer the following questions."
   ]
  },
  {
   "cell_type": "code",
   "execution_count": null,
   "metadata": {
    "id": "2bMt5i2PAI6J"
   },
   "outputs": [],
   "source": [
    "Grammar_all = nltk.CFG.fromstring(\"\"\"\n",
    "S -> NP VP | NP AUX VP\n",
    "NP -> Det ADJ N | N | PRO | Det N | PRO | NP CP | PRO | NP CONJ | NP PP | N N\n",
    "VP -> V NP | VP PP | V NP PP | V NP | V ADJP | VP PP | VP CONJ | V NP CP | VP ADVP\n",
    "CP -> COMP S\n",
    "PP -> P NP\n",
    "Det -> 'the' | 'his' | 'her'\n",
    "ADJ -> 'big' | 'tiny' | 'nerdy' | 'poor' | 'happy'\n",
    "ADV -> 'very' | 'much'\n",
    "PRO -> 'he' | 'I' | 'him' | 'she'\n",
    "ADJP -> ADJP CONJ | ADJ\n",
    "ADVP -> ADV\n",
    "N -> 'bully' | 'kid' | 'school' | 'book' | 'sister' | 't' | 'Homer' | 'Marge'| 'friends' | 'work' | 'bar' | 'Lisa' | 'brother' | 'peanut' | 'butter'\n",
    "V -> 'punched' | 'gave' | 'given' | 'are' | 'drank' | 'sang' | 'told' | 'liked'\n",
    "CONJ -> 'and' | 'but'\n",
    "COMP -> 'that'\n",
    "AUX -> 'had'\n",
    "P -> 'after' | 'to' | 'from' | 'in'\n",
    "\"\"\")"
   ]
  },
  {
   "cell_type": "markdown",
   "metadata": {
    "id": "GeIs1k_pDS2J"
   },
   "source": [
    "a. What is the start state of your grammar?"
   ]
  },
  {
   "cell_type": "code",
   "execution_count": null,
   "metadata": {
    "colab": {
     "base_uri": "https://localhost:8080/"
    },
    "id": "dOKXLIwvASn0",
    "outputId": "30c8dc2a-698e-486b-b0ac-54642cabd471"
   },
   "outputs": [
    {
     "data": {
      "text/plain": [
       "S"
      ]
     },
     "execution_count": 38,
     "metadata": {},
     "output_type": "execute_result"
    }
   ],
   "source": [
    "Grammar_all.productions()[0].lhs()"
   ]
  },
  {
   "cell_type": "markdown",
   "metadata": {
    "id": "kRh-ZdXdDb5h"
   },
   "source": [
    "b. How many CF rules are in your grammar?"
   ]
  },
  {
   "cell_type": "code",
   "execution_count": null,
   "metadata": {
    "colab": {
     "base_uri": "https://localhost:8080/"
    },
    "id": "rD2eGBy2DXfx",
    "outputId": "c9d2b69c-c0be-4064-ff43-07be5cf49537"
   },
   "outputs": [
    {
     "data": {
      "text/plain": [
       "71"
      ]
     },
     "execution_count": 39,
     "metadata": {},
     "output_type": "execute_result"
    }
   ],
   "source": [
    "len(Grammar_all.productions())"
   ]
  },
  {
   "cell_type": "markdown",
   "metadata": {
    "id": "INsu8uhFECH0"
   },
   "source": [
    "c. How many of them are lexical?"
   ]
  },
  {
   "cell_type": "code",
   "execution_count": null,
   "metadata": {
    "colab": {
     "base_uri": "https://localhost:8080/"
    },
    "id": "0DLdsLVwDgXv",
    "outputId": "277888bf-8364-4596-e533-60a0c0421cb1"
   },
   "outputs": [
    {
     "name": "stdout",
     "output_type": "stream",
     "text": [
      "How many of them are lexical?  45\n"
     ]
    }
   ],
   "source": [
    "n=0\n",
    "for x in Grammar_all.productions():\n",
    "    if x.is_lexical():\n",
    "        n = n+1\n",
    "print(\"How many of them are lexical? \",n)"
   ]
  },
  {
   "cell_type": "markdown",
   "metadata": {
    "id": "iRyc3ty0EZjj"
   },
   "source": [
    "d. How many VP rules are there? That is, how many rules have 'VP' on the left-hand side of the rule? That is, how\n",
    "many rules are of the VP -> ... form?"
   ]
  },
  {
   "cell_type": "code",
   "execution_count": null,
   "metadata": {
    "colab": {
     "base_uri": "https://localhost:8080/"
    },
    "id": "_DOW2RL2EH_g",
    "outputId": "a44aa7ec-5ffc-485f-df11-50547a262f39"
   },
   "outputs": [
    {
     "data": {
      "text/plain": [
       "9"
      ]
     },
     "execution_count": 42,
     "metadata": {},
     "output_type": "execute_result"
    }
   ],
   "source": [
    "n=0\n",
    "for x in Grammar_all.productions():\n",
    "    if x.lhs().symbol() == 'VP':\n",
    "        n = n+1\n",
    "n"
   ]
  },
  {
   "cell_type": "markdown",
   "metadata": {
    "id": "NCrKN33VEuQv"
   },
   "source": [
    "e. How many V rules are there? That is, how many rules have 'V' on the left-hand side of the fule? That is, how\n",
    "many rules are of the V -> ... form?"
   ]
  },
  {
   "cell_type": "code",
   "execution_count": null,
   "metadata": {
    "colab": {
     "base_uri": "https://localhost:8080/"
    },
    "id": "MBHmGQBFEo-f",
    "outputId": "bdcf2528-b562-4165-ff13-5f43bf3848eb"
   },
   "outputs": [
    {
     "data": {
      "text/plain": [
       "8"
      ]
     },
     "execution_count": 43,
     "metadata": {},
     "output_type": "execute_result"
    }
   ],
   "source": [
    "n=0\n",
    "for x in Grammar_all.productions():\n",
    "    if x.lhs().symbol() == 'V':\n",
    "        n = n+1\n",
    "n"
   ]
  },
  {
   "cell_type": "markdown",
   "metadata": {
    "id": "9SgNYfdxE-V5"
   },
   "source": [
    "4.Using grammar1, build a chart parser."
   ]
  },
  {
   "cell_type": "code",
   "execution_count": null,
   "metadata": {
    "colab": {
     "base_uri": "https://localhost:8080/"
    },
    "id": "KHkhe5PGE3j6",
    "outputId": "e5c9d9b4-f652-462b-d35b-ccfdd005ab69"
   },
   "outputs": [
    {
     "name": "stdout",
     "output_type": "stream",
     "text": [
      "(S\n",
      "  (NP (N Lisa))\n",
      "  (VP\n",
      "    (V told)\n",
      "    (NP (Det her) (N brother))\n",
      "    (CP\n",
      "      (COMP that)\n",
      "      (S\n",
      "        (NP (PRO she))\n",
      "        (VP\n",
      "          (VP\n",
      "            (VP (V liked) (NP (N peanut) (N butter)))\n",
      "            (ADVP (ADV very)))\n",
      "          (ADVP (ADV much)))))))\n",
      "(S\n",
      "  (NP (N Lisa))\n",
      "  (VP\n",
      "    (V told)\n",
      "    (NP\n",
      "      (NP (Det her) (N brother))\n",
      "      (CP\n",
      "        (COMP that)\n",
      "        (S\n",
      "          (NP (PRO she))\n",
      "          (VP\n",
      "            (VP\n",
      "              (VP (V liked) (NP (N peanut) (N butter)))\n",
      "              (ADVP (ADV very)))\n",
      "            (ADVP (ADV much))))))))\n",
      "(S\n",
      "  (NP (N Lisa))\n",
      "  (VP\n",
      "    (VP\n",
      "      (VP\n",
      "        (V told)\n",
      "        (NP (Det her) (N brother))\n",
      "        (CP\n",
      "          (COMP that)\n",
      "          (S\n",
      "            (NP (PRO she))\n",
      "            (VP (V liked) (NP (N peanut) (N butter))))))\n",
      "      (ADVP (ADV very)))\n",
      "    (ADVP (ADV much))))\n",
      "(S\n",
      "  (NP (N Lisa))\n",
      "  (VP\n",
      "    (VP\n",
      "      (VP\n",
      "        (V told)\n",
      "        (NP\n",
      "          (NP (Det her) (N brother))\n",
      "          (CP\n",
      "            (COMP that)\n",
      "            (S\n",
      "              (NP (PRO she))\n",
      "              (VP (V liked) (NP (N peanut) (N butter)))))))\n",
      "      (ADVP (ADV very)))\n",
      "    (ADVP (ADV much))))\n",
      "(S\n",
      "  (NP (N Lisa))\n",
      "  (VP\n",
      "    (VP\n",
      "      (V told)\n",
      "      (NP (Det her) (N brother))\n",
      "      (CP\n",
      "        (COMP that)\n",
      "        (S\n",
      "          (NP (PRO she))\n",
      "          (VP\n",
      "            (VP (V liked) (NP (N peanut) (N butter)))\n",
      "            (ADVP (ADV very))))))\n",
      "    (ADVP (ADV much))))\n",
      "(S\n",
      "  (NP (N Lisa))\n",
      "  (VP\n",
      "    (VP\n",
      "      (V told)\n",
      "      (NP\n",
      "        (NP (Det her) (N brother))\n",
      "        (CP\n",
      "          (COMP that)\n",
      "          (S\n",
      "            (NP (PRO she))\n",
      "            (VP\n",
      "              (VP (V liked) (NP (N peanut) (N butter)))\n",
      "              (ADVP (ADV very)))))))\n",
      "    (ADVP (ADV much))))\n"
     ]
    }
   ],
   "source": [
    "sent = word_tokenize(\"Lisa told her brother that she liked peanut butter very much\")\n",
    "parser = nltk.ChartParser(Grammar_all)\n",
    "for i in parser.parse(sent):\n",
    "    print(i)"
   ]
  },
  {
   "cell_type": "code",
   "execution_count": 50,
   "metadata": {
    "colab": {
     "base_uri": "https://localhost:8080/",
     "height": 250
    },
    "id": "S6rZlRQpFFqU",
    "outputId": "fcc60de0-724d-4119-d8c2-a848d9829bb4"
   },
   "outputs": [
    {
     "data": {
      "image/png": "[encoded data removed]",
      "text/plain": [
       "Tree('S', [Tree('NP', ['I']), Tree('VP', [Tree('VP', [Tree('V', ['shot']), Tree('NP', [Tree('Det', ['an']), Tree('N', ['elephant'])])]), Tree('PP', [Tree('P', ['in']), Tree('NP', [Tree('Det', ['my']), Tree('N', ['pajamas'])])])])])"
      ]
     },
     "metadata": {},
     "output_type": "display_data"
    }
   ],
   "source": [
    "q41 =nltk.Tree.fromstring('(S (NP I) (VP (VP (V shot) (NP (Det an) (N elephant))) (PP (P in) (NP (Det my) (N pajamas)))))')\n",
    "display(q41)"
   ]
  },
  {
   "cell_type": "code",
   "execution_count": 51,
   "metadata": {
    "colab": {
     "base_uri": "https://localhost:8080/",
     "height": 291
    },
    "id": "j1F2AsLSUhfn",
    "outputId": "266b7993-aca3-4836-9b44-ea255d99e697"
   },
   "outputs": [
    {
     "data": {
      "image/png": "[encoded data removed]",
      "text/plain": [
       "Tree('S', [Tree('NP', ['I']), Tree('VP', [Tree('V', ['shot']), Tree('NP', [Tree('Det', ['an']), Tree('N', ['elephant']), Tree('PP', [Tree('P', ['in']), Tree('NP', [Tree('Det', ['my']), Tree('N', ['pajamas'])])])])])])"
      ]
     },
     "metadata": {},
     "output_type": "display_data"
    }
   ],
   "source": [
    "q42 =nltk.Tree.fromstring('(S (NP I) (VP (V shot) (NP (Det an) (N elephant) (PP (P in) (NP (Det my) (N pajamas))))))')\n",
    "display(q42)"
   ]
  },
  {
   "cell_type": "markdown",
   "metadata": {
    "id": "3HvpHGCxVqhu"
   },
   "source": [
    "5. Using the parser, parse the sentences s6 -- s11. If your grammar1 is built correctly to cover\n",
    "all of the sentences, the parser should successfully parse all of them."
   ]
  },
  {
   "cell_type": "code",
   "execution_count": 52,
   "metadata": {
    "colab": {
     "base_uri": "https://localhost:8080/"
    },
    "id": "3bS80jlfVhF7",
    "outputId": "b9a8018d-3ddd-4e29-fc48-ac84d38e16d5"
   },
   "outputs": [
    {
     "name": "stdout",
     "output_type": "stream",
     "text": [
      "Collecting simple-colors\n",
      "  Downloading simple_colors-0.1.5-py3-none-any.whl (2.8 kB)\n",
      "Installing collected packages: simple-colors\n",
      "Successfully installed simple-colors-0.1.5\n"
     ]
    }
   ],
   "source": [
    "!pip install simple-colors\n",
    "from simple_colors import *"
   ]
  },
  {
   "cell_type": "code",
   "execution_count": 54,
   "metadata": {
    "colab": {
     "base_uri": "https://localhost:8080/"
    },
    "id": "6Mp5pttkVwtd",
    "outputId": "5fdfb596-895b-4fbd-9659-4c0e4872b3e2",
    "scrolled": true
   },
   "outputs": [
    {
     "name": "stdout",
     "output_type": "stream",
     "text": [
      "\u001b[1;30m(s6):the big bully punched the tiny nerdy kid after school\u001b[0m\n",
      "\n",
      "\n",
      "------------------------------------------------------------------------------\n",
      "\n",
      "\n",
      "\u001b[1;30m(s7):he gave the book to his sister\u001b[0m\n",
      "\n",
      "\n",
      "(S\n",
      "  (NP (PRO he))\n",
      "  (VP\n",
      "    (VP (V gave) (NP (Det the) (N book)))\n",
      "    (PP (P to) (NP (Det his) (N sister)))))\n",
      "(S\n",
      "  (NP (PRO he))\n",
      "  (VP\n",
      "    (V gave)\n",
      "    (NP (Det the) (N book))\n",
      "    (PP (P to) (NP (Det his) (N sister)))))\n",
      "(S\n",
      "  (NP (PRO he))\n",
      "  (VP\n",
      "    (V gave)\n",
      "    (NP\n",
      "      (NP (Det the) (N book))\n",
      "      (PP (P to) (NP (Det his) (N sister))))))\n",
      "------------------------------------------------------------------------------\n",
      "\n",
      "\n",
      "\u001b[1;30m(s8):he gave the book that I had given him t to his sister\u001b[0m\n",
      "\n",
      "\n",
      "------------------------------------------------------------------------------\n",
      "\n",
      "\n",
      "\u001b[1;30m(s9):Homer and Marge are poor but very happy\u001b[0m\n",
      "\n",
      "\n",
      "------------------------------------------------------------------------------\n",
      "\n",
      "\n",
      "\u001b[1;30m(s10):Homer and his friends from work drank and sang in the bar\u001b[0m\n",
      "\n",
      "\n",
      "------------------------------------------------------------------------------\n",
      "\n",
      "\n",
      "\u001b[1;30m(s11):Lisa told her brother that she liked peanut butter very much\u001b[0m\n",
      "\n",
      "\n",
      "(S\n",
      "  (NP (N Lisa))\n",
      "  (VP\n",
      "    (V told)\n",
      "    (NP (Det her) (N brother))\n",
      "    (CP\n",
      "      (COMP that)\n",
      "      (S\n",
      "        (NP (PRO she))\n",
      "        (VP\n",
      "          (VP\n",
      "            (VP (V liked) (NP (N peanut) (N butter)))\n",
      "            (ADVP (ADV very)))\n",
      "          (ADVP (ADV much)))))))\n",
      "(S\n",
      "  (NP (N Lisa))\n",
      "  (VP\n",
      "    (V told)\n",
      "    (NP\n",
      "      (NP (Det her) (N brother))\n",
      "      (CP\n",
      "        (COMP that)\n",
      "        (S\n",
      "          (NP (PRO she))\n",
      "          (VP\n",
      "            (VP\n",
      "              (VP (V liked) (NP (N peanut) (N butter)))\n",
      "              (ADVP (ADV very)))\n",
      "            (ADVP (ADV much))))))))\n",
      "(S\n",
      "  (NP (N Lisa))\n",
      "  (VP\n",
      "    (VP\n",
      "      (VP\n",
      "        (V told)\n",
      "        (NP (Det her) (N brother))\n",
      "        (CP\n",
      "          (COMP that)\n",
      "          (S\n",
      "            (NP (PRO she))\n",
      "            (VP (V liked) (NP (N peanut) (N butter))))))\n",
      "      (ADVP (ADV very)))\n",
      "    (ADVP (ADV much))))\n",
      "(S\n",
      "  (NP (N Lisa))\n",
      "  (VP\n",
      "    (VP\n",
      "      (VP\n",
      "        (V told)\n",
      "        (NP\n",
      "          (NP (Det her) (N brother))\n",
      "          (CP\n",
      "            (COMP that)\n",
      "            (S\n",
      "              (NP (PRO she))\n",
      "              (VP (V liked) (NP (N peanut) (N butter)))))))\n",
      "      (ADVP (ADV very)))\n",
      "    (ADVP (ADV much))))\n",
      "(S\n",
      "  (NP (N Lisa))\n",
      "  (VP\n",
      "    (VP\n",
      "      (V told)\n",
      "      (NP (Det her) (N brother))\n",
      "      (CP\n",
      "        (COMP that)\n",
      "        (S\n",
      "          (NP (PRO she))\n",
      "          (VP\n",
      "            (VP (V liked) (NP (N peanut) (N butter)))\n",
      "            (ADVP (ADV very))))))\n",
      "    (ADVP (ADV much))))\n",
      "(S\n",
      "  (NP (N Lisa))\n",
      "  (VP\n",
      "    (VP\n",
      "      (V told)\n",
      "      (NP\n",
      "        (NP (Det her) (N brother))\n",
      "        (CP\n",
      "          (COMP that)\n",
      "          (S\n",
      "            (NP (PRO she))\n",
      "            (VP\n",
      "              (VP (V liked) (NP (N peanut) (N butter)))\n",
      "              (ADVP (ADV very)))))))\n",
      "    (ADVP (ADV much))))\n"
     ]
    }
   ],
   "source": [
    "print(black(\"(s6):the big bully punched the tiny nerdy kid after school\",\"bold\"))\n",
    "print(\"\\n\")\n",
    "sent6 = word_tokenize(\"the big bully punched the tiny nerdy kid after school\")\n",
    "parser = nltk.ChartParser(Grammar_all)\n",
    "for i in parser.parse(sent6):\n",
    "    print(i)\n",
    "print(\"------------------------------------------------------------------------------\")\n",
    "print(\"\\n\")\n",
    "print(black(\"(s7):he gave the book to his sister\",\"bold\"))\n",
    "print(\"\\n\")\n",
    "sent7 = word_tokenize(\"he gave the book to his sister\")\n",
    "parser = nltk.ChartParser(Grammar_all)\n",
    "for i in parser.parse(sent7):\n",
    "    print(i)\n",
    "print(\"------------------------------------------------------------------------------\")\n",
    "print(\"\\n\")\n",
    "print(black(\"(s8):he gave the book that I had given him t to his sister\",\"bold\"))\n",
    "print(\"\\n\")\n",
    "sent8 = word_tokenize(\"he gave the book that I had given him t to his sister\")\n",
    "parser = nltk.ChartParser(Grammar_all)\n",
    "for i in parser.parse(sent8):\n",
    "    print(i)\n",
    "print(\"------------------------------------------------------------------------------\")\n",
    "print(\"\\n\")\n",
    "print(black(\"(s9):Homer and Marge are poor but very happy\",\"bold\"))\n",
    "print(\"\\n\")\n",
    "sent9 = word_tokenize(\"Homer and Marge are poor but very happy\")\n",
    "parser = nltk.ChartParser(Grammar_all)\n",
    "for i in parser.parse(sent9):\n",
    "    print(i)\n",
    "print(\"------------------------------------------------------------------------------\")\n",
    "print(\"\\n\")\n",
    "print(black(\"(s10):Homer and his friends from work drank and sang in the bar\",\"bold\"))\n",
    "print(\"\\n\")\n",
    "sent10 = word_tokenize(\"Homer and his friends from work drank and sang in the bar\")\n",
    "parser = nltk.ChartParser(Grammar_all)\n",
    "for i in parser.parse(sent10):\n",
    "    print(i)\n",
    "print(\"------------------------------------------------------------------------------\")\n",
    "print(\"\\n\")\n",
    "print(black(\"(s11):Lisa told her brother that she liked peanut butter very much\",\"bold\"))\n",
    "print(\"\\n\")\n",
    "sent11 = word_tokenize(\"Lisa told her brother that she liked peanut butter very much\")\n",
    "parser = nltk.ChartParser(Grammar_all)\n",
    "for i in parser.parse(sent11):\n",
    "    print(i)"
   ]
  },
  {
   "cell_type": "code",
   "execution_count": null,
   "metadata": {
    "id": "D2O2-MtaWP6N"
   },
   "outputs": [],
   "source": []
  }
 ],
 "metadata": {
  "colab": {
   "name": "NLP_LAB-12.ipynb",
   "provenance": []
  },
  "kernelspec": {
   "display_name": "Python 3 (ipykernel)",
   "language": "python",
   "name": "python3"
  },
  "language_info": {
   "codemirror_mode": {
    "name": "ipython",
    "version": 3
   },
   "file_extension": ".py",
   "mimetype": "text/x-python",
   "name": "python",
   "nbconvert_exporter": "python",
   "pygments_lexer": "ipython3",
   "version": "3.9.12"
  }
 },
 "nbformat": 4,
 "nbformat_minor": 1
}
