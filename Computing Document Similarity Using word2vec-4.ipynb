{
 "cells": [
  {
   "cell_type": "markdown",
   "id": "7ffe1ec3",
   "metadata": {},
   "source": [
    "# Lab 4: Document Similarity using Doc2vec"
   ]
  },
  {
   "cell_type": "markdown",
   "id": "3e4b8cce",
   "metadata": {},
   "source": [
    "# 225229138-Sowmiya B"
   ]
  },
  {
   "cell_type": "markdown",
   "id": "7cb418f9",
   "metadata": {},
   "source": [
    "# Exercise-1"
   ]
  },
  {
   "cell_type": "markdown",
   "id": "5daf0df0",
   "metadata": {},
   "source": [
    "# 1.Import dependencies"
   ]
  },
  {
   "cell_type": "code",
   "execution_count": 1,
   "id": "4c4872e0",
   "metadata": {},
   "outputs": [],
   "source": [
    "import gensim"
   ]
  },
  {
   "cell_type": "code",
   "execution_count": 2,
   "id": "72019405",
   "metadata": {},
   "outputs": [],
   "source": [
    "from gensim.models.doc2vec import Doc2Vec, TaggedDocument\n",
    "from nltk.tokenize import word_tokenize\n",
    "from sklearn import utils"
   ]
  },
  {
   "cell_type": "markdown",
   "id": "981a5faa",
   "metadata": {},
   "source": [
    "# 2.Create dataset"
   ]
  },
  {
   "cell_type": "code",
   "execution_count": 3,
   "id": "cd32fc7c",
   "metadata": {},
   "outputs": [],
   "source": [
    "data=[\"I love machine learning. Its awesome.\",\n",
    "\"I love coding in python\",\n",
    "\"I love building chatbots\",\n",
    "\"they chat amagingly well\"]"
   ]
  },
  {
   "cell_type": "markdown",
   "id": "640b4444",
   "metadata": {},
   "source": [
    "# 3.Create TaggedDocument"
   ]
  },
  {
   "cell_type": "code",
   "execution_count": 4,
   "id": "93540d55",
   "metadata": {},
   "outputs": [],
   "source": [
    "tagged_data=[TaggedDocument(words=word_tokenize(d.lower()),tags=[str(i)]) for i,d in enumerate(data)]"
   ]
  },
  {
   "cell_type": "markdown",
   "id": "e134655a",
   "metadata": {},
   "source": [
    "# 4.Train Model"
   ]
  },
  {
   "cell_type": "code",
   "execution_count": 5,
   "id": "bde817de",
   "metadata": {},
   "outputs": [
    {
     "name": "stdout",
     "output_type": "stream",
     "text": [
      "Model Saved\n"
     ]
    }
   ],
   "source": [
    "#model parameters\n",
    "vec_size=20\n",
    "alpha=0.025\n",
    "#create model\n",
    "model=Doc2Vec(vector_size=vec_size,\n",
    "alpha=alpha,\n",
    "min_alpha=0.00025,\n",
    "min_count=1,\n",
    "dm=1)\n",
    "#build vocabulary\n",
    "model.build_vocab(tagged_data)\n",
    "#shuffle data\n",
    "tagged_data=utils.shuffle(tagged_data)\n",
    "#train Doc2Vec model\n",
    "model.train(tagged_data,\n",
    "total_examples=model.corpus_count,\n",
    "epochs=30)\n",
    "model.save(\"d2v.model\")\n",
    "print(\"Model Saved\")"
   ]
  },
  {
   "cell_type": "markdown",
   "id": "3a62fc45",
   "metadata": {},
   "source": [
    "# 5.Find Similar documents for the given document"
   ]
  },
  {
   "cell_type": "code",
   "execution_count": 6,
   "id": "0e016743",
   "metadata": {},
   "outputs": [
    {
     "name": "stdout",
     "output_type": "stream",
     "text": [
      "v1_infer [-0.00460223  0.02200993  0.00612149 -0.00682222  0.02057485 -0.02326127\n",
      "  0.01581453 -0.02249887 -0.02108215 -0.00809938 -0.0157705   0.02006985\n",
      "  0.01283722  0.01144317  0.00391362  0.020437   -0.00689105 -0.01012944\n",
      " -0.02437849  0.023909  ]\n",
      "[('2', 0.3232804536819458), ('0', 0.294086754322052), ('3', 0.2127324491739273)]\n",
      "[-0.01981651  0.01276187 -0.02964032  0.01346308  0.02999946 -0.04133199\n",
      " -0.04301698 -0.05070804  0.02434223 -0.04633504  0.02948824  0.03489508\n",
      " -0.03382522 -0.02371091 -0.00668624  0.00786758 -0.00732696 -0.0426044\n",
      " -0.01944551  0.0090105 ]\n"
     ]
    }
   ],
   "source": [
    "from gensim.models.doc2vec import Doc2Vec\n",
    "model=Doc2Vec.load(\"d2v.model\")\n",
    "#to find the vector of a document which is not in training data\n",
    "test_data=word_tokenize(\"I love chatbots\".lower())\n",
    "v1=model.infer_vector(test_data)\n",
    "print(\"v1_infer\",v1)\n",
    "#to find most similar doc using tags\n",
    "similar_doc=model.dv.most_similar('1')\n",
    "print(similar_doc)\n",
    "#to find vector of doc in training data using tags or\n",
    "#In other words,printing the vector of document at index 1 in training data\n",
    "print(model.dv[\"1\"])"
   ]
  },
  {
   "cell_type": "markdown",
   "id": "10ef775b",
   "metadata": {},
   "source": [
    "# Exercise-2"
   ]
  },
  {
   "cell_type": "markdown",
   "id": "65765c48",
   "metadata": {},
   "source": [
    "# Question-1. Train the following documents using Doc2Vec model"
   ]
  },
  {
   "cell_type": "code",
   "execution_count": 7,
   "id": "da12c396",
   "metadata": {},
   "outputs": [],
   "source": [
    "docs = [\"the house had a tiny little mouse\",\n",
    "\"the cat saw the mouse\",\n",
    "\"the mouse ran away from the house\",\n",
    "\"the cat finally ate the mouse\",\n",
    "\"the end of the mouse story\"]"
   ]
  },
  {
   "cell_type": "code",
   "execution_count": 8,
   "id": "8c7b3b9e",
   "metadata": {},
   "outputs": [],
   "source": [
    "tagged_docs=[TaggedDocument(words=word_tokenize(d.lower()),tags=[str(i)]) for i,d in enumerate(data)]"
   ]
  },
  {
   "cell_type": "code",
   "execution_count": 9,
   "id": "9e8dfb9b",
   "metadata": {},
   "outputs": [
    {
     "name": "stdout",
     "output_type": "stream",
     "text": [
      "Model Saved\n"
     ]
    }
   ],
   "source": [
    "#model parameters\n",
    "vec_size=20\n",
    "alpha=0.025\n",
    "#create model\n",
    "model=Doc2Vec(vector_size=vec_size,\n",
    "alpha=alpha,\n",
    "min_alpha=0.00025,\n",
    "min_count=1,\n",
    "dm=1)\n",
    "#build vocabulary\n",
    "model.build_vocab(tagged_docs)\n",
    "#shuffle data\n",
    "tagged_docs=utils.shuffle(tagged_docs)\n",
    "#train Doc2Vec model\n",
    "model.train(tagged_docs,\n",
    "total_examples=model.corpus_count,\n",
    "epochs=30)\n",
    "model.save(\"d2v.model\")\n",
    "print(\"Model Saved\")"
   ]
  },
  {
   "cell_type": "markdown",
   "id": "8397c8bc",
   "metadata": {},
   "source": [
    "# Question-2.Find the most similar TWO documents for the query document \"cat stayed in the house.\""
   ]
  },
  {
   "cell_type": "code",
   "execution_count": 10,
   "id": "9171bcfb",
   "metadata": {},
   "outputs": [
    {
     "name": "stdout",
     "output_type": "stream",
     "text": [
      "v1_infer [ 0.02303178 -0.01861351 -0.01618026 -0.02199792  0.01709393  0.01425318\n",
      " -0.00348985 -0.01976082  0.01224999 -0.01000794  0.00049192 -0.02076892\n",
      "  0.02171886 -0.02534284 -0.02365892 -0.01409352 -0.00583727 -0.00875944\n",
      "  0.01818324 -0.0098156 ]\n",
      "[('3', 0.34284472465515137), ('1', 0.32951390743255615), ('0', -0.11077228933572769)]\n",
      "[-0.01073227 -0.03608902  0.02061282 -0.04290825  0.01409852 -0.02360749\n",
      "  0.00287542 -0.01058755  0.02692952 -0.04057352 -0.01066964 -0.00015916\n",
      " -0.03402336 -0.03345019 -0.01004159  0.04403679 -0.00635211  0.01754958\n",
      " -0.02937663  0.0443125 ]\n"
     ]
    }
   ],
   "source": [
    "from gensim.models.doc2vec import Doc2Vec\n",
    "model=Doc2Vec.load(\"d2v.model\")\n",
    "#to find the vector of a document which is not in training data\n",
    "test_data=word_tokenize(\"cat stayed in the house\".lower())\n",
    "v1=model.infer_vector(test_data)\n",
    "print(\"v1_infer\",v1)\n",
    "#to find most similar doc using tags\n",
    "similar_doc=model.dv.most_similar('2')\n",
    "print(similar_doc)\n",
    "#to find vector of doc in training data using tags\n",
    "print(model.dv[\"2\"])"
   ]
  },
  {
   "cell_type": "code",
   "execution_count": null,
   "id": "b989e713",
   "metadata": {},
   "outputs": [],
   "source": []
  }
 ],
 "metadata": {
  "kernelspec": {
   "display_name": "Python 3 (ipykernel)",
   "language": "python",
   "name": "python3"
  },
  "language_info": {
   "codemirror_mode": {
    "name": "ipython",
    "version": 3
   },
   "file_extension": ".py",
   "mimetype": "text/x-python",
   "name": "python",
   "nbconvert_exporter": "python",
   "pygments_lexer": "ipython3",
   "version": "3.9.12"
  }
 },
 "nbformat": 4,
 "nbformat_minor": 5
}
