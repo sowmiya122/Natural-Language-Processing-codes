{
 "cells": [
  {
   "cell_type": "markdown",
   "metadata": {},
   "source": [
    "# Lab3.Computing Document Similarity Using VSM"
   ]
  },
  {
   "cell_type": "markdown",
   "metadata": {},
   "source": [
    "### 225229138"
   ]
  },
  {
   "cell_type": "markdown",
   "metadata": {},
   "source": [
    "# Exercise-I: Print TFIDF values"
   ]
  },
  {
   "cell_type": "code",
   "execution_count": 1,
   "metadata": {},
   "outputs": [],
   "source": [
    "from sklearn.feature_extraction.text import TfidfVectorizer\n",
    "import pandas as pd"
   ]
  },
  {
   "cell_type": "code",
   "execution_count": 2,
   "metadata": {},
   "outputs": [],
   "source": [
    "docs=[\"good movie\",\"not a good movie\",\"did not like\",\"i like it\",\"good one\"]"
   ]
  },
  {
   "cell_type": "code",
   "execution_count": 3,
   "metadata": {},
   "outputs": [
    {
     "name": "stdout",
     "output_type": "stream",
     "text": [
      "  (0, 2)\t0.7071067811865476\n",
      "  (0, 0)\t0.7071067811865476\n",
      "  (1, 2)\t0.5773502691896257\n",
      "  (1, 0)\t0.5773502691896257\n",
      "  (1, 3)\t0.5773502691896257\n",
      "  (2, 3)\t0.7071067811865476\n",
      "  (2, 1)\t0.7071067811865476\n",
      "  (3, 1)\t1.0\n"
     ]
    }
   ],
   "source": [
    "#using default tokenizer in TfidfVectorizer\n",
    "tfidf=TfidfVectorizer(min_df=2,max_df=.5,ngram_range=(1,2)) \n",
    "features=tfidf.fit_transform(docs) \n",
    "print(features) "
   ]
  },
  {
   "cell_type": "code",
   "execution_count": 4,
   "metadata": {},
   "outputs": [
    {
     "name": "stdout",
     "output_type": "stream",
     "text": [
      "   good movie      like     movie       not\n",
      "0    0.707107  0.000000  0.707107  0.000000\n",
      "1    0.577350  0.000000  0.577350  0.577350\n",
      "2    0.000000  0.707107  0.000000  0.707107\n",
      "3    0.000000  1.000000  0.000000  0.000000\n",
      "4    0.000000  0.000000  0.000000  0.000000\n"
     ]
    }
   ],
   "source": [
    "#pretty printing\n",
    "df=pd.DataFrame(features.todense(),columns=tfidf.get_feature_names())\n",
    "print(df)"
   ]
  },
  {
   "cell_type": "markdown",
   "metadata": {},
   "source": [
    "# Exercise-2:"
   ]
  },
  {
   "cell_type": "markdown",
   "metadata": {},
   "source": [
    "# 1.Change the values of min_df and ngram_range and observe various outputs"
   ]
  },
  {
   "cell_type": "code",
   "execution_count": 5,
   "metadata": {},
   "outputs": [
    {
     "name": "stdout",
     "output_type": "stream",
     "text": [
      "  (0, 2)\t1.0\n",
      "  (1, 2)\t0.49552379079705033\n",
      "  (1, 5)\t0.6141889663426562\n",
      "  (1, 6)\t0.6141889663426562\n",
      "  (2, 0)\t0.5773502691896258\n",
      "  (2, 7)\t0.5773502691896258\n",
      "  (2, 1)\t0.5773502691896258\n",
      "  (3, 4)\t1.0\n",
      "  (4, 3)\t1.0\n"
     ]
    }
   ],
   "source": [
    "tfidf=TfidfVectorizer(min_df=1,max_df=.5,ngram_range=(2,4))\n",
    "features=tfidf.fit_transform(docs)\n",
    "print(features)"
   ]
  },
  {
   "cell_type": "code",
   "execution_count": 6,
   "metadata": {},
   "outputs": [
    {
     "name": "stdout",
     "output_type": "stream",
     "text": [
      "   did not  did not like  good movie  good one  like it  not good  \\\n",
      "0  0.00000       0.00000    1.000000       0.0      0.0  0.000000   \n",
      "1  0.00000       0.00000    0.495524       0.0      0.0  0.614189   \n",
      "2  0.57735       0.57735    0.000000       0.0      0.0  0.000000   \n",
      "3  0.00000       0.00000    0.000000       0.0      1.0  0.000000   \n",
      "4  0.00000       0.00000    0.000000       1.0      0.0  0.000000   \n",
      "\n",
      "   not good movie  not like  \n",
      "0        0.000000   0.00000  \n",
      "1        0.614189   0.00000  \n",
      "2        0.000000   0.57735  \n",
      "3        0.000000   0.00000  \n",
      "4        0.000000   0.00000  \n"
     ]
    }
   ],
   "source": [
    "#pretty printing\n",
    "df=pd.DataFrame(features.todense(),columns=tfidf.get_feature_names())\n",
    "print(df)"
   ]
  },
  {
   "cell_type": "markdown",
   "metadata": {},
   "source": [
    "# Exercise-3: Compute Cosine Similarity between 2 Documents"
   ]
  },
  {
   "cell_type": "code",
   "execution_count": 7,
   "metadata": {},
   "outputs": [],
   "source": [
    "from sklearn.metrics.pairwise import linear_kernel"
   ]
  },
  {
   "cell_type": "code",
   "execution_count": 8,
   "metadata": {},
   "outputs": [
    {
     "name": "stdout",
     "output_type": "stream",
     "text": [
      "[[0.49552379]]\n"
     ]
    }
   ],
   "source": [
    "doc1 = features[0:1]\n",
    "doc2 = features[1:2]\n",
    "score = linear_kernel(doc1, doc2)\n",
    "print(score)"
   ]
  },
  {
   "cell_type": "code",
   "execution_count": 9,
   "metadata": {},
   "outputs": [
    {
     "name": "stdout",
     "output_type": "stream",
     "text": [
      "[[1.         0.49552379 0.         0.         0.        ]]\n"
     ]
    }
   ],
   "source": [
    "scores = linear_kernel(doc1, features)\n",
    "print(scores)"
   ]
  },
  {
   "cell_type": "code",
   "execution_count": 10,
   "metadata": {},
   "outputs": [
    {
     "name": "stdout",
     "output_type": "stream",
     "text": [
      "[[1.         0.49552379 0.         0.         0.        ]]\n"
     ]
    }
   ],
   "source": [
    "query = \"I like this good movie\"\n",
    "qfeature = tfidf.transform( [query])\n",
    "score2 = linear_kernel(doc1, features)\n",
    "print(score2)"
   ]
  },
  {
   "cell_type": "markdown",
   "metadata": {},
   "source": [
    "# Exercise-4: Find Top-N similar documents"
   ]
  },
  {
   "cell_type": "code",
   "execution_count": 11,
   "metadata": {},
   "outputs": [],
   "source": [
    "#Question-1. Consider the following documents and compute TFIDF values\n",
    "docs=[\"the house had a tiny little mouse\",\n",
    "\"the cat saw the mouse\",\n",
    "\"the mouse ran away from the house\",\n",
    "\"the cat finally ate the mouse\",\n",
    "\"the end of the mouse story\" ]"
   ]
  },
  {
   "cell_type": "code",
   "execution_count": 12,
   "metadata": {},
   "outputs": [
    {
     "name": "stdout",
     "output_type": "stream",
     "text": [
      "  (0, 1)\t0.7071067811865476\n",
      "  (0, 3)\t0.7071067811865476\n",
      "  (1, 0)\t0.7071067811865476\n",
      "  (1, 2)\t0.7071067811865476\n",
      "  (2, 1)\t0.7071067811865476\n",
      "  (2, 3)\t0.7071067811865476\n",
      "  (3, 0)\t0.7071067811865476\n",
      "  (3, 2)\t0.7071067811865476\n"
     ]
    }
   ],
   "source": [
    "#Question-2. Compute cosine similarity between 3rd document (\"the mouse ran away\n",
    "#Which is the most similar document?\n",
    "tfidf = TfidfVectorizer(min_df=2, max_df=0.5, ngram_range=(1, 2))\n",
    "features = tfidf.fit_transform(docs)\n",
    "print(features)"
   ]
  },
  {
   "cell_type": "code",
   "execution_count": 13,
   "metadata": {},
   "outputs": [
    {
     "name": "stdout",
     "output_type": "stream",
     "text": [
      "[[1. 0. 1. 0. 0.]\n",
      " [0. 1. 0. 1. 0.]\n",
      " [1. 0. 1. 0. 0.]]\n"
     ]
    }
   ],
   "source": [
    "doc1=features[0:3]\n",
    "sr=linear_kernel(doc1, features)\n",
    "print(sr)"
   ]
  },
  {
   "cell_type": "code",
   "execution_count": 14,
   "metadata": {},
   "outputs": [
    {
     "name": "stdout",
     "output_type": "stream",
     "text": [
      "[[1. 0. 1. 0. 0.]\n",
      " [0. 1. 0. 1. 0.]\n",
      " [1. 0. 1. 0. 0.]]\n"
     ]
    }
   ],
   "source": [
    "#Question-3. Find Top-2 similar documents for the 3rd document based on cosine similarity values\n",
    "scores2 = linear_kernel(doc1, features)\n",
    "print(scores2)"
   ]
  }
 ],
 "metadata": {
  "kernelspec": {
   "display_name": "Python 3 (ipykernel)",
   "language": "python",
   "name": "python3"
  },
  "language_info": {
   "codemirror_mode": {
    "name": "ipython",
    "version": 3
   },
   "file_extension": ".py",
   "mimetype": "text/x-python",
   "name": "python",
   "nbconvert_exporter": "python",
   "pygments_lexer": "ipython3",
   "version": "3.9.12"
  }
 },
 "nbformat": 4,
 "nbformat_minor": 2
}
