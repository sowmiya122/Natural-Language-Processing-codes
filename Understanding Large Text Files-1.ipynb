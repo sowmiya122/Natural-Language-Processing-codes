{
 "cells": [
  {
   "cell_type": "markdown",
   "metadata": {},
   "source": [
    "# 225229138-NLP-LAB-1"
   ]
  },
  {
   "cell_type": "markdown",
   "metadata": {},
   "source": [
    "# lab1. Understanding Large Text Files "
   ]
  },
  {
   "cell_type": "markdown",
   "metadata": {},
   "source": [
    "# Exercise-1"
   ]
  },
  {
   "cell_type": "code",
   "execution_count": 1,
   "metadata": {},
   "outputs": [
    {
     "name": "stdout",
     "output_type": "stream",
     "text": [
      "[nltk_data] Downloading package wordnet to\n",
      "[nltk_data]     C:\\Users\\1mscdsa38\\AppData\\Roaming\\nltk_data...\n",
      "[nltk_data]   Package wordnet is already up-to-date!\n"
     ]
    }
   ],
   "source": [
    "import nltk\n",
    "nltk.download('wordnet')\n",
    "text=\"This is Andrew's text, isn't it?\""
   ]
  },
  {
   "cell_type": "markdown",
   "metadata": {},
   "source": [
    "# 1.whitespaceTokenizer"
   ]
  },
  {
   "cell_type": "code",
   "execution_count": 2,
   "metadata": {},
   "outputs": [
    {
     "name": "stdout",
     "output_type": "stream",
     "text": [
      "6\n",
      "['This', 'is', \"Andrew's\", 'text,', \"isn't\", 'it?']\n"
     ]
    }
   ],
   "source": [
    "tokenizer=nltk.tokenize.WhitespaceTokenizer()\n",
    "tokens=tokenizer.tokenize(text)\n",
    "print(len(tokens))\n",
    "print(tokens)"
   ]
  },
  {
   "cell_type": "markdown",
   "metadata": {},
   "source": [
    "# 2.TreebankWordTokenizer"
   ]
  },
  {
   "cell_type": "code",
   "execution_count": 3,
   "metadata": {},
   "outputs": [
    {
     "name": "stdout",
     "output_type": "stream",
     "text": [
      "10\n",
      "['This', 'is', 'Andrew', \"'s\", 'text', ',', 'is', \"n't\", 'it', '?']\n"
     ]
    }
   ],
   "source": [
    "tokenizer=nltk.tokenize.TreebankWordTokenizer()\n",
    "tokens=tokenizer.tokenize(text)\n",
    "print(len(tokens))\n",
    "print(tokens)"
   ]
  },
  {
   "cell_type": "markdown",
   "metadata": {},
   "source": [
    "# 3.WordPunctTokenizer"
   ]
  },
  {
   "cell_type": "code",
   "execution_count": 4,
   "metadata": {},
   "outputs": [
    {
     "name": "stdout",
     "output_type": "stream",
     "text": [
      "12\n",
      "['This', 'is', 'Andrew', \"'\", 's', 'text', ',', 'isn', \"'\", 't', 'it', '?']\n"
     ]
    }
   ],
   "source": [
    "tokenizer=nltk.tokenize.WordPunctTokenizer()\n",
    "tokens=tokenizer.tokenize(text)\n",
    "print(len(tokens))\n",
    "print(tokens)"
   ]
  },
  {
   "cell_type": "markdown",
   "metadata": {},
   "source": [
    "# Exercise:2"
   ]
  },
  {
   "cell_type": "markdown",
   "metadata": {},
   "source": [
    "# 1.open the file"
   ]
  },
  {
   "cell_type": "code",
   "execution_count": 5,
   "metadata": {},
   "outputs": [
    {
     "data": {
      "text/plain": [
       "'The Gift of the Magi\\nby O. Henry\\n\\nOne dollar and eighty-seven cents. That was all. And sixty cents of it was in pennies. Pennies saved one and two at a time by bulldozing the grocer and the vegetable man and the butcher until one\\'s cheeks burned with the silent imputation of parsimony that such close dealing implied. Three times Della counted it. One dollar and eighty-seven cents. And the next day would be Christmas.\\n\\nThere was clearly nothing left to do but flop down on the shabby little couch and howl. So Della did it. Which instigates the moral reflection that life is made up of sobs, sniffles, and smiles, with sniffles predominating.\\n\\nWhile the mistress of the home is gradually subsiding from the first stage to the second, take a look at the home. A furnished flat at $8 per week. It did not exactly beggar description, but it certainly had that word on the look-out for the mendicancy squad.\\n\\nIn the vestibule below was a letter-box into which no letter would go, and an electric button from which no mortal finger could coax a ring. Also appertaining thereunto was a card bearing the name \"Mr. James Dillingham Young.\"\\n\\nThe \"Dillingham\" had been flung to the breeze during a former period of prosperity when its possessor was being paid $30 per week. Now, when the income was shrunk to $20, the letters of \"Dillingham\" looked blurred, as though they were thinking seriously of contracting to a modest and unassuming D. But whenever Mr. James Dillingham Young came home and reached his flat above he was called \"Jim\" and greatly hugged by Mrs. James Dillingham Young, already introduced to you as Della. Which is all very good.\\n\\nDella finished her cry and attended to her cheeks with the powder rag. She stood by the window and looked out dully at a grey cat walking a grey fence in a grey backyard. To-morrow would be Christmas Day, and she had only $1.87 with which to buy Jim a present. She had been saving every penny she could for months, with this result. Twenty dollars a week doesn\\'t go far. Expenses had been greater than she had calculated. They always are. Only $1.87 to buy a present for Jim. Her Jim. Many a happy hour she had spent planning for something nice for him. Something fine and rare and sterling--something just a little bit near to being worthy of the honour of being owned by Jim.\\n\\nThere was a pier-glass between the windows of the room. Perhaps you have seen a pier-glass in an $8 flat. A very thin and very agile person may, by observing his reflection in a rapid sequence of longitudinal strips, obtain a fairly accurate conception of his looks. Della, being slender, had mastered the art.\\n\\nSuddenly she whirled from the window and stood before the glass. Her eyes were shining brilliantly, but her face had lost its colour within twenty seconds. Rapidly she pulled down her hair and let it fall to its full length.\\n\\nNow, there were two possessions of the James Dillingham Youngs in which they both took a mighty pride. One was Jim\\'s gold watch that had been his father\\'s and his grandfather\\'s. The other was Della\\'s hair. Had the Queen of Sheba lived in the flat across the airshaft, Della would have let her hair hang out of the window some day to dry just to depreciate Her Majesty\\'s jewels and gifts. Had King Solomon been the janitor, with all his treasures piled up in the basement, Jim would have pulled out his watch every time he passed, just to see him pluck at his beard from envy.\\n\\nSo now Della\\'s beautiful hair fell about her, rippling and shining like a cascade of brown waters. It reached below her knee and made itself almost a garment for her. And then she did it up again nervously and quickly. Once she faltered for a minute and stood still while a tear or two splashed on the worn red carpet.\\n\\nOn went her old brown jacket; on went her old brown hat. With a whirl of skirts and with the brilliant sparkle still in her eyes, she cluttered out of the door and down the stairs to the street.\\n\\nWhere she stopped the sign read: \"Mme Sofronie. Hair Goods of All Kinds.\" One Eight up Della ran, and collected herself, panting. Madame, large, too white, chilly, hardly looked the \"Sofronie.\"\\n\\n\"Will you buy my hair?\" asked Della.\\n\\n\"I buy hair,\" said Madame. \"Take yer hat off and let\\'s have a sight at the looks of it.\"\\n\\nDown rippled the brown cascade.\\n\\n\"Twenty dollars,\" said Madame, lifting the mass with a practised hand.\\n\\n\"Give it to me quick\" said Della.\\n\\nOh, and the next two hours tripped by on rosy wings. Forget the hashed metaphor. She was ransacking the stores for Jim\\'s present.\\n\\nShe found it at last. It surely had been made for Jim and no one else. There was no other like it in any of the stores, and she had turned all of them inside out. It was a platinum fob chain simple and chaste in design, properly proclaiming its value by substance alone and not by meretricious ornamentation--as all good things should do. It was even worthy of The Watch. As soon as she saw it she knew that it must be Jim\\'s. It was like him. Quietness and value--the description applied to both. Twenty-one dollars they took from her for it, and she hurried home with the 78 cents. With that chain on his watch Jim might be properly anxious about the time in any company. Grand as the watch was, he sometimes looked at it on the sly on account of the old leather strap that he used in place of a chain.\\n\\nWhen Della reached home her intoxication gave way a little to prudence and reason. She got out her curling irons and lighted the gas and went to work repairing the ravages made by generosity added to love. Which is always a tremendous task dear friends--a mammoth task.\\n\\nWithin forty minutes her head was covered with tiny, close-lying curls that made her look wonderfully like a truant schoolboy. She looked at her reflection in the mirror long, carefully, and critically.\\n\\n\"If Jim doesn\\'t kill me,\" she said to herself, \"before he takes a second look at me, he\\'ll say I look like a Coney Island chorus girl. But what could I do--oh! what could I do with a dollar and eighty-seven cents?\"\\n\\nAt 7 o\\'clock the coffee was made and the frying-pan was on the back of the stove hot and ready to cook the chops.\\n\\nJim was never late. Della doubled the fob chain in her hand and sat on the corner of the table near the door that he always entered. Then she heard his step on the stair away down on the first flight, and she turned white for just a moment. She had a habit of saying little silent prayers about the simplest everyday things, and now she whispered: \"Please, God, make him think I am still pretty.\"\\n\\nThe door opened and Jim stepped in and closed it. He looked thin and very serious. Poor fellow, he was only twenty-two--and to be burdened with a family! He needed a new overcoat and he was without gloves.\\n\\nJim stepped inside the door, as immovable as a setter at the scent of quail. His eyes were fixed upon Della, and there was an expression in them that she could not read, and it terrified her. It was not anger, nor surprise, nor disapproval, nor horror, nor any of the sentiments that she had been prepared for. He simply stared at her fixedly with that peculiar expression on his face.\\n\\nDella wriggled off the table and went for him.\\n\\n\"Jim, darling,\" she cried, \"don\\'t look at me that way. I had my hair cut off and sold it because I couldn\\'t have lived through Christmas without giving you a present. It\\'ll grow out again--you won\\'t mind, will you? I just had to do it. My hair grows awfully fast. Say \\'Merry Christmas!\\' Jim, and let\\'s be happy. You don\\'t know what a nice-what a beautiful, nice gift I\\'ve got for you.\"\\n\\n\"You\\'ve cut off your hair?\" asked Jim, laboriously, as if he had not arrived at that patent fact yet, even after the hardest mental labour.\\n\\n\"Cut it off and sold it,\" said Della. \"Don\\'t you like me just as well, anyhow? I\\'m me without my hair, ain\\'t I?\"\\n\\nJim looked about the room curiously.\\n\\n\"You say your hair is gone?\" he said, with an air almost of idiocy.\\n\\n\"You needn\\'t look for it,\" said Della. \"It\\'s sold, I tell you--sold and gone, too. It\\'s Christmas Eve, boy. Be good to me, for it went for you. Maybe the hairs of my head were numbered,\" she went on with a sudden serious sweetness, \"but nobody could ever count my love for you. Shall I put the chops on, Jim?\"\\n\\nOut of his trance Jim seemed quickly to wake. He enfolded his Della. For ten seconds let us regard with discreet scrutiny some inconsequential object in the other direction. Eight dollars a week or a million a year--what is the difference? A mathematician or a wit would give you the wrong answer. The magi brought valuable gifts, but that was not among them. This dark assertion will be illuminated later on.\\n\\nJim drew a package from his overcoat pocket and threw it upon the table.\\n\\n\"Don\\'t make any mistake, Dell,\" he said, \"about me. I don\\'t think there\\'s anything in the way of a haircut or a shave or a shampoo that could make me like my girl any less. But if you\\'ll unwrap that package you may see why you had me going a while at first.\"\\n\\nWhite fingers and nimble tore at the string and paper. And then an ecstatic scream of joy; and then, alas! a quick feminine change to hysterical tears and wails, necessitating the immediate employment of all the comforting powers of the lord of the flat.\\n\\nFor there lay The Combs--the set of combs, side and back, that Della had worshipped for long in a Broadway window. Beautiful combs, pure tortoise-shell, with jewelled rims--just the shade to wear in the beautiful vanished hair. They were expensive combs, she knew, and her heart had simply craved and yearned over them without the least hope of possession. And now, they were hers, but the tresses that should have adorned the coveted adornments were gone.\\n\\nBut she hugged them to her bosom, and at length she was able to look up with dim eyes and a smile and say: \"My hair grows so fast, Jim!\"\\n\\nAnd then Della leaped up like a little singed cat and cried, \"Oh, oh!\"\\n\\nJim had not yet seen his beautiful present. She held it out to him eagerly upon her open palm. The dull precious metal seemed to flash with a reflection of her bright and ardent spirit.\\n\\n\"Isn\\'t it a dandy, Jim? I hunted all over town to find it. You\\'ll have to look at the time a hundred times a day now. Give me your watch. I want to see how it looks on it.\"\\n\\nInstead of obeying, Jim tumbled down on the couch and put his hands under the back of his head and smiled.\\n\\n\"Dell,\" said he, \"let\\'s put our Christmas presents away and keep \\'em a while. They\\'re too nice to use just at present. I sold the watch to get the money to buy Your combs. And now suppose you put the chops on.\"\\n\\nThe magi, as you know, were wise men--wonderfully wise men-who brought gifts to the Babe in the manger. They invented the art of giving Christmas presents. Being wise, their gifts were no doubt wise ones, possibly bearing the privilege of exchange in case of duplication. And here I have lamely related to you the uneventful chronicle of two foolish children in a flat who most unwisely sacrificed for each other the greatest treasures of their house. But in a last word to the wise of these days let it be said that of all who give gifts these two were the wisest. Of all who give and receive gifts, such as they are wisest. Everywhere they are wisest. They are the magi.\\n'"
      ]
     },
     "execution_count": 5,
     "metadata": {},
     "output_type": "execute_result"
    }
   ],
   "source": [
    "f = open(\"gift-of-magi.txt\", \"r\")\n",
    "a=f.read()\n",
    "a"
   ]
  },
  {
   "cell_type": "markdown",
   "metadata": {},
   "source": [
    "# 2.write python script"
   ]
  },
  {
   "cell_type": "markdown",
   "metadata": {},
   "source": [
    "# 1.how many word tokens"
   ]
  },
  {
   "cell_type": "code",
   "execution_count": 6,
   "metadata": {},
   "outputs": [
    {
     "name": "stdout",
     "output_type": "stream",
     "text": [
      "2517\n"
     ]
    }
   ],
   "source": [
    "tokens=tokenizer.tokenize(a)\n",
    "print(len(tokens))"
   ]
  },
  {
   "cell_type": "markdown",
   "metadata": {},
   "source": [
    "# 2.how many word types"
   ]
  },
  {
   "cell_type": "code",
   "execution_count": 7,
   "metadata": {},
   "outputs": [
    {
     "name": "stdout",
     "output_type": "stream",
     "text": [
      "<FreqDist with 833 samples and 2517 outcomes>\n"
     ]
    }
   ],
   "source": [
    "from nltk import *\n",
    "z = FreqDist(tokens)\n",
    "print(z)"
   ]
  },
  {
   "cell_type": "markdown",
   "metadata": {},
   "source": [
    "# 3.20 most frequent words and their counts\n",
    "\n",
    "\n",
    "\n"
   ]
  },
  {
   "cell_type": "code",
   "execution_count": 8,
   "metadata": {},
   "outputs": [
    {
     "data": {
      "text/plain": [
       "[('.', 139),\n",
       " ('the', 109),\n",
       " (',', 95),\n",
       " ('and', 75),\n",
       " ('a', 65),\n",
       " ('of', 51),\n",
       " ('to', 41),\n",
       " (\"'\", 38),\n",
       " ('\"', 34),\n",
       " ('it', 29),\n",
       " ('was', 27),\n",
       " ('Jim', 26),\n",
       " ('she', 25),\n",
       " ('in', 24),\n",
       " ('her', 24),\n",
       " ('had', 21),\n",
       " ('that', 20),\n",
       " ('Della', 20),\n",
       " ('for', 20),\n",
       " ('at', 19)]"
      ]
     },
     "execution_count": 8,
     "metadata": {},
     "output_type": "execute_result"
    }
   ],
   "source": [
    "z.most_common(20)"
   ]
  },
  {
   "cell_type": "markdown",
   "metadata": {},
   "source": [
    "# 4.words that are atleast 10 characters long and their counts"
   ]
  },
  {
   "cell_type": "code",
   "execution_count": 9,
   "metadata": {},
   "outputs": [
    {
     "data": {
      "text/plain": [
       "FreqDist({'appertaining': 1,\n",
       "          'brilliantly': 1,\n",
       "          'contracting': 1,\n",
       "          'description': 2,\n",
       "          'disapproval': 1,\n",
       "          'duplication': 1,\n",
       "          'grandfather': 1,\n",
       "          'illuminated': 1,\n",
       "          'inconsequential': 1,\n",
       "          'intoxication': 1,\n",
       "          'laboriously': 1,\n",
       "          'longitudinal': 1,\n",
       "          'mathematician': 1,\n",
       "          'meretricious': 1,\n",
       "          'necessitating': 1,\n",
       "          'ornamentation': 1,\n",
       "          'possessions': 1,\n",
       "          'predominating': 1,\n",
       "          'proclaiming': 1,\n",
       "          'wonderfully': 2})"
      ]
     },
     "execution_count": 9,
     "metadata": {},
     "output_type": "execute_result"
    }
   ],
   "source": [
    "s= [m for m in tokens if len(m)>10]\n",
    "count = FreqDist(s)\n",
    "count"
   ]
  },
  {
   "cell_type": "markdown",
   "metadata": {},
   "source": [
    "# 5.10+ characters long words"
   ]
  },
  {
   "cell_type": "code",
   "execution_count": 10,
   "metadata": {},
   "outputs": [
    {
     "name": "stdout",
     "output_type": "stream",
     "text": [
      "word: description Count:  2\n",
      "word: wonderfully Count:  2\n"
     ]
    }
   ],
   "source": [
    "for i,j in count.items():\n",
    "    if len(i)>10 and j>=2:\n",
    "        print(\"word:\",i,'Count: ',j)"
   ]
  },
  {
   "cell_type": "markdown",
   "metadata": {},
   "source": [
    "# Exercise : 3"
   ]
  },
  {
   "cell_type": "markdown",
   "metadata": {},
   "source": [
    "# step-1"
   ]
  },
  {
   "cell_type": "code",
   "execution_count": 11,
   "metadata": {},
   "outputs": [
    {
     "data": {
      "text/plain": [
       "'e deficiencies, the wishes,\\nthe hopes, the confidence, the predictions of the small band\\nof true friends who witnessed the ceremony, were fully answered\\nin the perfect happiness of the union.\\n\\n\\nFINIS\\n'"
      ]
     },
     "execution_count": 11,
     "metadata": {},
     "output_type": "execute_result"
    }
   ],
   "source": [
    "f=open(\"austen-emma.txt\",'r')\n",
    "etxt=f.read()\n",
    "f.close()\n",
    "etxt[-200:]"
   ]
  },
  {
   "cell_type": "code",
   "execution_count": 12,
   "metadata": {},
   "outputs": [
    {
     "data": {
      "text/plain": [
       "['of',\n",
       " 'true',\n",
       " 'friends',\n",
       " 'who',\n",
       " 'witnessed',\n",
       " 'the',\n",
       " 'ceremony',\n",
       " ',',\n",
       " 'were',\n",
       " 'fully',\n",
       " 'answered',\n",
       " 'in',\n",
       " 'the',\n",
       " 'perfect',\n",
       " 'happiness',\n",
       " 'of',\n",
       " 'the',\n",
       " 'union',\n",
       " '.',\n",
       " 'finis']"
      ]
     },
     "execution_count": 12,
     "metadata": {},
     "output_type": "execute_result"
    }
   ],
   "source": [
    "etoks=nltk.word_tokenize(etxt.lower())\n",
    "etoks[-20:]"
   ]
  },
  {
   "cell_type": "code",
   "execution_count": 13,
   "metadata": {},
   "outputs": [
    {
     "data": {
      "text/plain": [
       "191669"
      ]
     },
     "execution_count": 13,
     "metadata": {},
     "output_type": "execute_result"
    }
   ],
   "source": [
    "len(etoks)"
   ]
  },
  {
   "cell_type": "code",
   "execution_count": 14,
   "metadata": {},
   "outputs": [
    {
     "data": {
      "text/plain": [
       "['younger',\n",
       " 'youngest',\n",
       " 'your',\n",
       " 'yours',\n",
       " 'yourself',\n",
       " 'yourself.',\n",
       " 'youth',\n",
       " 'youthful',\n",
       " 'zeal',\n",
       " 'zigzags']"
      ]
     },
     "execution_count": 14,
     "metadata": {},
     "output_type": "execute_result"
    }
   ],
   "source": [
    "etypes=sorted(set(etoks))\n",
    "etypes[-10:]"
   ]
  },
  {
   "cell_type": "code",
   "execution_count": 15,
   "metadata": {},
   "outputs": [
    {
     "data": {
      "text/plain": [
       "8000"
      ]
     },
     "execution_count": 15,
     "metadata": {},
     "output_type": "execute_result"
    }
   ],
   "source": [
    "len(etypes)"
   ]
  },
  {
   "cell_type": "code",
   "execution_count": 16,
   "metadata": {},
   "outputs": [
    {
     "data": {
      "text/plain": [
       "24"
      ]
     },
     "execution_count": 16,
     "metadata": {},
     "output_type": "execute_result"
    }
   ],
   "source": [
    "efreq=nltk.FreqDist(etoks)\n",
    "efreq['beautiful']"
   ]
  },
  {
   "cell_type": "markdown",
   "metadata": {},
   "source": [
    "# step-2 - list comprehend emma"
   ]
  },
  {
   "cell_type": "markdown",
   "metadata": {},
   "source": [
    "# Question 1: words with prefix and suffix "
   ]
  },
  {
   "cell_type": "code",
   "execution_count": 17,
   "metadata": {},
   "outputs": [
    {
     "data": {
      "text/plain": [
       "['unexceptionable',\n",
       " 'unsuitable',\n",
       " 'unreasonable',\n",
       " 'unreasonable',\n",
       " 'uncomfortable',\n",
       " 'unfavourable',\n",
       " 'unexceptionable',\n",
       " 'unexceptionable',\n",
       " 'uncomfortable',\n",
       " 'unpersuadable',\n",
       " 'unavoidable',\n",
       " 'unreasonable',\n",
       " 'uncomfortable',\n",
       " 'unsuitable',\n",
       " 'unmanageable',\n",
       " 'unexceptionable',\n",
       " 'unreasonable',\n",
       " 'unobjectionable',\n",
       " 'unpersuadable',\n",
       " 'unsuitable',\n",
       " 'unreasonable',\n",
       " 'uncomfortable',\n",
       " 'unexceptionable',\n",
       " 'unpardonable',\n",
       " 'unmanageable',\n",
       " 'unanswerable',\n",
       " 'unfavourable',\n",
       " 'unpersuadable',\n",
       " 'unaccountable',\n",
       " 'undesirable',\n",
       " 'unable',\n",
       " 'unable',\n",
       " 'unpardonable',\n",
       " 'unexceptionable',\n",
       " 'unreasonable',\n",
       " 'unreasonable',\n",
       " 'uncomfortable',\n",
       " 'unreasonable',\n",
       " 'unpardonable',\n",
       " 'unaccountable',\n",
       " 'unexceptionable',\n",
       " 'unreasonable',\n",
       " 'unaccountable']"
      ]
     },
     "execution_count": 17,
     "metadata": {},
     "output_type": "execute_result"
    }
   ],
   "source": [
    "[word for word in etoks if word.startswith(\"un\")& word.endswith(\"able\")]"
   ]
  },
  {
   "cell_type": "markdown",
   "metadata": {},
   "source": [
    "# Question 2: Length"
   ]
  },
  {
   "cell_type": "code",
   "execution_count": 18,
   "metadata": {},
   "outputs": [],
   "source": [
    "tokenizer=nltk.tokenize.WordPunctTokenizer()\n",
    "toke=tokenizer.tokenize(etxt)"
   ]
  },
  {
   "cell_type": "code",
   "execution_count": 19,
   "metadata": {},
   "outputs": [
    {
     "data": {
      "text/plain": [
       "['companionableness',\n",
       " 'misunderstanding',\n",
       " 'incomprehensible',\n",
       " 'undistinguishing',\n",
       " 'unceremoniousness',\n",
       " 'Disingenuousness',\n",
       " 'disagreeableness',\n",
       " 'misunderstandings',\n",
       " 'misunderstandings',\n",
       " 'misunderstandings',\n",
       " 'misunderstandings',\n",
       " 'disinterestedness',\n",
       " 'unseasonableness']"
      ]
     },
     "execution_count": 19,
     "metadata": {},
     "output_type": "execute_result"
    }
   ],
   "source": [
    "[word for word in toke if len(word)>15]"
   ]
  },
  {
   "cell_type": "markdown",
   "metadata": {},
   "source": [
    "# Question 3: Average word length "
   ]
  },
  {
   "cell_type": "code",
   "execution_count": 20,
   "metadata": {},
   "outputs": [
    {
     "data": {
      "text/plain": [
       "3.755268231589122"
      ]
     },
     "execution_count": 20,
     "metadata": {},
     "output_type": "execute_result"
    }
   ],
   "source": [
    "average=sum(len(word)for word in toke)/len(toke)\n",
    "average"
   ]
  },
  {
   "cell_type": "markdown",
   "metadata": {},
   "source": [
    "# Question 4: Word frequency "
   ]
  },
  {
   "cell_type": "code",
   "execution_count": 21,
   "metadata": {},
   "outputs": [],
   "source": [
    "from nltk import * \n",
    "fdiemm=FreqDist(toke)"
   ]
  },
  {
   "cell_type": "markdown",
   "metadata": {},
   "source": [
    "# STEP-3: bigrams in Emma"
   ]
  },
  {
   "cell_type": "code",
   "execution_count": 22,
   "metadata": {},
   "outputs": [],
   "source": [
    "e2grams=list(nltk.bigrams(toke))\n",
    "e2gramfd=nltk.FreqDist(e2grams)"
   ]
  },
  {
   "cell_type": "code",
   "execution_count": 23,
   "metadata": {},
   "outputs": [
    {
     "data": {
      "text/plain": [
       "FreqDist({('[', 'Emma'): 1,\n",
       "          ('Emma', 'by'): 1,\n",
       "          ('by', 'Jane'): 2,\n",
       "          ('Jane', 'Austen'): 1,\n",
       "          ('Austen', '1816'): 1,\n",
       "          ('1816', ']'): 1,\n",
       "          (']', 'VOLUME'): 1,\n",
       "          ('VOLUME', 'I'): 1,\n",
       "          ('I', 'CHAPTER'): 1,\n",
       "          ('CHAPTER', 'I'): 3,\n",
       "          ('I', 'Emma'): 2,\n",
       "          ('Emma', 'Woodhouse'): 5,\n",
       "          ('Woodhouse', ','): 110,\n",
       "          (',', 'handsome'): 5,\n",
       "          ('handsome', ','): 6,\n",
       "          (',', 'clever'): 1,\n",
       "          ('clever', ','): 7,\n",
       "          (',', 'and'): 1879,\n",
       "          ('and', 'rich'): 1,\n",
       "          ('rich', ','): 3,\n",
       "          (',', 'with'): 177,\n",
       "          ('with', 'a'): 119,\n",
       "          ('a', 'comfortable'): 3,\n",
       "          ('comfortable', 'home'): 2,\n",
       "          ('home', 'and'): 4,\n",
       "          ('and', 'happy'): 8,\n",
       "          ('happy', 'disposition'): 1,\n",
       "          ('disposition', ','): 5,\n",
       "          (',', 'seemed'): 13,\n",
       "          ('seemed', 'to'): 44,\n",
       "          ('to', 'unite'): 1,\n",
       "          ('unite', 'some'): 1,\n",
       "          ('some', 'of'): 19,\n",
       "          ('of', 'the'): 556,\n",
       "          ('the', 'best'): 38,\n",
       "          ('best', 'blessings'): 2,\n",
       "          ('blessings', 'of'): 3,\n",
       "          ('of', 'existence'): 4,\n",
       "          ('existence', ';'): 2,\n",
       "          (';', 'and'): 866,\n",
       "          ('and', 'had'): 33,\n",
       "          ('had', 'lived'): 7,\n",
       "          ('lived', 'nearly'): 1,\n",
       "          ('nearly', 'twenty'): 1,\n",
       "          ('twenty', '-'): 6,\n",
       "          ('-', 'one'): 1,\n",
       "          ('one', 'years'): 1,\n",
       "          ('years', 'in'): 2,\n",
       "          ('in', 'the'): 434,\n",
       "          ('the', 'world'): 76,\n",
       "          ('world', 'with'): 1,\n",
       "          ('with', 'very'): 3,\n",
       "          ('very', 'little'): 27,\n",
       "          ('little', 'to'): 7,\n",
       "          ('to', 'distress'): 2,\n",
       "          ('distress', 'or'): 1,\n",
       "          ('or', 'vex'): 1,\n",
       "          ('vex', 'her'): 1,\n",
       "          ('her', '.'): 110,\n",
       "          ('.', 'She'): 413,\n",
       "          ('She', 'was'): 110,\n",
       "          ('was', 'the'): 90,\n",
       "          ('the', 'youngest'): 3,\n",
       "          ('youngest', 'of'): 2,\n",
       "          ('the', 'two'): 43,\n",
       "          ('two', 'daughters'): 3,\n",
       "          ('daughters', 'of'): 2,\n",
       "          ('of', 'a'): 149,\n",
       "          ('a', 'most'): 54,\n",
       "          ('most', 'affectionate'): 1,\n",
       "          ('affectionate', ','): 2,\n",
       "          (',', 'indulgent'): 1,\n",
       "          ('indulgent', 'father'): 1,\n",
       "          ('father', ';'): 7,\n",
       "          ('had', ','): 18,\n",
       "          (',', 'in'): 236,\n",
       "          ('in', 'consequence'): 2,\n",
       "          ('consequence', 'of'): 5,\n",
       "          ('of', 'her'): 262,\n",
       "          ('her', 'sister'): 8,\n",
       "          ('sister', \"'\"): 6,\n",
       "          (\"'\", 's'): 932,\n",
       "          ('s', 'marriage'): 7,\n",
       "          ('marriage', ','): 7,\n",
       "          (',', 'been'): 6,\n",
       "          ('been', 'mistress'): 2,\n",
       "          ('mistress', 'of'): 8,\n",
       "          ('of', 'his'): 191,\n",
       "          ('his', 'house'): 7,\n",
       "          ('house', 'from'): 2,\n",
       "          ('from', 'a'): 16,\n",
       "          ('a', 'very'): 184,\n",
       "          ('very', 'early'): 4,\n",
       "          ('early', 'period'): 1,\n",
       "          ('period', '.'): 2,\n",
       "          ('.', 'Her'): 76,\n",
       "          ('Her', 'mother'): 1,\n",
       "          ('mother', 'had'): 3,\n",
       "          ('had', 'died'): 2,\n",
       "          ('died', 'too'): 1,\n",
       "          ('too', 'long'): 2,\n",
       "          ('long', 'ago'): 4,\n",
       "          ('ago', 'for'): 2,\n",
       "          ('for', 'her'): 121,\n",
       "          ('her', 'to'): 94,\n",
       "          ('to', 'have'): 183,\n",
       "          ('have', 'more'): 4,\n",
       "          ('more', 'than'): 79,\n",
       "          ('than', 'an'): 5,\n",
       "          ('an', 'indistinct'): 1,\n",
       "          ('indistinct', 'remembrance'): 1,\n",
       "          ('remembrance', 'of'): 7,\n",
       "          ('her', 'caresses'): 1,\n",
       "          ('caresses', ';'): 1,\n",
       "          ('and', 'her'): 66,\n",
       "          ('her', 'place'): 4,\n",
       "          ('place', 'had'): 2,\n",
       "          ('had', 'been'): 308,\n",
       "          ('been', 'supplied'): 1,\n",
       "          ('supplied', 'by'): 1,\n",
       "          ('by', 'an'): 1,\n",
       "          ('an', 'excellent'): 19,\n",
       "          ('excellent', 'woman'): 1,\n",
       "          ('woman', 'as'): 4,\n",
       "          ('as', 'governess'): 4,\n",
       "          ('governess', ','): 4,\n",
       "          (',', 'who'): 127,\n",
       "          ('who', 'had'): 48,\n",
       "          ('had', 'fallen'): 2,\n",
       "          ('fallen', 'little'): 1,\n",
       "          ('little', 'short'): 1,\n",
       "          ('short', 'of'): 1,\n",
       "          ('a', 'mother'): 4,\n",
       "          ('mother', 'in'): 2,\n",
       "          ('in', 'affection'): 1,\n",
       "          ('affection', '.'): 5,\n",
       "          ('.', 'Sixteen'): 2,\n",
       "          ('Sixteen', 'years'): 1,\n",
       "          ('years', 'had'): 1,\n",
       "          ('had', 'Miss'): 3,\n",
       "          ('Miss', 'Taylor'): 48,\n",
       "          ('Taylor', 'been'): 1,\n",
       "          ('been', 'in'): 23,\n",
       "          ('in', 'Mr'): 13,\n",
       "          ('Mr', '.'): 1153,\n",
       "          ('.', 'Woodhouse'): 135,\n",
       "          ('Woodhouse', \"'\"): 36,\n",
       "          ('s', 'family'): 7,\n",
       "          ('family', ','): 26,\n",
       "          (',', 'less'): 4,\n",
       "          ('less', 'as'): 1,\n",
       "          ('as', 'a'): 58,\n",
       "          ('a', 'governess'): 2,\n",
       "          ('governess', 'than'): 1,\n",
       "          ('than', 'a'): 20,\n",
       "          ('a', 'friend'): 29,\n",
       "          ('friend', ','): 30,\n",
       "          (',', 'very'): 56,\n",
       "          ('very', 'fond'): 9,\n",
       "          ('fond', 'of'): 33,\n",
       "          ('of', 'both'): 12,\n",
       "          ('both', 'daughters'): 1,\n",
       "          ('daughters', ','): 2,\n",
       "          (',', 'but'): 302,\n",
       "          ('but', 'particularly'): 4,\n",
       "          ('particularly', 'of'): 1,\n",
       "          ('of', 'Emma'): 11,\n",
       "          ('Emma', '.'): 44,\n",
       "          ('.', 'Between'): 1,\n",
       "          ('Between', '_them_'): 1,\n",
       "          ('_them_', 'it'): 1,\n",
       "          ('it', 'was'): 284,\n",
       "          ('was', 'more'): 16,\n",
       "          ('more', 'the'): 3,\n",
       "          ('the', 'intimacy'): 2,\n",
       "          ('intimacy', 'of'): 1,\n",
       "          ('of', 'sisters'): 1,\n",
       "          ('sisters', '.'): 1,\n",
       "          ('.', 'Even'): 8,\n",
       "          ('Even', 'before'): 1,\n",
       "          ('before', 'Miss'): 4,\n",
       "          ('Taylor', 'had'): 4,\n",
       "          ('had', 'ceased'): 1,\n",
       "          ('ceased', 'to'): 3,\n",
       "          ('to', 'hold'): 7,\n",
       "          ('hold', 'the'): 2,\n",
       "          ('the', 'nominal'): 1,\n",
       "          ('nominal', 'office'): 1,\n",
       "          ('office', 'of'): 2,\n",
       "          ('of', 'governess'): 1,\n",
       "          (',', 'the'): 225,\n",
       "          ('the', 'mildness'): 1,\n",
       "          ('mildness', 'of'): 1,\n",
       "          ('her', 'temper'): 4,\n",
       "          ('temper', 'had'): 2,\n",
       "          ('had', 'hardly'): 3,\n",
       "          ('hardly', 'allowed'): 1,\n",
       "          ('allowed', 'her'): 5,\n",
       "          ('to', 'impose'): 1,\n",
       "          ('impose', 'any'): 1,\n",
       "          ('any', 'restraint'): 2,\n",
       "          ('restraint', ';'): 1,\n",
       "          ('and', 'the'): 218,\n",
       "          ('the', 'shadow'): 1,\n",
       "          ('shadow', 'of'): 1,\n",
       "          ('of', 'authority'): 1,\n",
       "          ('authority', 'being'): 1,\n",
       "          ('being', 'now'): 4,\n",
       "          ('now', 'long'): 1,\n",
       "          ('long', 'passed'): 2,\n",
       "          ('passed', 'away'): 6,\n",
       "          ('away', ','): 25,\n",
       "          (',', 'they'): 42,\n",
       "          ('they', 'had'): 35,\n",
       "          ('been', 'living'): 1,\n",
       "          ('living', 'together'): 2,\n",
       "          ('together', 'as'): 3,\n",
       "          ('as', 'friend'): 1,\n",
       "          ('friend', 'and'): 8,\n",
       "          ('and', 'friend'): 2,\n",
       "          ('friend', 'very'): 2,\n",
       "          ('very', 'mutually'): 2,\n",
       "          ('mutually', 'attached'): 1,\n",
       "          ('attached', ','): 2,\n",
       "          ('and', 'Emma'): 65,\n",
       "          ('Emma', 'doing'): 1,\n",
       "          ('doing', 'just'): 2,\n",
       "          ('just', 'what'): 14,\n",
       "          ('what', 'she'): 46,\n",
       "          ('she', 'liked'): 4,\n",
       "          ('liked', ';'): 1,\n",
       "          (';', 'highly'): 2,\n",
       "          ('highly', 'esteeming'): 1,\n",
       "          ('esteeming', 'Miss'): 1,\n",
       "          ('Taylor', \"'\"): 8,\n",
       "          ('s', 'judgment'): 2,\n",
       "          ('judgment', ','): 8,\n",
       "          ('but', 'directed'): 1,\n",
       "          ('directed', 'chiefly'): 1,\n",
       "          ('chiefly', 'by'): 1,\n",
       "          ('by', 'her'): 43,\n",
       "          ('her', 'own'): 129,\n",
       "          ('own', '.'): 15,\n",
       "          ('.', 'The'): 252,\n",
       "          ('The', 'real'): 1,\n",
       "          ('real', 'evils'): 1,\n",
       "          ('evils', ','): 2,\n",
       "          (',', 'indeed'): 87,\n",
       "          ('indeed', ','): 55,\n",
       "          (',', 'of'): 106,\n",
       "          ('Emma', \"'\"): 80,\n",
       "          ('s', 'situation'): 8,\n",
       "          ('situation', 'were'): 1,\n",
       "          ('were', 'the'): 19,\n",
       "          ('the', 'power'): 13,\n",
       "          ('power', 'of'): 18,\n",
       "          ('of', 'having'): 26,\n",
       "          ('having', 'rather'): 1,\n",
       "          ('rather', 'too'): 6,\n",
       "          ('too', 'much'): 42,\n",
       "          ('much', 'her'): 3,\n",
       "          ('own', 'way'): 7,\n",
       "          ('way', ','): 26,\n",
       "          ('and', 'a'): 81,\n",
       "          ('a', 'disposition'): 4,\n",
       "          ('disposition', 'to'): 4,\n",
       "          ('to', 'think'): 68,\n",
       "          ('think', 'a'): 4,\n",
       "          ('a', 'little'): 144,\n",
       "          ('little', 'too'): 4,\n",
       "          ('too', 'well'): 7,\n",
       "          ('well', 'of'): 9,\n",
       "          ('of', 'herself'): 10,\n",
       "          ('herself', ';'): 18,\n",
       "          (';', 'these'): 2,\n",
       "          ('these', 'were'): 1,\n",
       "          ('the', 'disadvantages'): 1,\n",
       "          ('disadvantages', 'which'): 1,\n",
       "          ('which', 'threatened'): 1,\n",
       "          ('threatened', 'alloy'): 1,\n",
       "          ('alloy', 'to'): 1,\n",
       "          ('to', 'her'): 185,\n",
       "          ('her', 'many'): 2,\n",
       "          ('many', 'enjoyments'): 1,\n",
       "          ('enjoyments', '.'): 1,\n",
       "          ('The', 'danger'): 2,\n",
       "          ('danger', ','): 5,\n",
       "          (',', 'however'): 101,\n",
       "          ('however', ','): 93,\n",
       "          (',', 'was'): 171,\n",
       "          ('was', 'at'): 24,\n",
       "          ('at', 'present'): 29,\n",
       "          ('present', 'so'): 2,\n",
       "          ('so', 'unperceived'): 1,\n",
       "          ('unperceived', ','): 1,\n",
       "          (',', 'that'): 359,\n",
       "          ('that', 'they'): 33,\n",
       "          ('they', 'did'): 9,\n",
       "          ('did', 'not'): 178,\n",
       "          ('not', 'by'): 9,\n",
       "          ('by', 'any'): 30,\n",
       "          ('any', 'means'): 7,\n",
       "          ('means', 'rank'): 1,\n",
       "          ('rank', 'as'): 2,\n",
       "          ('as', 'misfortunes'): 1,\n",
       "          ('misfortunes', 'with'): 1,\n",
       "          ('with', 'her'): 104,\n",
       "          ('.', 'Sorrow'): 1,\n",
       "          ('Sorrow', 'came'): 1,\n",
       "          ('came', '--'): 3,\n",
       "          ('--', 'a'): 40,\n",
       "          ('a', 'gentle'): 3,\n",
       "          ('gentle', 'sorrow'): 1,\n",
       "          ('sorrow', '--'): 1,\n",
       "          ('--', 'but'): 139,\n",
       "          ('but', 'not'): 27,\n",
       "          ('not', 'at'): 34,\n",
       "          ('at', 'all'): 117,\n",
       "          ('all', 'in'): 20,\n",
       "          ('the', 'shape'): 2,\n",
       "          ('shape', 'of'): 3,\n",
       "          ('of', 'any'): 48,\n",
       "          ('any', 'disagreeable'): 1,\n",
       "          ('disagreeable', 'consciousness'): 1,\n",
       "          ('consciousness', '.--'): 1,\n",
       "          ('.--', 'Miss'): 5,\n",
       "          ('Taylor', 'married'): 1,\n",
       "          ('married', '.'): 7,\n",
       "          ('.', 'It'): 266,\n",
       "          ('It', 'was'): 160,\n",
       "          ('was', 'Miss'): 1,\n",
       "          ('s', 'loss'): 3,\n",
       "          ('loss', 'which'): 1,\n",
       "          ('which', 'first'): 1,\n",
       "          ('first', 'brought'): 1,\n",
       "          ('brought', 'grief'): 1,\n",
       "          ('grief', '.'): 1,\n",
       "          ('was', 'on'): 8,\n",
       "          ('on', 'the'): 146,\n",
       "          ('the', 'wedding'): 4,\n",
       "          ('wedding', '-'): 9,\n",
       "          ('-', 'day'): 31,\n",
       "          ('day', 'of'): 10,\n",
       "          ('of', 'this'): 55,\n",
       "          ('this', 'beloved'): 1,\n",
       "          ('beloved', 'friend'): 1,\n",
       "          ('friend', 'that'): 2,\n",
       "          ('that', 'Emma'): 24,\n",
       "          ('Emma', 'first'): 2,\n",
       "          ('first', 'sat'): 1,\n",
       "          ('sat', 'in'): 1,\n",
       "          ('in', 'mournful'): 1,\n",
       "          ('mournful', 'thought'): 1,\n",
       "          ('thought', 'of'): 35,\n",
       "          ('any', 'continuance'): 1,\n",
       "          ('continuance', '.'): 1,\n",
       "          ('The', 'wedding'): 3,\n",
       "          ('wedding', 'over'): 1,\n",
       "          ('over', ','): 19,\n",
       "          ('the', 'bride'): 2,\n",
       "          ('bride', '-'): 1,\n",
       "          ('-', 'people'): 1,\n",
       "          ('people', 'gone'): 1,\n",
       "          ('gone', ','): 11,\n",
       "          (',', 'her'): 48,\n",
       "          ('her', 'father'): 89,\n",
       "          ('father', 'and'): 14,\n",
       "          ('and', 'herself'): 7,\n",
       "          ('herself', 'were'): 1,\n",
       "          ('were', 'left'): 5,\n",
       "          ('left', 'to'): 10,\n",
       "          ('to', 'dine'): 6,\n",
       "          ('dine', 'together'): 1,\n",
       "          ('together', ','): 18,\n",
       "          ('with', 'no'): 11,\n",
       "          ('no', 'prospect'): 1,\n",
       "          ('prospect', 'of'): 9,\n",
       "          ('a', 'third'): 2,\n",
       "          ('third', 'to'): 1,\n",
       "          ('to', 'cheer'): 4,\n",
       "          ('cheer', 'a'): 1,\n",
       "          ('a', 'long'): 10,\n",
       "          ('long', 'evening'): 1,\n",
       "          ('evening', '.'): 7,\n",
       "          ('Her', 'father'): 9,\n",
       "          ('father', 'composed'): 1,\n",
       "          ('composed', 'himself'): 1,\n",
       "          ('himself', 'to'): 8,\n",
       "          ('to', 'sleep'): 2,\n",
       "          ('sleep', 'after'): 1,\n",
       "          ('after', 'dinner'): 9,\n",
       "          ('dinner', ','): 21,\n",
       "          (',', 'as'): 289,\n",
       "          ('as', 'usual'): 11,\n",
       "          ('usual', ','): 11,\n",
       "          ('and', 'she'): 111,\n",
       "          ('she', 'had'): 254,\n",
       "          ('had', 'then'): 4,\n",
       "          ('then', 'only'): 2,\n",
       "          ('only', 'to'): 22,\n",
       "          ('to', 'sit'): 16,\n",
       "          ('sit', 'and'): 5,\n",
       "          ('and', 'think'): 5,\n",
       "          ('think', 'of'): 69,\n",
       "          ('of', 'what'): 42,\n",
       "          ('had', 'lost'): 3,\n",
       "          ('lost', '.'): 2,\n",
       "          ('The', 'event'): 4,\n",
       "          ('event', 'had'): 3,\n",
       "          ('had', 'every'): 2,\n",
       "          ('every', 'promise'): 1,\n",
       "          ('promise', 'of'): 2,\n",
       "          ('of', 'happiness'): 6,\n",
       "          ('happiness', 'for'): 1,\n",
       "          ('her', 'friend'): 41,\n",
       "          ('friend', '.'): 21,\n",
       "          ('.', 'Mr'): 128,\n",
       "          ('.', 'Weston'): 426,\n",
       "          ('Weston', 'was'): 35,\n",
       "          ('was', 'a'): 147,\n",
       "          ('a', 'man'): 49,\n",
       "          ('man', 'of'): 13,\n",
       "          ('of', 'unexceptionable'): 1,\n",
       "          ('unexceptionable', 'character'): 1,\n",
       "          ('character', ','): 13,\n",
       "          (',', 'easy'): 2,\n",
       "          ('easy', 'fortune'): 1,\n",
       "          ('fortune', ','): 14,\n",
       "          (',', 'suitable'): 2,\n",
       "          ('suitable', 'age'): 1,\n",
       "          ('age', ','): 10,\n",
       "          ('and', 'pleasant'): 4,\n",
       "          ('pleasant', 'manners'): 1,\n",
       "          ('manners', ';'): 2,\n",
       "          ('and', 'there'): 30,\n",
       "          ('there', 'was'): 99,\n",
       "          ('was', 'some'): 4,\n",
       "          ('some', 'satisfaction'): 1,\n",
       "          ('satisfaction', 'in'): 4,\n",
       "          ('in', 'considering'): 1,\n",
       "          ('considering', 'with'): 1,\n",
       "          ('with', 'what'): 11,\n",
       "          ('what', 'self'): 1,\n",
       "          ('self', '-'): 18,\n",
       "          ('-', 'denying'): 1,\n",
       "          ('denying', ','): 1,\n",
       "          (',', 'generous'): 3,\n",
       "          ('generous', 'friendship'): 1,\n",
       "          ('friendship', 'she'): 1,\n",
       "          ('had', 'always'): 13,\n",
       "          ('always', 'wished'): 2,\n",
       "          ('wished', 'and'): 1,\n",
       "          ('and', 'promoted'): 1,\n",
       "          ('promoted', 'the'): 1,\n",
       "          ('the', 'match'): 13,\n",
       "          ('match', ';'): 2,\n",
       "          (';', 'but'): 427,\n",
       "          ('but', 'it'): 75,\n",
       "          ('a', 'black'): 1,\n",
       "          ('black', 'morning'): 1,\n",
       "          ('morning', \"'\"): 3,\n",
       "          ('s', 'work'): 1,\n",
       "          ('work', 'for'): 2,\n",
       "          ('The', 'want'): 2,\n",
       "          ('want', 'of'): 32,\n",
       "          ('of', 'Miss'): 36,\n",
       "          ('Taylor', 'would'): 1,\n",
       "          ('would', 'be'): 215,\n",
       "          ('be', 'felt'): 4,\n",
       "          ('felt', 'every'): 2,\n",
       "          ('every', 'hour'): 3,\n",
       "          ('hour', 'of'): 12,\n",
       "          ('of', 'every'): 40,\n",
       "          ('every', 'day'): 16,\n",
       "          ('day', '.'): 18,\n",
       "          ('She', 'recalled'): 1,\n",
       "          ('recalled', 'her'): 1,\n",
       "          ('her', 'past'): 3,\n",
       "          ('past', 'kindness'): 1,\n",
       "          ('kindness', '--'): 2,\n",
       "          ('--', 'the'): 25,\n",
       "          ('the', 'kindness'): 5,\n",
       "          ('kindness', ','): 10,\n",
       "          ('the', 'affection'): 3,\n",
       "          ('affection', 'of'): 3,\n",
       "          ('of', 'sixteen'): 1,\n",
       "          ('sixteen', 'years'): 3,\n",
       "          ('years', '--'): 2,\n",
       "          ('--', 'how'): 12,\n",
       "          ('how', 'she'): 15,\n",
       "          ('had', 'taught'): 2,\n",
       "          ('taught', 'and'): 1,\n",
       "          ('and', 'how'): 19,\n",
       "          ('had', 'played'): 1,\n",
       "          ('played', 'with'): 1,\n",
       "          ('her', 'from'): 19,\n",
       "          ('from', 'five'): 1,\n",
       "          ('five', 'years'): 2,\n",
       "          ('years', 'old'): 10,\n",
       "          ('old', '--'): 1,\n",
       "          ('had', 'devoted'): 1,\n",
       "          ('devoted', 'all'): 1,\n",
       "          ('all', 'her'): 46,\n",
       "          ('her', 'powers'): 2,\n",
       "          ('powers', 'to'): 1,\n",
       "          ('to', 'attach'): 4,\n",
       "          ('attach', 'and'): 1,\n",
       "          ('and', 'amuse'): 3,\n",
       "          ('amuse', 'her'): 3,\n",
       "          ('her', 'in'): 39,\n",
       "          ('in', 'health'): 2,\n",
       "          ('health', '--'): 3,\n",
       "          ('--', 'and'): 243,\n",
       "          ('how', 'nursed'): 1,\n",
       "          ('nursed', 'her'): 1,\n",
       "          ('her', 'through'): 2,\n",
       "          ('through', 'the'): 20,\n",
       "          ('the', 'various'): 1,\n",
       "          ('various', 'illnesses'): 1,\n",
       "          ('illnesses', 'of'): 1,\n",
       "          ('of', 'childhood'): 1,\n",
       "          ('childhood', '.'): 1,\n",
       "          ('.', 'A'): 82,\n",
       "          ('A', 'large'): 2,\n",
       "          ('large', 'debt'): 1,\n",
       "          ('debt', 'of'): 1,\n",
       "          ('of', 'gratitude'): 4,\n",
       "          ('gratitude', 'was'): 1,\n",
       "          ('was', 'owing'): 2,\n",
       "          ('owing', 'here'): 1,\n",
       "          ('here', ';'): 2,\n",
       "          ('but', 'the'): 43,\n",
       "          ('the', 'intercourse'): 1,\n",
       "          ('intercourse', 'of'): 2,\n",
       "          ('the', 'last'): 23,\n",
       "          ('last', 'seven'): 1,\n",
       "          ('seven', 'years'): 2,\n",
       "          ('years', ','): 4,\n",
       "          ('the', 'equal'): 2,\n",
       "          ('equal', 'footing'): 2,\n",
       "          ('footing', 'and'): 1,\n",
       "          ('and', 'perfect'): 2,\n",
       "          ('perfect', 'unreserve'): 1,\n",
       "          ('unreserve', 'which'): 2,\n",
       "          ('which', 'had'): 24,\n",
       "          ('had', 'soon'): 6,\n",
       "          ('soon', 'followed'): 5,\n",
       "          ('followed', 'Isabella'): 1,\n",
       "          ('Isabella', \"'\"): 13,\n",
       "          (',', 'on'): 68,\n",
       "          ('on', 'their'): 5,\n",
       "          ('their', 'being'): 11,\n",
       "          ('being', 'left'): 2,\n",
       "          ('to', 'each'): 8,\n",
       "          ('each', 'other'): 23,\n",
       "          ('other', ','): 22,\n",
       "          ('was', 'yet'): 5,\n",
       "          ('yet', 'a'): 1,\n",
       "          ('a', 'dearer'): 1,\n",
       "          ('dearer', ','): 3,\n",
       "          (',', 'tenderer'): 1,\n",
       "          ('tenderer', 'recollection'): 1,\n",
       "          ('recollection', '.'): 1,\n",
       "          ('She', 'had'): 78,\n",
       "          ('been', 'a'): 45,\n",
       "          ('and', 'companion'): 1,\n",
       "          ('companion', 'such'): 1,\n",
       "          ('such', 'as'): 13,\n",
       "          ('as', 'few'): 2,\n",
       "          ('few', 'possessed'): 1,\n",
       "          ('possessed', ':'): 1,\n",
       "          (':', 'intelligent'): 1,\n",
       "          ('intelligent', ','): 2,\n",
       "          (',', 'well'): 14,\n",
       "          ('well', '-'): 19,\n",
       "          ('-', 'informed'): 3,\n",
       "          ('informed', ','): 2,\n",
       "          (',', 'useful'): 2,\n",
       "          ('useful', ','): 4,\n",
       "          (',', 'gentle'): 3,\n",
       "          ('gentle', ','): 2,\n",
       "          (',', 'knowing'): 3,\n",
       "          ('knowing', 'all'): 1,\n",
       "          ('all', 'the'): 164,\n",
       "          ('the', 'ways'): 3,\n",
       "          ('ways', 'of'): 5,\n",
       "          ('the', 'family'): 15,\n",
       "          (',', 'interested'): 1,\n",
       "          ('interested', 'in'): 5,\n",
       "          ('in', 'all'): 25,\n",
       "          ('all', 'its'): 2,\n",
       "          ('its', 'concerns'): 1,\n",
       "          ('concerns', ','): 1,\n",
       "          ('and', 'peculiarly'): 1,\n",
       "          ('peculiarly', 'interested'): 1,\n",
       "          ('in', 'herself'): 6,\n",
       "          ('herself', ','): 74,\n",
       "          ('in', 'every'): 26,\n",
       "          ('every', 'pleasure'): 1,\n",
       "          ('pleasure', ','): 22,\n",
       "          (',', 'every'): 21,\n",
       "          ('every', 'scheme'): 1,\n",
       "          ('scheme', 'of'): 2,\n",
       "          ('of', 'hers'): 4,\n",
       "          ('hers', '--'): 1,\n",
       "          ('--', 'one'): 7,\n",
       "          ('one', 'to'): 4,\n",
       "          ('to', 'whom'): 19,\n",
       "          ('whom', 'she'): 19,\n",
       "          ('she', 'could'): 138,\n",
       "          ('could', 'speak'): 4,\n",
       "          ('speak', 'every'): 1,\n",
       "          ('every', 'thought'): 2,\n",
       "          ('thought', 'as'): 1,\n",
       "          ('as', 'it'): 39,\n",
       "          ('it', 'arose'): 1,\n",
       "          ('arose', ','): 2,\n",
       "          ('and', 'who'): 17,\n",
       "          ('had', 'such'): 7,\n",
       "          ('such', 'an'): 54,\n",
       "          ('an', 'affection'): 3,\n",
       "          ('affection', 'for'): 4,\n",
       "          ('her', 'as'): 18,\n",
       "          ('as', 'could'): 6,\n",
       "          ('could', 'never'): 14,\n",
       "          ('never', 'find'): 1,\n",
       "          ('find', 'fault'): 3,\n",
       "          ('fault', '.'): 3,\n",
       "          ('.', 'How'): 39,\n",
       "          ('How', 'was'): 2,\n",
       "          ('was', 'she'): 6,\n",
       "          ('she', 'to'): 5,\n",
       "          ('to', 'bear'): 9,\n",
       "          ('bear', 'the'): 3,\n",
       "          ('the', 'change'): 9,\n",
       "          ('change', '?--'): 1,\n",
       "          ('?--', 'It'): 5,\n",
       "          ('was', 'true'): 2,\n",
       "          ('true', 'that'): 2,\n",
       "          ('that', 'her'): 26,\n",
       "          ('friend', 'was'): 4,\n",
       "          ('was', 'going'): 16,\n",
       "          ('going', 'only'): 1,\n",
       "          ('only', 'half'): 4,\n",
       "          ('half', 'a'): 35,\n",
       "          ('a', 'mile'): 11,\n",
       "          ('mile', 'from'): 3,\n",
       "          ('from', 'them'): 10,\n",
       "          ('them', ';'): 16,\n",
       "          ('but', 'Emma'): 16,\n",
       "          ('Emma', 'was'): 64,\n",
       "          ('was', 'aware'): 4,\n",
       "          ('aware', 'that'): 3,\n",
       "          ('that', 'great'): 1,\n",
       "          ('great', 'must'): 1,\n",
       "          ('must', 'be'): 181,\n",
       "          ('be', 'the'): 69,\n",
       "          ('the', 'difference'): 10,\n",
       "          ('difference', 'between'): 3,\n",
       "          ('between', 'a'): 1,\n",
       "          ('a', 'Mrs'): 3,\n",
       "          ('Mrs', '.'): 699,\n",
       "          ('Weston', ','): 108,\n",
       "          (',', 'only'): 11,\n",
       "          ('them', ','): 71,\n",
       "          ('a', 'Miss'): 4,\n",
       "          ('Taylor', 'in'): 1,\n",
       "          ('the', 'house'): 46,\n",
       "          ('house', ';'): 8,\n",
       "          ('and', 'with'): 42,\n",
       "          ('with', 'all'): 47,\n",
       "          ('her', 'advantages'): 1,\n",
       "          ('advantages', ','): 2,\n",
       "          (',', 'natural'): 3,\n",
       "          ('natural', 'and'): 6,\n",
       "          ('and', 'domestic'): 1,\n",
       "          ('domestic', ','): 2,\n",
       "          (',', 'she'): 304,\n",
       "          ('she', 'was'): 218,\n",
       "          ('was', 'now'): 31,\n",
       "          ('now', 'in'): 9,\n",
       "          ('in', 'great'): 7,\n",
       "          ('great', 'danger'): 1,\n",
       "          ('danger', 'of'): 19,\n",
       "          ('of', 'suffering'): 2,\n",
       "          ('suffering', 'from'): 3,\n",
       "          ('from', 'intellectual'): 1,\n",
       "          ('intellectual', 'solitude'): 1,\n",
       "          ('solitude', '.'): 1,\n",
       "          ('She', 'dearly'): 1,\n",
       "          ('dearly', 'loved'): 1,\n",
       "          ('loved', 'her'): 8,\n",
       "          ('father', ','): 36,\n",
       "          ('but', 'he'): 43,\n",
       "          ('he', 'was'): 158,\n",
       "          ('was', 'no'): 48,\n",
       "          ('no', 'companion'): 1,\n",
       "          ('companion', 'for'): 4,\n",
       "          ('.', 'He'): 303,\n",
       "          ('He', 'could'): 13,\n",
       "          ('could', 'not'): 277,\n",
       "          ('not', 'meet'): 2,\n",
       "          ('meet', 'her'): 2,\n",
       "          ('in', 'conversation'): 4,\n",
       "          ('conversation', ','): 12,\n",
       "          (',', 'rational'): 3,\n",
       "          ('rational', 'or'): 1,\n",
       "          ('or', 'playful'): 1,\n",
       "          ('playful', '.'): 1,\n",
       "          ('The', 'evil'): 3,\n",
       "          ('evil', 'of'): 4,\n",
       "          ('the', 'actual'): 2,\n",
       "          ('actual', 'disparity'): 1,\n",
       "          ('disparity', 'in'): 1,\n",
       "          ('in', 'their'): 33,\n",
       "          ('their', 'ages'): 2,\n",
       "          ('ages', '('): 1,\n",
       "          ('(', 'and'): 4,\n",
       "          ('and', 'Mr'): 78,\n",
       "          ('Woodhouse', 'had'): 9,\n",
       "          ('had', 'not'): 111,\n",
       "          ('not', 'married'): 2,\n",
       "          ('married', 'early'): 1,\n",
       "          ('early', ')'): 1,\n",
       "          (')', 'was'): 2,\n",
       "          ('was', 'much'): 6,\n",
       "          ('much', 'increased'): 2,\n",
       "          ('increased', 'by'): 3,\n",
       "          ('by', 'his'): 19,\n",
       "          ('his', 'constitution'): 3,\n",
       "          ('constitution', 'and'): 1,\n",
       "          ('and', 'habits'): 2,\n",
       "          ('habits', ';'): 2,\n",
       "          (';', 'for'): 69,\n",
       "          ('for', 'having'): 12,\n",
       "          ('having', 'been'): 5,\n",
       "          ('a', 'valetudinarian'): 1,\n",
       "          ('valetudinarian', 'all'): 1,\n",
       "          ('all', 'his'): 16,\n",
       "          ('his', 'life'): 16,\n",
       "          ('life', ','): 12,\n",
       "          (',', 'without'): 64,\n",
       "          ('without', 'activity'): 1,\n",
       "          ('activity', 'of'): 1,\n",
       "          ('of', 'mind'): 26,\n",
       "          ('mind', 'or'): 3,\n",
       "          ('or', 'body'): 1,\n",
       "          ('body', ','): 16,\n",
       "          (',', 'he'): 202,\n",
       "          ('a', 'much'): 12,\n",
       "          ('much', 'older'): 1,\n",
       "          ('older', 'man'): 1,\n",
       "          ('man', 'in'): 7,\n",
       "          ('in', 'ways'): 1,\n",
       "          ('ways', 'than'): 1,\n",
       "          ('than', 'in'): 7,\n",
       "          ('in', 'years'): 1,\n",
       "          ('years', ';'): 2,\n",
       "          ('and', 'though'): 34,\n",
       "          ('though', 'everywhere'): 1,\n",
       "          ('everywhere', 'beloved'): 1,\n",
       "          ('beloved', 'for'): 1,\n",
       "          ('for', 'the'): 166,\n",
       "          ('the', 'friendliness'): 1,\n",
       "          ('friendliness', 'of'): 1,\n",
       "          ('his', 'heart'): 5,\n",
       "          ('heart', 'and'): 6,\n",
       "          ('and', 'his'): 63,\n",
       "          ('his', 'amiable'): 1,\n",
       "          ('amiable', 'temper'): 1,\n",
       "          ('temper', ','): 7,\n",
       "          (',', 'his'): 28,\n",
       "          ('his', 'talents'): 1,\n",
       "          ('talents', 'could'): 1,\n",
       "          ('not', 'have'): 97,\n",
       "          ('have', 'recommended'): 1,\n",
       "          ('recommended', 'him'): 1,\n",
       "          ('him', 'at'): 17,\n",
       "          ('at', 'any'): 23,\n",
       "          ('any', 'time'): 12,\n",
       "          ('time', '.'): 26,\n",
       "          ('Her', 'sister'): 1,\n",
       "          ('sister', ','): 7,\n",
       "          (',', 'though'): 94,\n",
       "          ('though', 'comparatively'): 1,\n",
       "          ('comparatively', 'but'): 1,\n",
       "          ('but', 'little'): 2,\n",
       "          ('little', 'removed'): 1,\n",
       "          ('removed', 'by'): 1,\n",
       "          ('by', 'matrimony'): 1,\n",
       "          ('matrimony', ','): 1,\n",
       "          (',', 'being'): 13,\n",
       "          ('being', 'settled'): 2,\n",
       "          ('settled', 'in'): 4,\n",
       "          ('in', 'London'): 19,\n",
       "          ('London', ','): 19,\n",
       "          ('only', 'sixteen'): 1,\n",
       "          ('sixteen', 'miles'): 4,\n",
       "          ('miles', 'off'): 2,\n",
       "          ('off', ','): 16,\n",
       "          ('much', 'beyond'): 7,\n",
       "          ('beyond', 'her'): 4,\n",
       "          ('her', 'daily'): 1,\n",
       "          ('daily', 'reach'): 1,\n",
       "          ('reach', ';'): 1,\n",
       "          ('and', 'many'): 3,\n",
       "          ('many', 'a'): 7,\n",
       "          ('long', 'October'): 1,\n",
       "          ('October', 'and'): 1,\n",
       "          ('and', 'November'): 1,\n",
       "          ('November', 'evening'): 1,\n",
       "          ('evening', 'must'): 1,\n",
       "          ('be', 'struggled'): 1,\n",
       "          ('struggled', 'through'): 1,\n",
       "          ('through', 'at'): 1,\n",
       "          ('at', 'Hartfield'): 66,\n",
       "          ('Hartfield', ','): 55,\n",
       "          (',', 'before'): 33,\n",
       "          ('before', 'Christmas'): 1,\n",
       "          ('Christmas', 'brought'): 1,\n",
       "          ('brought', 'the'): 5,\n",
       "          ('the', 'next'): 29,\n",
       "          ('next', 'visit'): 1,\n",
       "          ('visit', 'from'): 6,\n",
       "          ('from', 'Isabella'): 1,\n",
       "          ('Isabella', 'and'): 4,\n",
       "          ('her', 'husband'): 21,\n",
       "          ('husband', ','): 8,\n",
       "          ('and', 'their'): 10,\n",
       "          ('their', 'little'): 7,\n",
       "          ('little', 'children'): 2,\n",
       "          ('children', ','): 17,\n",
       "          (',', 'to'): 263,\n",
       "          ('to', 'fill'): 2,\n",
       "          ('fill', 'the'): 1,\n",
       "          ('house', ','): 27,\n",
       "          ('and', 'give'): 7,\n",
       "          ('give', 'her'): 13,\n",
       "          ('her', 'pleasant'): 2,\n",
       "          ('pleasant', 'society'): 1,\n",
       "          ('society', 'again'): 1,\n",
       "          ('again', '.'): 48,\n",
       "          ('.', 'Highbury'): 2,\n",
       "          ('Highbury', ','): 41,\n",
       "          ('the', 'large'): 5,\n",
       "          ('large', 'and'): 1,\n",
       "          ('and', 'populous'): 1,\n",
       "          ('populous', 'village'): 1,\n",
       "          ('village', ','): 2,\n",
       "          (',', 'almost'): 12,\n",
       "          ('almost', 'amounting'): 1,\n",
       "          ('amounting', 'to'): 1,\n",
       "          ('to', 'a'): 72,\n",
       "          ('a', 'town'): 1,\n",
       "          ('town', ','): 3,\n",
       "          ('to', 'which'): 8,\n",
       "          ('which', 'Hartfield'): 1,\n",
       "          ('in', 'spite'): 20,\n",
       "          ('spite', 'of'): 24,\n",
       "          ('of', 'its'): 37,\n",
       "          ('its', 'separate'): 1,\n",
       "          ('separate', 'lawn'): 1,\n",
       "          ('lawn', ','): 2,\n",
       "          ('and', 'shrubberies'): 1,\n",
       "          ('shrubberies', ','): 1,\n",
       "          ('and', 'name'): 1,\n",
       "          ('name', ','): 11,\n",
       "          (',', 'did'): 16,\n",
       "          ('did', 'really'): 3,\n",
       "          ('really', 'belong'): 1,\n",
       "          ('belong', ','): 1,\n",
       "          (',', 'afforded'): 2,\n",
       "          ('afforded', 'her'): 3,\n",
       "          ('her', 'no'): 4,\n",
       "          ('no', 'equals'): 1,\n",
       "          ('equals', '.'): 1,\n",
       "          ('The', 'Woodhouses'): 1,\n",
       "          ('Woodhouses', 'were'): 1,\n",
       "          ('were', 'first'): 2,\n",
       "          ('first', 'in'): 10,\n",
       "          ('consequence', 'there'): 1,\n",
       "          ('there', '.'): 12,\n",
       "          ('.', 'All'): 7,\n",
       "          ('All', 'looked'): 1,\n",
       "          ('looked', 'up'): 8,\n",
       "          ('up', 'to'): 17,\n",
       "          ('to', 'them'): 28,\n",
       "          ('them', '.'): 47,\n",
       "          ('had', 'many'): 5,\n",
       "          ('many', 'acquaintance'): 1,\n",
       "          ('acquaintance', 'in'): 3,\n",
       "          ('the', 'place'): 25,\n",
       "          ('place', ','): 25,\n",
       "          (',', 'for'): 121,\n",
       "          ('father', 'was'): 6,\n",
       "          ('was', 'universally'): 2,\n",
       "          ('universally', 'civil'): 1,\n",
       "          ('civil', ','): 3,\n",
       "          ('not', 'one'): 11,\n",
       "          ('one', 'among'): 2,\n",
       "          ('among', 'them'): 8,\n",
       "          ('them', 'who'): 1,\n",
       "          ('who', 'could'): 13,\n",
       "          ('could', 'be'): 95,\n",
       "          ('be', 'accepted'): 1,\n",
       "          ('accepted', 'in'): 1,\n",
       "          ('in', 'lieu'): 1,\n",
       "          ('lieu', 'of'): 1,\n",
       "          ('Taylor', 'for'): 1,\n",
       "          ('for', 'even'): 3,\n",
       "          ('even', 'half'): 2,\n",
       "          ('a', 'day'): 20,\n",
       "          ('a', 'melancholy'): 4,\n",
       "          ('melancholy', 'change'): 2,\n",
       "          ('change', ';'): 4,\n",
       "          ('Emma', 'could'): 61,\n",
       "          ('not', 'but'): 20,\n",
       "          ('but', 'sigh'): 1,\n",
       "          ('sigh', 'over'): 1,\n",
       "          ('over', 'it'): 6,\n",
       "          ('it', ','): 163,\n",
       "          ('and', 'wish'): 3,\n",
       "          ('wish', 'for'): 9,\n",
       "          ('for', 'impossible'): 1,\n",
       "          ('impossible', 'things'): 1,\n",
       "          ('things', ','): 11,\n",
       "          (',', 'till'): 23,\n",
       "          ('till', 'her'): 3,\n",
       "          ('father', 'awoke'): 1,\n",
       "          ('awoke', ','): 1,\n",
       "          ('and', 'made'): 8,\n",
       "          ('made', 'it'): 13,\n",
       "          ('it', 'necessary'): 4,\n",
       "          ('necessary', 'to'): 13,\n",
       "          ('to', 'be'): 595,\n",
       "          ('be', 'cheerful'): 1,\n",
       "          ('cheerful', '.'): 1,\n",
       "          ('.', 'His'): 42,\n",
       "          ('His', 'spirits'): 1,\n",
       "          ('spirits', 'required'): 1,\n",
       "          ('required', 'support'): 1,\n",
       "          ('support', '.'): 1,\n",
       "          ('He', 'was'): 64,\n",
       "          ('a', 'nervous'): 4,\n",
       "          ('nervous', 'man'): 1,\n",
       "          ('man', ','): 52,\n",
       "          (',', 'easily'): 1,\n",
       "          ('easily', 'depressed'): 1,\n",
       "          ('depressed', ';'): 1,\n",
       "          (';', 'fond'): 1,\n",
       "          ('every', 'body'): 92,\n",
       "          ('body', 'that'): 2,\n",
       "          ('that', 'he'): 179,\n",
       "          ('was', 'used'): 3,\n",
       "          ('used', 'to'): 38,\n",
       "          ('to', ','): 24,\n",
       "          ('and', 'hating'): 1,\n",
       "          ('hating', 'to'): 1,\n",
       "          ('to', 'part'): 9,\n",
       "          ('part', 'with'): 9,\n",
       "          ('with', 'them'): 33,\n",
       "          (';', 'hating'): 1,\n",
       "          ('hating', 'change'): 1,\n",
       "          ('change', 'of'): 14,\n",
       "          ('every', 'kind'): 2,\n",
       "          ('kind', '.'): 3,\n",
       "          ('.', 'Matrimony'): 1,\n",
       "          ('Matrimony', ','): 1,\n",
       "          ('as', 'the'): 45,\n",
       "          ('the', 'origin'): 1,\n",
       "          ('origin', 'of'): 1,\n",
       "          ('of', 'change'): 2,\n",
       "          ('change', ','): 7,\n",
       "          ('was', 'always'): 24,\n",
       "          ('always', 'disagreeable'): 1,\n",
       "          ('disagreeable', ';'): 2,\n",
       "          ('and', 'he'): 70,\n",
       "          ('was', 'by'): 9,\n",
       "          ('by', 'no'): 15,\n",
       "          ('no', 'means'): 12,\n",
       "          ('means', 'yet'): 1,\n",
       "          ('yet', 'reconciled'): 1,\n",
       "          ('reconciled', 'to'): 3,\n",
       "          ('to', 'his'): 56,\n",
       "          ('his', 'own'): 78,\n",
       "          ('own', 'daughter'): 1,\n",
       "          ('daughter', \"'\"): 15,\n",
       "          ('s', 'marrying'): 7,\n",
       "          ('marrying', ','): 5,\n",
       "          (',', 'nor'): 38,\n",
       "          ('nor', 'could'): 3,\n",
       "          ('could', 'ever'): 5,\n",
       "          ('ever', 'speak'): 1,\n",
       "          ('speak', 'of'): 22,\n",
       "          ('her', 'but'): 1,\n",
       "          ('but', 'with'): 12,\n",
       "          ('with', 'compassion'): 2,\n",
       "          ('compassion', ','): 4,\n",
       "          ('though', 'it'): 12,\n",
       "          ('it', 'had'): 42,\n",
       "          ...})"
      ]
     },
     "execution_count": 23,
     "metadata": {},
     "output_type": "execute_result"
    }
   ],
   "source": [
    "e2gramfd"
   ]
  },
  {
   "cell_type": "markdown",
   "metadata": {},
   "source": [
    "# Question-5: Emma words not in list"
   ]
  },
  {
   "cell_type": "code",
   "execution_count": null,
   "metadata": {},
   "outputs": [],
   "source": [
    "[word for word in toke if word not in etoks]"
   ]
  },
  {
   "cell_type": "markdown",
   "metadata": {},
   "source": [
    "# Question 6: Bigrams "
   ]
  },
  {
   "cell_type": "code",
   "execution_count": 24,
   "metadata": {},
   "outputs": [
    {
     "data": {
      "text/plain": [
       "FreqDist({('.', 'FINIS'): 1,\n",
       "          ('answered', 'in'): 1,\n",
       "          ('fully', 'answered'): 1,\n",
       "          ('the', 'ceremony'): 1,\n",
       "          ('the', 'perfect'): 1,\n",
       "          ('the', 'union'): 1,\n",
       "          ('union', '.'): 1,\n",
       "          ('were', 'fully'): 1,\n",
       "          ('who', 'witnessed'): 1,\n",
       "          ('witnessed', 'the'): 1})"
      ]
     },
     "execution_count": 24,
     "metadata": {},
     "output_type": "execute_result"
    }
   ],
   "source": [
    "last_ten=FreqDist(dict(e2gramfd.most_common()[-10:]))\n",
    "last_ten"
   ]
  },
  {
   "cell_type": "markdown",
   "metadata": {},
   "source": [
    "# Question 7: Bigram top frequency"
   ]
  },
  {
   "cell_type": "code",
   "execution_count": 25,
   "metadata": {},
   "outputs": [],
   "source": [
    "tokenizer=nltk.tokenize.WhitespaceTokenizer()\n",
    "tokes=tokenizer.tokenize(etxt)"
   ]
  },
  {
   "cell_type": "code",
   "execution_count": 26,
   "metadata": {},
   "outputs": [],
   "source": [
    "e2grams=list(nltk.bigrams(toke))\n",
    "e2gramfd=nltk.FreqDist(e2grams)"
   ]
  },
  {
   "cell_type": "code",
   "execution_count": 27,
   "metadata": {},
   "outputs": [
    {
     "data": {
      "text/plain": [
       "[((',', 'and'), 1879),\n",
       " (('Mr', '.'), 1153),\n",
       " ((\"'\", 's'), 932),\n",
       " ((';', 'and'), 866),\n",
       " (('.\"', '\"'), 757),\n",
       " (('Mrs', '.'), 699),\n",
       " (('to', 'be'), 595),\n",
       " (('.', 'I'), 570),\n",
       " ((',', 'I'), 568),\n",
       " (('of', 'the'), 556),\n",
       " (('in', 'the'), 434),\n",
       " ((';', 'but'), 427),\n",
       " (('.', 'Weston'), 426),\n",
       " (('.', '\"'), 415),\n",
       " (('.', 'She'), 413),\n",
       " ((',', '\"'), 398),\n",
       " (('I', 'am'), 395),\n",
       " (('.', 'Elton'), 381),\n",
       " ((',', 'that'), 359),\n",
       " (('had', 'been'), 308)]"
      ]
     },
     "execution_count": 27,
     "metadata": {},
     "output_type": "execute_result"
    }
   ],
   "source": [
    "e2gramfd.most_common(20)"
   ]
  },
  {
   "cell_type": "markdown",
   "metadata": {},
   "source": [
    "# Question 8: Bigram frequency count "
   ]
  },
  {
   "cell_type": "code",
   "execution_count": 28,
   "metadata": {},
   "outputs": [
    {
     "name": "stdout",
     "output_type": "stream",
     "text": [
      "('so', 'happy') 4\n"
     ]
    }
   ],
   "source": [
    "for i,j in e2gramfd.items():\n",
    "    if i==('so','happy'):\n",
    "        print(i,j)"
   ]
  },
  {
   "cell_type": "markdown",
   "metadata": {},
   "source": [
    "# Question 9: Word following 'so' "
   ]
  },
  {
   "cell_type": "code",
   "execution_count": 29,
   "metadata": {},
   "outputs": [],
   "source": [
    "import re\n",
    "from collections import Counter"
   ]
  },
  {
   "cell_type": "code",
   "execution_count": 30,
   "metadata": {},
   "outputs": [
    {
     "name": "stdout",
     "output_type": "stream",
     "text": [
      "Counter({('so m',): 138, ('so v',): 78, ('so l',): 61, ('so s',): 61, ('so f',): 49, ('so w',): 43, ('so a',): 40, ('so p',): 36, ('so t',): 31, ('so e',): 31, ('so d',): 31, ('so g',): 31, ('so o',): 29, ('so c',): 29, ('so i',): 29, ('so h',): 25, ('so k',): 15, ('so n',): 15, ('so r',): 14, ('so I',): 14, ('so b',): 13, ('so u',): 7, ('so y',): 7, ('so j',): 2, ('so _',): 2, ('so q',): 2, ('so P',): 1})\n"
     ]
    }
   ],
   "source": [
    "words=re.findall(r'so+ \\w',open('austen-emma.txt').read())\n",
    "ab=Counter(zip(words))\n",
    "print(ab)"
   ]
  },
  {
   "cell_type": "markdown",
   "metadata": {},
   "source": [
    "# Question 10: Trigrams "
   ]
  },
  {
   "cell_type": "code",
   "execution_count": 31,
   "metadata": {},
   "outputs": [],
   "source": [
    "e3grams=list(nltk.trigrams(tokes))\n",
    "e3gramfd=nltk.FreqDist(e3grams)"
   ]
  },
  {
   "cell_type": "code",
   "execution_count": 32,
   "metadata": {},
   "outputs": [
    {
     "data": {
      "text/plain": [
       "FreqDist({('answered', 'in', 'the'): 1,\n",
       "          ('ceremony,', 'were', 'fully'): 1,\n",
       "          ('fully', 'answered', 'in'): 1,\n",
       "          ('in', 'the', 'perfect'): 1,\n",
       "          ('of', 'the', 'union.'): 1,\n",
       "          ('perfect', 'happiness', 'of'): 1,\n",
       "          ('the', 'ceremony,', 'were'): 1,\n",
       "          ('the', 'perfect', 'happiness'): 1,\n",
       "          ('the', 'union.', 'FINIS'): 1,\n",
       "          ('were', 'fully', 'answered'): 1})"
      ]
     },
     "execution_count": 32,
     "metadata": {},
     "output_type": "execute_result"
    }
   ],
   "source": [
    "last_ten=FreqDist(dict(e3gramfd.most_common()[-10:]))\n",
    "last_ten"
   ]
  },
  {
   "cell_type": "markdown",
   "metadata": {},
   "source": [
    "# Question 11: Trigram top frequency "
   ]
  },
  {
   "cell_type": "code",
   "execution_count": 33,
   "metadata": {},
   "outputs": [
    {
     "data": {
      "text/plain": [
       "[(('I', 'do', 'not'), 94),\n",
       " (('I', 'am', 'sure'), 75),\n",
       " (('would', 'have', 'been'), 55),\n",
       " (('a', 'great', 'deal'), 55),\n",
       " (('she', 'could', 'not'), 49),\n",
       " (('could', 'not', 'be'), 45),\n",
       " (('she', 'had', 'been'), 44),\n",
       " (('it', 'would', 'be'), 43),\n",
       " (('do', 'not', 'know'), 43),\n",
       " (('Mr.', 'and', 'Mrs.'), 37)]"
      ]
     },
     "execution_count": 33,
     "metadata": {},
     "output_type": "execute_result"
    }
   ],
   "source": [
    "e3gramfd.most_common(10)"
   ]
  },
  {
   "cell_type": "markdown",
   "metadata": {},
   "source": [
    "# Question 12: Trigram frequency count "
   ]
  },
  {
   "cell_type": "code",
   "execution_count": 34,
   "metadata": {},
   "outputs": [
    {
     "name": "stdout",
     "output_type": "stream",
     "text": [
      "[]\n"
     ]
    }
   ],
   "source": [
    "words1 = re.findall(r'so happy to \\w+', open('austen-emma.txt').read())\n",
    "print(words1)"
   ]
  }
 ],
 "metadata": {
  "kernelspec": {
   "display_name": "Python 3 (ipykernel)",
   "language": "python",
   "name": "python3"
  },
  "language_info": {
   "codemirror_mode": {
    "name": "ipython",
    "version": 3
   },
   "file_extension": ".py",
   "mimetype": "text/x-python",
   "name": "python",
   "nbconvert_exporter": "python",
   "pygments_lexer": "ipython3",
   "version": "3.9.12"
  }
 },
 "nbformat": 4,
 "nbformat_minor": 2
}
